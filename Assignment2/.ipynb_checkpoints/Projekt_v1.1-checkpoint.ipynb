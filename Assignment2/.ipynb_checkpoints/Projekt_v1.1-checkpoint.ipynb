{
 "cells": [
  {
   "cell_type": "code",
   "execution_count": 47,
   "id": "6182a94a",
   "metadata": {},
   "outputs": [
    {
     "name": "stdout",
     "output_type": "stream",
     "text": [
      "0.0\n",
      "0.0\n",
      "0\n",
      "1\n",
      "2\n",
      "deque([3, 4])\n"
     ]
    },
    {
     "data": {
      "text/plain": [
       "'\\nλ – the arrival rate into the system as a whole.\\nμ – the capacity of each of n equal servers.\\nρ represents the system load. In a single server system, it will be: ρ=λ/μ\\nIn a multi-server system (one queue with n equal servers, each with capacity μ), it will be\\nρ=λ/(nμ)\\n'"
      ]
     },
     "execution_count": 47,
     "metadata": {},
     "output_type": "execute_result"
    }
   ],
   "source": [
    "import math\n",
    "import numpy as np\n",
    "import matplotlib.pyplot as plt\n",
    "import simpy\n",
    "import scipy\n",
    "from collections import deque\n",
    "from scipy import stats\n",
    "\n",
    "loc_lambda = 2\n",
    "loc_mu = 3\n",
    "loc_n_servers = 5\n",
    "loc_ro = loc_lambda/(loc_mu*loc_n_servers)\n",
    "\n",
    "\n",
    "def customer_arrivals(env, theater):\n",
    "    \"\"\"Create new *moviegoers* until the sim time reaches 120.\"\"\"\n",
    "    while True:\n",
    "        yield env.timeout(random.expovariate(1 / 0.5))\n",
    "\n",
    "        #movie = random.choice(theater.movies)\n",
    "        num_tickets = random.randint(1, 6)\n",
    "\n",
    "\n",
    "\n",
    "\n",
    "queue = deque(np.zeros(2))\n",
    "for i in range(loc_n_servers):\n",
    "    queue.append(i)\n",
    "    print(queue.popleft())\n",
    "    \n",
    "print(queue)\n",
    "    \n",
    "    \n",
    "\"\"\"\n",
    "λ – the arrival rate into the system as a whole.\n",
    "μ – the capacity of each of n equal servers.\n",
    "ρ represents the system load. In a single server system, it will be: ρ=λ/μ\n",
    "In a multi-server system (one queue with n equal servers, each with capacity μ), it will be\n",
    "ρ=λ/(nμ)\n",
    "\"\"\""
   ]
  },
  {
   "cell_type": "code",
   "execution_count": null,
   "id": "f9b253c5",
   "metadata": {},
   "outputs": [],
   "source": []
  },
  {
   "cell_type": "code",
   "execution_count": 66,
   "id": "1d358b8a",
   "metadata": {},
   "outputs": [
    {
     "name": "stdout",
     "output_type": "stream",
     "text": [
      "Bank renege\n",
      "211\n",
      "201\n",
      "70\n",
      "85\n",
      "20\n",
      "18\n",
      "20\n",
      "5\n",
      "16\n",
      "0\n"
     ]
    }
   ],
   "source": [
    "\n",
    "import random\n",
    "\n",
    "import simpy\n",
    "import numpy as np\n",
    "\n",
    "\n",
    "#RANDOM_SEED = 42\n",
    "NEW_CUSTOMERS = 1000  # Total number of customers\n",
    "INTERVAL_CUSTOMERS_start =5.0  # Generate new customers roughly every x seconds\n",
    "MIN_PATIENCE = 1  # Min. customer patience\n",
    "MAX_PATIENCE = 3  # Max. customer patience\n",
    "Banktime = 5.0\n",
    "glo_waiting =[]\n",
    "glo_verbose =False\n",
    "\n",
    "\n",
    "def source(env, number, interval, counter):\n",
    "    \"\"\"Source generates customers randomly\"\"\"\n",
    "    #queuecount= 0\n",
    "    for i in range(number):\n",
    "        \n",
    "        #queuecount+= len(counter.queue)\n",
    "        c = customer(env, 'Customer%02d' % i, counter, time_in_bank=Banktime)\n",
    "        env.process(c)\n",
    "        t = random.expovariate(1.0 / interval)\n",
    "        yield env.timeout(t)\n",
    "    #print(queuecount)\n",
    "\n",
    "def customer(env, name, counter, time_in_bank):\n",
    "    \"\"\"Customer arrives, is served and leaves.\"\"\"\n",
    "    arrive = env.now\n",
    "    if glo_verbose ==True:\n",
    "        print('%7.4f %s: Here I am' % (arrive, name))\n",
    "\n",
    "    with counter.request() as req:\n",
    "        patience = random.uniform(MIN_PATIENCE, MAX_PATIENCE)\n",
    "        # Wait for the counter or abort at the end of our tether\n",
    "        results = yield req | env.timeout(patience)\n",
    "\n",
    "        wait = env.now - arrive\n",
    "\n",
    "        glo_waiting.append(wait)\n",
    "\n",
    "        if req in results:\n",
    "            # We got to the counter\n",
    "            if glo_verbose ==True:\n",
    "                print('%7.4f %s: Waited %6.3f' % (env.now, name, wait))\n",
    "            tib = random.expovariate(1.0 / time_in_bank)\n",
    "            yield env.timeout(tib)\n",
    "                \n",
    "            if glo_verbose ==True:\n",
    "                print('%7.4f %s: Finished' % (env.now, name))\n",
    "\n",
    "        else:\n",
    "            # We reneged\n",
    "            \n",
    "            if glo_verbose ==True:\n",
    "                print('%7.4f %s: RENEGED after %6.3f' % (env.now, name, wait))\n",
    "\n",
    "\n",
    "# Setup and start the simulation\n",
    "print('Bank renege')\n",
    "#random.seed(RANDOM_SEED)\n",
    "repeats = 1\n",
    "service_range = 5\n",
    "dim=2\n",
    "avg_waiting_times_col = np.zeros((repeats,service_range,dim))\n",
    "for j in range(repeats):\n",
    "    \n",
    "    avg_waiting_times  = np.zeros((service_range,dim))\n",
    "    for i in range(1,service_range+1):\n",
    "        INTERVAL_CUSTOMERS = INTERVAL_CUSTOMERS_start*i\n",
    "\n",
    "        glo_waiting = []\n",
    "        env = simpy.Environment()\n",
    "        # Start processes and run\n",
    "        counter = simpy.Resource(env, capacity=1)\n",
    "        env.process(source(env, NEW_CUSTOMERS, INTERVAL_CUSTOMERS, counter))\n",
    "        env.run()\n",
    "        avg_waiting_times[i-1][0] = np.mean(glo_waiting)\n",
    "        \n",
    "        \n",
    "        \n",
    "        INTERVAL_CUSTOMERS = INTERVAL_CUSTOMERS_start\n",
    "\n",
    "        glo_waiting = []\n",
    "        env = simpy.Environment()\n",
    "        # Start processes and run\n",
    "        #print(counter.count)\n",
    "        #print(counter.queue)\n",
    "        counter = simpy.Resource(env, capacity=i)\n",
    "        env.process(source(env, NEW_CUSTOMERS, INTERVAL_CUSTOMERS, counter))\n",
    "        env.run()\n",
    "        avg_waiting_times[i-1][1] = np.mean(glo_waiting)\n",
    "    avg_waiting_times_col[j] = avg_waiting_times\n",
    "    \n"
   ]
  },
  {
   "cell_type": "code",
   "execution_count": 65,
   "id": "e6876bec",
   "metadata": {},
   "outputs": [
    {
     "data": {
      "text/plain": [
       "array([[0.9714573 , 0.77399974, 0.48407491, 0.31323931, 0.41857597],\n",
       "       [1.01745303, 0.6114423 , 0.12158285, 0.0010756 , 0.01074742]])"
      ]
     },
     "execution_count": 65,
     "metadata": {},
     "output_type": "execute_result"
    }
   ],
   "source": [
    "np.mean(avg_waiting_times_col,axis=0).T"
   ]
  },
  {
   "cell_type": "code",
   "execution_count": 56,
   "id": "0bad84dc",
   "metadata": {},
   "outputs": [],
   "source": [
    "\n",
    "mean_area_estimate_ss = np.mean(avg_waiting_times_col,axis=0).T\n",
    "mean_area_estimate_mc = np.mean(avg_waiting_times_col,axis=0).T\n",
    "\n",
    "#Standard deviation of area estimation\n",
    "std_area_estimate_ss = np.std(avg_waiting_times_col,axis=0).T\n",
    "std_area_estimate_mc = np.std(avg_waiting_times_col,axis=0).T\n",
    "\n",
    "#Variance of area estimation\n",
    "var_area_estimate_ss = np.var(avg_waiting_times_col,axis=0).T\n",
    "var_area_estimate_mc = np.var(avg_waiting_times_col,axis=0).T\n",
    "\n",
    "#Welch's T test created from the slides in the lectures\n",
    "welch_t =abs(mean_area_estimate_ss- mean_area_estimate_mc)/np.sqrt(var_area_estimate_ss/repeats + var_area_estimate_mc/repeats)\n",
    "welch_df = np.divide(np.power(var_area_estimate_ss/repeats + var_area_estimate_mc/repeats,2),np.power(var_area_estimate_ss/repeats,2)/(repeats-1) + np.power(var_area_estimate_mc/repeats,2)/(repeats-1))\n",
    "welch_critical_value = [scipy.stats.t.ppf(q=1-.05,df=loc_welch_df) for loc_welch_df in welch_df]\n",
    "\n",
    "#formatting array\n",
    "x_axis = np.int_(np.arange(int(service_range)) +1)"
   ]
  },
  {
   "cell_type": "code",
   "execution_count": 57,
   "id": "2f1433d7",
   "metadata": {},
   "outputs": [
    {
     "data": {
      "image/png": "[encoded data removed]",
      "text/plain": [
       "<Figure size 432x288 with 1 Axes>"
      ]
     },
     "metadata": {
      "needs_background": "light"
     },
     "output_type": "display_data"
    }
   ],
   "source": [
    "\n",
    "fig, ax = plt.subplots(1)\n",
    "plt.plot(np.int_(x_axis),welch_t[0],\"g-\",label =\"Welch's T-value\")\n",
    "plt.plot(np.int_(x_axis),welch_critical_value[0],\"r-\",linewidth=3,label =\"Corresponding Critical Value\")\n",
    "#plt.title(\"Welch's T-test\", y=-0.2)\n",
    "plt.ylabel(\"T-Value\")\n",
    "plt.xlabel(\"Cycle\")\n",
    "plt.legend()\n",
    "plt.tight_layout()\n",
    "fig.savefig('welch_t_test_noTitle.png', dpi=300)\n",
    "plt.show()"
   ]
  },
  {
   "cell_type": "code",
   "execution_count": null,
   "id": "d5e5ae26",
   "metadata": {},
   "outputs": [],
   "source": []
  }
 ],
 "metadata": {
  "kernelspec": {
   "display_name": "Python 3 (ipykernel)",
   "language": "python",
   "name": "python3"
  },
  "language_info": {
   "codemirror_mode": {
    "name": "ipython",
    "version": 3
   },
   "file_extension": ".py",
   "mimetype": "text/x-python",
   "name": "python",
   "nbconvert_exporter": "python",
   "pygments_lexer": "ipython3",
   "version": "3.9.12"
  }
 },
 "nbformat": 4,
 "nbformat_minor": 5
}
