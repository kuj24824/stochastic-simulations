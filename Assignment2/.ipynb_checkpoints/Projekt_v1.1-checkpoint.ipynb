{
 "cells": [
  {
   "cell_type": "code",
   "execution_count": 12,
   "id": "6182a94a",
   "metadata": {},
   "outputs": [
    {
     "name": "stdout",
     "output_type": "stream",
     "text": [
      "0.0\n",
      "0.0\n",
      "0\n",
      "1\n",
      "2\n",
      "deque([3, 4])\n"
     ]
    },
    {
     "data": {
      "text/plain": [
       "'\\nλ – the arrival rate into the system as a whole.\\nμ – the capacity of each of n equal servers.\\nρ represents the system load. In a single server system, it will be: ρ=λ/μ\\nIn a multi-server system (one queue with n equal servers, each with capacity μ), it will be\\nρ=λ/(nμ)\\n'"
      ]
     },
     "execution_count": 12,
     "metadata": {},
     "output_type": "execute_result"
    }
   ],
   "source": [
    "import math\n",
    "import numpy as np\n",
    "import matplotlib.pyplot as plt\n",
    "import simpy\n",
    "import scipy\n",
    "from collections import deque\n",
    "from scipy import stats\n",
    "\n",
    "loc_lambda = 2\n",
    "loc_mu = 3\n",
    "loc_n_servers = 5\n",
    "loc_ro = loc_lambda/(loc_mu*loc_n_servers)\n",
    "\n",
    "\n",
    "def customer_arrivals(env, theater):\n",
    "    \"\"\"Create new *moviegoers* until the sim time reaches 120.\"\"\"\n",
    "    while True:\n",
    "        yield env.timeout(random.expovariate(1 / 0.5))\n",
    "\n",
    "        #movie = random.choice(theater.movies)\n",
    "        num_tickets = random.randint(1, 6)\n",
    "\n",
    "\n",
    "\n",
    "\n",
    "queue = deque(np.zeros(2))\n",
    "for i in range(loc_n_servers):\n",
    "    queue.append(i)\n",
    "    print(queue.popleft())\n",
    "    \n",
    "print(queue)\n",
    "    \n",
    "    \n",
    "\"\"\"\n",
    "λ – the arrival rate into the system as a whole.\n",
    "μ – the capacity of each of n equal servers.\n",
    "ρ represents the system load. In a single server system, it will be: ρ=λ/μ\n",
    "In a multi-server system (one queue with n equal servers, each with capacity μ), it will be\n",
    "ρ=λ/(nμ)\n",
    "\"\"\""
   ]
  },
  {
   "cell_type": "code",
   "execution_count": null,
   "id": "f9b253c5",
   "metadata": {},
   "outputs": [],
   "source": []
  },
  {
   "cell_type": "code",
   "execution_count": 13,
   "id": "1d358b8a",
   "metadata": {},
   "outputs": [],
   "source": [
    "\n",
    "import random\n",
    "\n",
    "import simpy\n",
    "import numpy as np\n",
    "\n",
    "\n",
    "#RANDOM_SEED = 42\n",
    "NEW_CUSTOMERS_base = 10  # Total number of customers\n",
    "INTERVAL_CUSTOMERS_base =5.0  # Generate new customers roughly every x seconds\n",
    "MIN_PATIENCE = 50000  # Min. customer patience\n",
    "MAX_PATIENCE = 51000  # Max. customer patience\n",
    "Banktime = 5.0\n",
    "glo_waiting =[]\n",
    "glo_verbose =False\n",
    "\n",
    "\n",
    "def source(env, number, interval, counter):\n",
    "    \"\"\"Source generates customers randomly\"\"\"\n",
    "    #queuecount= 0\n",
    "    for i in range(number):\n",
    "        \n",
    "        #queuecount+= len(counter.queue)\n",
    "        c = customer(env, 'Customer%02d' % i, counter, time_in_bank=Banktime)\n",
    "        env.process(c)\n",
    "        t = random.expovariate(1.0 / interval)\n",
    "        yield env.timeout(t)\n",
    "    #print(queuecount)\n",
    "\n",
    "def customer(env, name, counter, time_in_bank):\n",
    "    \"\"\"Customer arrives, is served and leaves.\"\"\"\n",
    "    arrive = env.now\n",
    "    if glo_verbose ==True:\n",
    "        print('%7.4f %s: Here I am' % (arrive, name))\n",
    "\n",
    "    with counter.request() as req:\n",
    "        patience = random.uniform(MIN_PATIENCE, MAX_PATIENCE)\n",
    "        # Wait for the counter or abort at the end of our tether\n",
    "        results = yield req | env.timeout(patience)\n",
    "\n",
    "        wait = env.now - arrive\n",
    "\n",
    "        glo_waiting.append(wait)\n",
    "\n",
    "        if req in results:\n",
    "            # We got to the counter\n",
    "            if glo_verbose ==True:\n",
    "                print('%7.4f %s: Waited %6.3f' % (env.now, name, wait))\n",
    "            tib = random.expovariate(1.0 / time_in_bank)\n",
    "            yield env.timeout(tib)\n",
    "                \n",
    "            if glo_verbose ==True:\n",
    "                print('%7.4f %s: Finished' % (env.now, name))\n",
    "\n",
    "        else:\n",
    "            # We reneged\n",
    "            \n",
    "            #if glo_verbose ==True:\n",
    "            print('%7.4f %s: RENEGED after %6.3f' % (env.now, name, wait))\n"
   ]
  },
  {
   "cell_type": "code",
   "execution_count": 82,
   "id": "988720f7",
   "metadata": {},
   "outputs": [
    {
     "name": "stdout",
     "output_type": "stream",
     "text": [
      "Bank renege\n",
      "0\n",
      "1\n",
      "2\n",
      "3\n",
      "0\n",
      "0\n",
      "1\n",
      "2\n",
      "3\n",
      "1\n",
      "0\n",
      "1\n",
      "2\n",
      "3\n",
      "2\n"
     ]
    }
   ],
   "source": [
    "\n",
    "\n",
    "# Setup and start the simulation\n",
    "print('Bank renege')\n",
    "#random.seed(RANDOM_SEED)\n",
    "repeats = 20\n",
    "service_range = 4\n",
    "dim=2\n",
    "\n",
    "customer_count_ranges = 3\n",
    "customer_interval_ranges = 4\n",
    "\n",
    "\n",
    "avg_waiting_times_col = np.zeros((customer_count_ranges,customer_interval_ranges,repeats,service_range,dim))\n",
    "for loc_counts in range(customer_count_ranges):\n",
    "    NEW_CUSTOMERS = np.power(NEW_CUSTOMERS_base,loc_counts+1)\n",
    "    for loc_intervals in range(customer_interval_ranges):\n",
    "        loc_interval_customer = INTERVAL_CUSTOMERS_base* (2**(loc_intervals+1))\n",
    "        for j in range(repeats):\n",
    "\n",
    "            avg_waiting_times  = np.zeros((service_range,dim))\n",
    "            for i in range(1,service_range+1):\n",
    "                INTERVAL_CUSTOMERS = loc_interval_customer*i\n",
    "\n",
    "                glo_waiting = []\n",
    "                env = simpy.Environment()\n",
    "                # Start processes and run\n",
    "                counter = simpy.Resource(env, capacity=1)\n",
    "                env.process(source(env, NEW_CUSTOMERS, INTERVAL_CUSTOMERS, counter))\n",
    "                env.run()\n",
    "                avg_waiting_times[i-1][0] = np.mean(glo_waiting)\n",
    "\n",
    "\n",
    "\n",
    "                INTERVAL_CUSTOMERS = loc_interval_customer\n",
    "\n",
    "                glo_waiting = []\n",
    "                env = simpy.Environment()\n",
    "                # Start processes and run\n",
    "                #print(counter.count)\n",
    "                #print(counter.queue)\n",
    "                counter = simpy.Resource(env, capacity=i)\n",
    "                env.process(source(env, NEW_CUSTOMERS, INTERVAL_CUSTOMERS, counter))\n",
    "                env.run()\n",
    "                avg_waiting_times[i-1][1] = np.mean(glo_waiting)\n",
    "            avg_waiting_times_col[loc_counts][loc_intervals][j] = avg_waiting_times\n",
    "\n",
    "        print(loc_intervals)\n",
    "    print(loc_counts)"
   ]
  },
  {
   "cell_type": "code",
   "execution_count": 83,
   "id": "e6876bec",
   "metadata": {},
   "outputs": [
    {
     "data": {
      "text/plain": [
       "array([[[[2.94979242e+00, 2.79385920e+00],\n",
       "         [1.57207635e+00, 1.40130322e-01],\n",
       "         [5.09975518e-01, 0.00000000e+00],\n",
       "         [5.98024664e-01, 0.00000000e+00]],\n",
       "\n",
       "        [[1.41720660e+00, 2.24302865e+00],\n",
       "         [5.80175856e-01, 3.11842927e-02],\n",
       "         [2.20837734e-01, 0.00000000e+00],\n",
       "         [2.38817919e-01, 0.00000000e+00]],\n",
       "\n",
       "        [[5.29136136e-01, 9.22435938e-01],\n",
       "         [3.70154512e-01, 0.00000000e+00],\n",
       "         [6.15566805e-02, 0.00000000e+00],\n",
       "         [1.61052596e-01, 0.00000000e+00]],\n",
       "\n",
       "        [[4.28938234e-01, 1.98274763e-01],\n",
       "         [8.01088879e-02, 0.00000000e+00],\n",
       "         [1.44117519e-01, 0.00000000e+00],\n",
       "         [4.36240554e-02, 0.00000000e+00]]],\n",
       "\n",
       "\n",
       "       [[[4.43986254e+00, 4.24334330e+00],\n",
       "         [1.35766056e+00, 3.82847668e-01],\n",
       "         [9.92695127e-01, 3.88980003e-02],\n",
       "         [8.44679376e-01, 2.65423376e-04]],\n",
       "\n",
       "        [[1.52575804e+00, 1.43519896e+00],\n",
       "         [6.71087330e-01, 5.26374493e-02],\n",
       "         [5.01947716e-01, 2.95186926e-03],\n",
       "         [3.45515011e-01, 0.00000000e+00]],\n",
       "\n",
       "        [[8.13825786e-01, 6.06271635e-01],\n",
       "         [3.14784682e-01, 4.14118897e-02],\n",
       "         [2.40374932e-01, 1.11533149e-03],\n",
       "         [1.94520838e-01, 0.00000000e+00]],\n",
       "\n",
       "        [[2.79595551e-01, 2.81888811e-01],\n",
       "         [1.21229151e-01, 7.32947723e-03],\n",
       "         [9.04464519e-02, 0.00000000e+00],\n",
       "         [6.16954546e-02, 0.00000000e+00]]],\n",
       "\n",
       "\n",
       "       [[[5.04358251e+00, 4.69939944e+00],\n",
       "         [1.68272726e+00, 3.48378740e-01],\n",
       "         [9.77952051e-01, 2.44604337e-02],\n",
       "         [7.79753813e-01, 2.69535029e-03]],\n",
       "\n",
       "        [[1.69105519e+00, 1.67995789e+00],\n",
       "         [7.26625391e-01, 7.68852195e-02],\n",
       "         [4.60718542e-01, 3.31480727e-03],\n",
       "         [3.25575971e-01, 0.00000000e+00]],\n",
       "\n",
       "        [[7.09040666e-01, 7.49942909e-01],\n",
       "         [3.27615852e-01, 2.02950990e-02],\n",
       "         [1.93939076e-01, 1.11224780e-03],\n",
       "         [1.62743242e-01, 0.00000000e+00]],\n",
       "\n",
       "        [[3.43304356e-01, 3.20141422e-01],\n",
       "         [1.66930107e-01, 3.86661097e-03],\n",
       "         [1.11750608e-01, 4.81823071e-04],\n",
       "         [9.32348303e-02, 0.00000000e+00]]]])"
      ]
     },
     "execution_count": 83,
     "metadata": {},
     "output_type": "execute_result"
    }
   ],
   "source": [
    "np.mean(avg_waiting_times_col,axis=2)"
   ]
  },
  {
   "cell_type": "code",
   "execution_count": 84,
   "id": "b38f131c",
   "metadata": {},
   "outputs": [
    {
     "data": {
      "text/plain": [
       "(2, 4, 4, 3)"
      ]
     },
     "execution_count": 84,
     "metadata": {},
     "output_type": "execute_result"
    }
   ],
   "source": [
    "#np.shape(np.mean(avg_waiting_times_col,axis=2))\n",
    "np.shape(np.mean(avg_waiting_times_col,axis=2).T)"
   ]
  },
  {
   "cell_type": "code",
   "execution_count": 85,
   "id": "0bad84dc",
   "metadata": {},
   "outputs": [],
   "source": [
    "\n",
    "mean_area_estimate_ss = np.mean(avg_waiting_times_col,axis=2).T[0]\n",
    "mean_area_estimate_mc = np.mean(avg_waiting_times_col,axis=2).T[1]\n",
    "\n",
    "#Standard deviation of area estimation\n",
    "std_area_estimate_ss = np.std(avg_waiting_times_col,axis=2).T[0]\n",
    "std_area_estimate_mc = np.std(avg_waiting_times_col,axis=2).T[1]\n",
    "\n",
    "#Variance of area estimation\n",
    "var_area_estimate_ss = np.var(avg_waiting_times_col,axis=2).T[0]\n",
    "var_area_estimate_mc = np.var(avg_waiting_times_col,axis=2).T[1]\n",
    "\n",
    "#Welch's T test created from the slides in the lectures\n",
    "mean_diff = mean_area_estimate_ss- mean_area_estimate_mc\n",
    "var_diff = np.sqrt(var_area_estimate_ss/repeats + var_area_estimate_mc/repeats)\n",
    "welch_t =abs(mean_diff/var_diff)\n",
    "val_1 = np.power(var_area_estimate_ss/repeats + var_area_estimate_mc/repeats,2)\n",
    "val_2 = np.power(var_area_estimate_ss/repeats,2)/(repeats-1) + np.power(var_area_estimate_mc/repeats,2)/(repeats-1)\n",
    "welch_df = np.divide(val_1,val_2)\n",
    "welch_critical_value = np.array([scipy.stats.t.ppf(q=1-.05,df=loc_welch_df) for loc_welch_df in welch_df])\n",
    "\n",
    "#formatting array\n",
    "x_axis = np.int_(np.arange(int(service_range)) +1)"
   ]
  },
  {
   "cell_type": "code",
   "execution_count": 86,
   "id": "2f1433d7",
   "metadata": {},
   "outputs": [
    {
     "data": {
      "text/plain": [
       "<Figure size 3000x2000 with 0 Axes>"
      ]
     },
     "metadata": {},
     "output_type": "display_data"
    },
    {
     "data": {
      "image/png": "[encoded data removed]",
      "text/plain": [
       "<Figure size 640x480 with 12 Axes>"
      ]
     },
     "metadata": {},
     "output_type": "display_data"
    }
   ],
   "source": [
    "\n",
    "plt.figure(figsize=(30, 20))\n",
    "fig, axs = plt.subplots(customer_count_ranges, customer_interval_ranges)\n",
    "\n",
    "\n",
    "for loc_counts in range(customer_count_ranges):\n",
    "    for loc_intervals in range(customer_interval_ranges):\n",
    "\n",
    "        axs[loc_counts][loc_intervals].plot(np.int_(x_axis),welch_t.T[loc_counts][loc_intervals],\"g-\",label =\"Welch's T-value\")\n",
    "        axs[loc_counts][loc_intervals].plot(np.int_(x_axis),welch_critical_value.T[loc_counts][loc_intervals],\"r-\",linewidth=3,label =\"Corresponding Critical Value\")\n",
    "        title = (str(np.power(NEW_CUSTOMERS_base,loc_counts+1))+\" Amount, \"+str(int(INTERVAL_CUSTOMERS_base* (2**(loc_intervals+1))))+\" Mean interval\")\n",
    "        axs[loc_counts][loc_intervals].set_title(title,fontsize=5.5)\n",
    "plt.ylabel(\"T-Value\")\n",
    "plt.xlabel(\"amount of servers\")\n",
    "#plt.legend()\n",
    "#plt.tight_layout()\n",
    "fig.savefig('welch_t_test_noTitle.png', dpi=300)\n",
    "plt.show()"
   ]
  },
  {
   "cell_type": "code",
   "execution_count": null,
   "id": "d5e5ae26",
   "metadata": {},
   "outputs": [],
   "source": []
  },
  {
   "cell_type": "code",
   "execution_count": null,
   "id": "5b1279fc",
   "metadata": {},
   "outputs": [],
   "source": []
  }
 ],
 "metadata": {
  "kernelspec": {
   "display_name": "Python 3 (ipykernel)",
   "language": "python",
   "name": "python3"
  },
  "language_info": {
   "codemirror_mode": {
    "name": "ipython",
    "version": 3
   },
   "file_extension": ".py",
   "mimetype": "text/x-python",
   "name": "python",
   "nbconvert_exporter": "python",
   "pygments_lexer": "ipython3",
   "version": "3.9.13"
  }
 },
 "nbformat": 4,
 "nbformat_minor": 5
}
