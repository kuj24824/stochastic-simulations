{
 "cells": [
  {
   "cell_type": "code",
   "execution_count": 1,
   "id": "6182a94a",
   "metadata": {},
   "outputs": [
    {
     "name": "stdout",
     "output_type": "stream",
     "text": [
      "0.0\n",
      "0.0\n",
      "0\n",
      "1\n",
      "2\n",
      "deque([3, 4])\n"
     ]
    },
    {
     "data": {
      "text/plain": [
       "'\\nλ – the arrival rate into the system as a whole.\\nμ – the capacity of each of n equal servers.\\nρ represents the system load. In a single server system, it will be: ρ=λ/μ\\nIn a multi-server system (one queue with n equal servers, each with capacity μ), it will be\\nρ=λ/(nμ)\\n'"
      ]
     },
     "execution_count": 1,
     "metadata": {},
     "output_type": "execute_result"
    }
   ],
   "source": [
    "import math\n",
    "import numpy as np\n",
    "import matplotlib.pyplot as plt\n",
    "import simpy\n",
    "import scipy\n",
    "from collections import deque\n",
    "from scipy import stats\n",
    "\n",
    "loc_lambda = 2\n",
    "loc_mu = 3\n",
    "loc_n_servers = 5\n",
    "loc_ro = loc_lambda/(loc_mu*loc_n_servers)\n",
    "\n",
    "\n",
    "def customer_arrivals(env, theater):\n",
    "    \"\"\"Create new *moviegoers* until the sim time reaches 120.\"\"\"\n",
    "    while True:\n",
    "        yield env.timeout(random.expovariate(1 / 0.5))\n",
    "\n",
    "        #movie = random.choice(theater.movies)\n",
    "        num_tickets = random.randint(1, 6)\n",
    "\n",
    "\n",
    "\n",
    "\n",
    "queue = deque(np.zeros(2))\n",
    "for i in range(loc_n_servers):\n",
    "    queue.append(i)\n",
    "    print(queue.popleft())\n",
    "    \n",
    "print(queue)\n",
    "    \n",
    "    \n",
    "\"\"\"\n",
    "λ – the arrival rate into the system as a whole.\n",
    "μ – the capacity of each of n equal servers.\n",
    "ρ represents the system load. In a single server system, it will be: ρ=λ/μ\n",
    "In a multi-server system (one queue with n equal servers, each with capacity μ), it will be\n",
    "ρ=λ/(nμ)\n",
    "\"\"\""
   ]
  },
  {
   "cell_type": "code",
   "execution_count": null,
   "id": "f9b253c5",
   "metadata": {},
   "outputs": [],
   "source": [
    "    \n",
    "\"\"\"  \n",
    "Queuing theory tells us that for FIFO scheduling the average waiting times are shorter for an\n",
    "M/M/n queue and a system load ρ and processor capacity μ than for a single M/M/1 queue\n",
    "with the same load characteristics (and thus an n-fold lower arrival rate). Of course, ρ must be\n",
    "less than one, but the experiment only becomes interesting when ρ is not much less than one.\n",
    "\"\"\"    \n",
    "\n",
    "\n",
    "\"\"\"   \n",
    "1) \n",
    "Look up and/or derive this theoretical result, at least for n=2. Describe how it is\n",
    "derived. Can you also give a non-mathematical explanation?\n",
    "\"\"\"\n",
    "\"\"\"\n",
    "Theory:\n",
    "    FIFO\n",
    "    First in First Out scheduling refers to a method in computational sciences in which a queueing \n",
    "    process is used to store a number of tasks which are then performed in order of arrival \n",
    "    at that queue. The assumption being that there is a specific order for the tasks to arrive at\n",
    "    the queue.\n",
    "    \n",
    "    https://projecteuclid.org/journals/annals-of-mathematical-statistics/volume-24/issue-3/Stochastic-Processes-Occurring-in-the-Theory-of-Queues-and-their/10.1214/aoms/1177728975.full\n",
    "\n",
    "\n",
    "    Kendalls Notation\n",
    "    Kendalls Notation as used in the 1953 Paper of Kendall consist of 3 entries in the form of X/Y/n.\n",
    "    X denotes the distribution of input signals/ arrivals of tasks in the queue, Y the distribution of \n",
    "    server-worktime or the amount of time necessary to perform a task and n being the amount of servernodes \n",
    "    taking on tasks.\n",
    "    Kendall noted several distributions in their paper-\n",
    "    For the following A(u) is probability of a given task arriving after a given time u.\n",
    "    D;Deterministic:\n",
    "        Each task arrives at a given time(\\mu)\n",
    "        $A(u) = if u<\\mu: 0 else: 1$\n",
    "    M;\"random\" or Poisson distributed\n",
    "        $A(u) = 1-e^{-u/\\mu}\n",
    "    $E_k$; Erlangian\n",
    "        E_k \\text { (Erlangian): } d A(u) \\equiv \\frac{(k / a)^k}{\\Gamma(k)} e^{-k u / a} u^{k-1} d u\n",
    "    G/GI; No assumption is taken for the distribution\n",
    "    \n",
    "    One example is the M/M/n $(n \\in \\N)$ queueing simulation(poisson distributed Arrivals and server worktime with n servers). \n",
    "    which we will focus on.\n",
    "\"\"\""
   ]
  },
  {
   "cell_type": "code",
   "execution_count": 25,
   "id": "1d358b8a",
   "metadata": {},
   "outputs": [
    {
     "name": "stdout",
     "output_type": "stream",
     "text": [
      "Bank renege\n"
     ]
    }
   ],
   "source": [
    "\n",
    "import random\n",
    "\n",
    "import simpy\n",
    "import numpy as np\n",
    "\n",
    "\n",
    "#RANDOM_SEED = 42\n",
    "NEW_CUSTOMERS = 1000  # Total number of customers\n",
    "INTERVAL_CUSTOMERS_start =5.0  # Generate new customers roughly every x seconds\n",
    "MIN_PATIENCE = 50000  # Min. customer patience\n",
    "MAX_PATIENCE = 51000  # Max. customer patience\n",
    "Banktime = 5.0\n",
    "glo_waiting =[]\n",
    "glo_verbose =False\n",
    "\n",
    "\n",
    "def source(env, number, interval, counter):\n",
    "    \"\"\"Source generates customers randomly\"\"\"\n",
    "    #queuecount= 0\n",
    "    for i in range(number):\n",
    "        \n",
    "        #queuecount+= len(counter.queue)\n",
    "        c = customer(env, 'Customer%02d' % i, counter, time_in_bank=Banktime)\n",
    "        env.process(c)\n",
    "        t = random.expovariate(1.0 / interval)\n",
    "        yield env.timeout(t)\n",
    "    #print(queuecount)\n",
    "\n",
    "def customer(env, name, counter, time_in_bank):\n",
    "    \"\"\"Customer arrives, is served and leaves.\"\"\"\n",
    "    arrive = env.now\n",
    "    if glo_verbose ==True:\n",
    "        print('%7.4f %s: Here I am' % (arrive, name))\n",
    "\n",
    "    with counter.request() as req:\n",
    "        patience = random.uniform(MIN_PATIENCE, MAX_PATIENCE)\n",
    "        # Wait for the counter or abort at the end of our tether\n",
    "        results = yield req | env.timeout(patience)\n",
    "\n",
    "        wait = env.now - arrive\n",
    "\n",
    "        glo_waiting.append(wait)\n",
    "\n",
    "        if req in results:\n",
    "            # We got to the counter\n",
    "            if glo_verbose ==True:\n",
    "                print('%7.4f %s: Waited %6.3f' % (env.now, name, wait))\n",
    "            tib = random.expovariate(1.0 / time_in_bank)\n",
    "            yield env.timeout(tib)\n",
    "                \n",
    "            if glo_verbose ==True:\n",
    "                print('%7.4f %s: Finished' % (env.now, name))\n",
    "\n",
    "        else:\n",
    "            # We reneged\n",
    "            \n",
    "            #if glo_verbose ==True:\n",
    "            print('%7.4f %s: RENEGED after %6.3f' % (env.now, name, wait))\n",
    "\n",
    "\n",
    "# Setup and start the simulation\n",
    "print('Bank renege')\n",
    "#random.seed(RANDOM_SEED)\n",
    "repeats = 10\n",
    "service_range = 4\n",
    "dim=2\n",
    "avg_waiting_times_col = np.zeros((repeats,service_range,dim))\n",
    "for j in range(repeats):\n",
    "    \n",
    "    avg_waiting_times  = np.zeros((service_range,dim))\n",
    "    for i in range(1,service_range+1):\n",
    "        INTERVAL_CUSTOMERS = INTERVAL_CUSTOMERS_start*i\n",
    "\n",
    "        glo_waiting = []\n",
    "        env = simpy.Environment()\n",
    "        # Start processes and run\n",
    "        counter = simpy.Resource(env, capacity=1)\n",
    "        env.process(source(env, NEW_CUSTOMERS, INTERVAL_CUSTOMERS, counter))\n",
    "        env.run()\n",
    "        avg_waiting_times[i-1][0] = np.mean(glo_waiting)\n",
    "        \n",
    "        \n",
    "        \n",
    "        INTERVAL_CUSTOMERS = INTERVAL_CUSTOMERS_start\n",
    "\n",
    "        glo_waiting = []\n",
    "        env = simpy.Environment()\n",
    "        # Start processes and run\n",
    "        #print(counter.count)\n",
    "        #print(counter.queue)\n",
    "        counter = simpy.Resource(env, capacity=i)\n",
    "        env.process(source(env, NEW_CUSTOMERS, INTERVAL_CUSTOMERS, counter))\n",
    "        env.run()\n",
    "        avg_waiting_times[i-1][1] = np.mean(glo_waiting)\n",
    "    avg_waiting_times_col[j] = avg_waiting_times\n",
    "    \n"
   ]
  },
  {
   "cell_type": "code",
   "execution_count": 26,
   "id": "e6876bec",
   "metadata": {},
   "outputs": [
    {
     "data": {
      "text/plain": [
       "array([[5.05034925e+02, 4.92937604e+00, 2.42680371e+00, 1.65175606e+00],\n",
       "       [3.29834479e+02, 1.58341330e+00, 2.31919383e-01, 3.24948506e-02]])"
      ]
     },
     "execution_count": 26,
     "metadata": {},
     "output_type": "execute_result"
    }
   ],
   "source": [
    "np.mean(avg_waiting_times_col,axis=0).T"
   ]
  },
  {
   "cell_type": "code",
   "execution_count": 14,
   "id": "0bad84dc",
   "metadata": {},
   "outputs": [],
   "source": [
    "\n",
    "mean_area_estimate_ss = np.mean(avg_waiting_times_col,axis=0).T[0]\n",
    "mean_area_estimate_mc = np.mean(avg_waiting_times_col,axis=0).T[1]\n",
    "\n",
    "#Standard deviation of area estimation\n",
    "std_area_estimate_ss = np.std(avg_waiting_times_col,axis=0).T[0]\n",
    "std_area_estimate_mc = np.std(avg_waiting_times_col,axis=0).T[1]\n",
    "\n",
    "#Variance of area estimation\n",
    "var_area_estimate_ss = np.var(avg_waiting_times_col,axis=0).T[0]\n",
    "var_area_estimate_mc = np.var(avg_waiting_times_col,axis=0).T[1]\n",
    "\n",
    "#Welch's T test created from the slides in the lectures\n",
    "welch_t =abs(mean_area_estimate_ss- mean_area_estimate_mc)/np.sqrt(var_area_estimate_ss/repeats + var_area_estimate_mc/repeats)\n",
    "val_1 = np.power(var_area_estimate_ss/repeats + var_area_estimate_mc/repeats,2)\n",
    "val_2 = np.power(var_area_estimate_ss/repeats,2)/(repeats-1) + np.power(var_area_estimate_mc/repeats,2)/(repeats-1)\n",
    "welch_df = np.divide(val_1,val_2)\n",
    "welch_critical_value = [scipy.stats.t.ppf(q=1-.05,df=loc_welch_df) for loc_welch_df in welch_df]\n",
    "\n",
    "#formatting array\n",
    "x_axis = np.int_(np.arange(int(service_range)) +1)"
   ]
  },
  {
   "cell_type": "code",
   "execution_count": 11,
   "id": "2f1433d7",
   "metadata": {},
   "outputs": [
    {
     "data": {
      "image/png": "[encoded data removed]",
      "text/plain": [
       "<Figure size 640x480 with 1 Axes>"
      ]
     },
     "metadata": {},
     "output_type": "display_data"
    }
   ],
   "source": [
    "\n",
    "fig, ax = plt.subplots(1)\n",
    "plt.plot(np.int_(x_axis),welch_t,\"g-\",label =\"Welch's T-value\")\n",
    "plt.plot(np.int_(x_axis),welch_critical_value,\"r-\",linewidth=3,label =\"Corresponding Critical Value\")\n",
    "#plt.title(\"Welch's T-test\", y=-0.2)\n",
    "plt.ylabel(\"T-Value\")\n",
    "plt.xlabel(\"Cycle\")\n",
    "plt.legend()\n",
    "plt.tight_layout()\n",
    "fig.savefig('welch_t_test_noTitle.png', dpi=300)\n",
    "plt.show()"
   ]
  },
  {
   "cell_type": "code",
   "execution_count": null,
   "id": "d5e5ae26",
   "metadata": {},
   "outputs": [],
   "source": []
  },
  {
   "cell_type": "code",
   "execution_count": null,
   "id": "5b1279fc",
   "metadata": {},
   "outputs": [],
   "source": []
  }
 ],
 "metadata": {
  "kernelspec": {
   "display_name": "Python 3 (ipykernel)",
   "language": "python",
   "name": "python3"
  },
  "language_info": {
   "codemirror_mode": {
    "name": "ipython",
    "version": 3
   },
   "file_extension": ".py",
   "mimetype": "text/x-python",
   "name": "python",
   "nbconvert_exporter": "python",
   "pygments_lexer": "ipython3",
   "version": "3.9.13"
  }
 },
 "nbformat": 4,
 "nbformat_minor": 5
}
