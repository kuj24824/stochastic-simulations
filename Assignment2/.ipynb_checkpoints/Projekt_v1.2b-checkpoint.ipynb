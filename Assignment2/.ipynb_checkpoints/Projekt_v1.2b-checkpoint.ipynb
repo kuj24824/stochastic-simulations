{
 "cells": [
  {
   "cell_type": "code",
   "execution_count": 5,
   "id": "6182a94a",
   "metadata": {},
   "outputs": [
    {
     "name": "stdout",
     "output_type": "stream",
     "text": [
      "0.0\n",
      "0.0\n",
      "0\n",
      "1\n",
      "2\n",
      "deque([3, 4])\n"
     ]
    },
    {
     "data": {
      "text/plain": [
       "'\\nλ – the arrival rate into the system as a whole.\\nμ – the capacity of each of n equal servers.\\nρ represents the system load. In a single server system, it will be: ρ=λ/μ\\nIn a multi-server system (one queue with n equal servers, each with capacity μ), it will be\\nρ=λ/(nμ)\\n'"
      ]
     },
     "execution_count": 5,
     "metadata": {},
     "output_type": "execute_result"
    }
   ],
   "source": [
    "import math\n",
    "import numpy as np\n",
    "import matplotlib.pyplot as plt\n",
    "import simpy\n",
    "import scipy\n",
    "from collections import deque\n",
    "from scipy import stats\n",
    "\n",
    "loc_lambda = 2\n",
    "loc_mu = 3\n",
    "loc_n_servers = 5\n",
    "loc_ro = loc_lambda/(loc_mu*loc_n_servers)\n",
    "\n",
    "\n",
    "def customer_arrivals(env, theater):\n",
    "    \"\"\"Create new *moviegoers* until the sim time reaches 120.\"\"\"\n",
    "    while True:\n",
    "        yield env.timeout(random.expovariate(1 / 0.5))\n",
    "\n",
    "        #movie = random.choice(theater.movies)\n",
    "        num_tickets = random.randint(1, 6)\n",
    "\n",
    "\n",
    "\n",
    "\n",
    "queue = deque(np.zeros(2))\n",
    "for i in range(loc_n_servers):\n",
    "    queue.append(i)\n",
    "    print(queue.popleft())\n",
    "    \n",
    "print(queue)\n",
    "    \n",
    "    \n",
    "\"\"\"\n",
    "λ – the arrival rate into the system as a whole.\n",
    "μ – the capacity of each of n equal servers.\n",
    "ρ represents the system load. In a single server system, it will be: ρ=λ/μ\n",
    "In a multi-server system (one queue with n equal servers, each with capacity μ), it will be\n",
    "ρ=λ/(nμ)\n",
    "\"\"\""
   ]
  },
  {
   "cell_type": "code",
   "execution_count": null,
   "id": "f9b253c5",
   "metadata": {},
   "outputs": [],
   "source": []
  },
  {
   "cell_type": "code",
   "execution_count": 6,
   "id": "1d358b8a",
   "metadata": {},
   "outputs": [],
   "source": [
    "\n",
    "import random\n",
    "\n",
    "import simpy\n",
    "import numpy as np\n",
    "\n",
    "\n",
    "#RANDOM_SEED = 42\n",
    "NEW_CUSTOMERS_base = 10  # Total number of customers\n",
    "INTERVAL_CUSTOMERS_base =5.0  # Generate new customers roughly every x seconds\n",
    "MIN_PATIENCE = 50000  # Min. customer patience\n",
    "MAX_PATIENCE = 51000  # Max. customer patience\n",
    "Banktime = 5.0\n",
    "glo_waiting =[]\n",
    "glo_verbose =False\n",
    "\n",
    "\n",
    "def source(env, number, interval, counter):\n",
    "    \"\"\"Source generates customers randomly\"\"\"\n",
    "    #queuecount= 0\n",
    "    for i in range(number):\n",
    "        \n",
    "        #queuecount+= len(counter.queue)\n",
    "        c = customer(env, 'Customer%02d' % i, counter, time_in_bank=Banktime)\n",
    "        env.process(c)\n",
    "        t = random.expovariate(1.0 / interval)\n",
    "        yield env.timeout(t)\n",
    "    #print(queuecount)\n",
    "\n",
    "def customer(env, name, counter, time_in_bank):\n",
    "    \"\"\"Customer arrives, is served and leaves.\"\"\"\n",
    "    arrive = env.now\n",
    "    if glo_verbose ==True:\n",
    "        print('%7.4f %s: Here I am' % (arrive, name))\n",
    "\n",
    "    with counter.request() as req:\n",
    "        patience = random.uniform(MIN_PATIENCE, MAX_PATIENCE)\n",
    "        # Wait for the counter or abort at the end of our tether\n",
    "        results = yield req | env.timeout(patience)\n",
    "\n",
    "        wait = env.now - arrive\n",
    "\n",
    "        glo_waiting.append(wait)\n",
    "\n",
    "        if req in results:\n",
    "            # We got to the counter\n",
    "            if glo_verbose ==True:\n",
    "                print('%7.4f %s: Waited %6.3f' % (env.now, name, wait))\n",
    "            tib = random.expovariate(1.0 / time_in_bank)\n",
    "            yield env.timeout(tib)\n",
    "                \n",
    "            if glo_verbose ==True:\n",
    "                print('%7.4f %s: Finished' % (env.now, name))\n",
    "\n",
    "        else:\n",
    "            # We reneged\n",
    "            \n",
    "            #if glo_verbose ==True:\n",
    "            print('%7.4f %s: RENEGED after %6.3f' % (env.now, name, wait))\n"
   ]
  },
  {
   "cell_type": "code",
   "execution_count": 8,
   "id": "988720f7",
   "metadata": {},
   "outputs": [
    {
     "name": "stdout",
     "output_type": "stream",
     "text": [
      "Bank renege\n",
      "0\n",
      "1\n",
      "2\n",
      "3\n",
      "0\n",
      "0\n",
      "1\n",
      "2\n",
      "3\n",
      "1\n",
      "0\n",
      "1\n",
      "2\n",
      "3\n",
      "2\n",
      "0\n",
      "1\n",
      "2\n",
      "3\n",
      "3\n"
     ]
    }
   ],
   "source": [
    "\n",
    "\n",
    "# Setup and start the simulation\n",
    "print('Bank renege')\n",
    "#random.seed(RANDOM_SEED)\n",
    "repeats = 100\n",
    "service_range = 4\n",
    "dim=2\n",
    "\n",
    "customer_count_ranges = 4\n",
    "customer_interval_ranges = 4\n",
    "\n",
    "\n",
    "avg_waiting_times_col = np.zeros((customer_count_ranges,customer_interval_ranges,repeats,service_range,dim))\n",
    "for loc_counts in range(customer_count_ranges):\n",
    "    NEW_CUSTOMERS = np.power(NEW_CUSTOMERS_base,loc_counts+1)\n",
    "    for loc_intervals in range(customer_interval_ranges):\n",
    "        loc_interval_customer = INTERVAL_CUSTOMERS_base* (2**(loc_intervals+1))\n",
    "        for j in range(repeats):\n",
    "\n",
    "            avg_waiting_times  = np.zeros((service_range,dim))\n",
    "            for i in range(1,service_range+1):\n",
    "                INTERVAL_CUSTOMERS = loc_interval_customer*i\n",
    "\n",
    "                glo_waiting = []\n",
    "                env = simpy.Environment()\n",
    "                # Start processes and run\n",
    "                counter = simpy.Resource(env, capacity=1)\n",
    "                env.process(source(env, NEW_CUSTOMERS, INTERVAL_CUSTOMERS, counter))\n",
    "                env.run()\n",
    "                avg_waiting_times[i-1][0] = np.mean(glo_waiting)\n",
    "\n",
    "\n",
    "\n",
    "                INTERVAL_CUSTOMERS = loc_interval_customer\n",
    "\n",
    "                glo_waiting = []\n",
    "                env = simpy.Environment()\n",
    "                # Start processes and run\n",
    "                #print(counter.count)\n",
    "                #print(counter.queue)\n",
    "                counter = simpy.Resource(env, capacity=i)\n",
    "                env.process(source(env, NEW_CUSTOMERS, INTERVAL_CUSTOMERS, counter))\n",
    "                env.run()\n",
    "                avg_waiting_times[i-1][1] = np.mean(glo_waiting)\n",
    "            avg_waiting_times_col[loc_counts][loc_intervals][j] = avg_waiting_times\n",
    "\n",
    "        print(loc_intervals)\n",
    "    print(loc_counts)"
   ]
  },
  {
   "cell_type": "code",
   "execution_count": 9,
   "id": "e6876bec",
   "metadata": {},
   "outputs": [
    {
     "data": {
      "text/plain": [
       "array([[[[2.96891357e+00, 3.12767648e+00],\n",
       "         [1.39959303e+00, 2.29352738e-01],\n",
       "         [9.07797703e-01, 4.11716287e-03],\n",
       "         [6.66952086e-01, 2.67023087e-03]],\n",
       "\n",
       "        [[1.28060526e+00, 1.23735768e+00],\n",
       "         [3.81467959e-01, 3.22085171e-02],\n",
       "         [4.06536335e-01, 3.80285224e-03],\n",
       "         [2.56913194e-01, 0.00000000e+00]],\n",
       "\n",
       "        [[5.38084656e-01, 4.82378793e-01],\n",
       "         [2.09875333e-01, 1.11601487e-02],\n",
       "         [1.75819873e-01, 0.00000000e+00],\n",
       "         [1.25999145e-01, 0.00000000e+00]],\n",
       "\n",
       "        [[2.98765239e-01, 2.43062824e-01],\n",
       "         [1.23597816e-01, 3.08250203e-05],\n",
       "         [1.14120352e-01, 0.00000000e+00],\n",
       "         [6.08056522e-02, 0.00000000e+00]]],\n",
       "\n",
       "\n",
       "       [[[5.08321167e+00, 5.11210426e+00],\n",
       "         [1.52173461e+00, 3.03635936e-01],\n",
       "         [1.03735762e+00, 2.20171322e-02],\n",
       "         [6.79476014e-01, 1.22888037e-03]],\n",
       "\n",
       "        [[1.68244882e+00, 1.54891362e+00],\n",
       "         [7.47365891e-01, 7.99657198e-02],\n",
       "         [4.75253901e-01, 4.14183813e-03],\n",
       "         [3.07417096e-01, 5.97696353e-04]],\n",
       "\n",
       "        [[6.56361252e-01, 7.15512655e-01],\n",
       "         [3.31206973e-01, 1.72140551e-02],\n",
       "         [2.03852708e-01, 6.43760802e-04],\n",
       "         [1.67452743e-01, 0.00000000e+00]],\n",
       "\n",
       "        [[3.39194263e-01, 3.43219386e-01],\n",
       "         [1.47630452e-01, 3.29215053e-03],\n",
       "         [1.15162698e-01, 0.00000000e+00],\n",
       "         [7.33905282e-02, 0.00000000e+00]]],\n",
       "\n",
       "\n",
       "       [[[4.93356744e+00, 4.96352963e+00],\n",
       "         [1.68249358e+00, 3.40698035e-01],\n",
       "         [9.74221637e-01, 2.96838348e-02],\n",
       "         [7.17133653e-01, 2.70707890e-03]],\n",
       "\n",
       "        [[1.67648535e+00, 1.62781923e+00],\n",
       "         [7.18660317e-01, 7.61744220e-02],\n",
       "         [4.48619645e-01, 4.42171208e-03],\n",
       "         [3.28581542e-01, 1.92418261e-04]],\n",
       "\n",
       "        [[6.77555445e-01, 7.28815900e-01],\n",
       "         [3.28220592e-01, 1.86848624e-02],\n",
       "         [2.13617244e-01, 3.55403487e-04],\n",
       "         [1.65512974e-01, 9.98263872e-06]],\n",
       "\n",
       "        [[3.30963980e-01, 3.32705401e-01],\n",
       "         [1.49991205e-01, 3.76156276e-03],\n",
       "         [9.90069727e-02, 3.92093546e-05],\n",
       "         [8.11835360e-02, 0.00000000e+00]]],\n",
       "\n",
       "\n",
       "       [[[4.97371600e+00, 4.97809520e+00],\n",
       "         [1.67027567e+00, 3.34242176e-01],\n",
       "         [9.90781127e-01, 3.05055844e-02],\n",
       "         [7.16250158e-01, 2.58050494e-03]],\n",
       "\n",
       "        [[1.66779375e+00, 1.66573403e+00],\n",
       "         [7.11456612e-01, 7.92632958e-02],\n",
       "         [4.52033785e-01, 4.27159215e-03],\n",
       "         [3.33941045e-01, 1.73658129e-04]],\n",
       "\n",
       "        [[7.20977351e-01, 7.13528902e-01],\n",
       "         [3.31500285e-01, 1.97955766e-02],\n",
       "         [2.16559533e-01, 5.43195563e-04],\n",
       "         [1.60478715e-01, 1.43587357e-05]],\n",
       "\n",
       "        [[3.34633833e-01, 3.31157731e-01],\n",
       "         [1.62103937e-01, 4.83349968e-03],\n",
       "         [1.06084876e-01, 3.53731857e-05],\n",
       "         [7.93127176e-02, 2.02113991e-07]]]])"
      ]
     },
     "execution_count": 9,
     "metadata": {},
     "output_type": "execute_result"
    }
   ],
   "source": [
    "np.mean(avg_waiting_times_col,axis=2)"
   ]
  },
  {
   "cell_type": "code",
   "execution_count": 10,
   "id": "b38f131c",
   "metadata": {},
   "outputs": [
    {
     "data": {
      "text/plain": [
       "(2, 4, 4, 4)"
      ]
     },
     "execution_count": 10,
     "metadata": {},
     "output_type": "execute_result"
    }
   ],
   "source": [
    "#np.shape(np.mean(avg_waiting_times_col,axis=2))\n",
    "np.shape(np.mean(avg_waiting_times_col,axis=2).T)"
   ]
  },
  {
   "cell_type": "code",
   "execution_count": 11,
   "id": "0bad84dc",
   "metadata": {},
   "outputs": [],
   "source": [
    "\n",
    "mean_area_estimate_ss = np.mean(avg_waiting_times_col,axis=2).T[0]\n",
    "mean_area_estimate_mc = np.mean(avg_waiting_times_col,axis=2).T[1]\n",
    "\n",
    "#Standard deviation of area estimation\n",
    "std_area_estimate_ss = np.std(avg_waiting_times_col,axis=2).T[0]\n",
    "std_area_estimate_mc = np.std(avg_waiting_times_col,axis=2).T[1]\n",
    "\n",
    "#Variance of area estimation\n",
    "var_area_estimate_ss = np.var(avg_waiting_times_col,axis=2).T[0]\n",
    "var_area_estimate_mc = np.var(avg_waiting_times_col,axis=2).T[1]\n",
    "\n",
    "#Welch's T test created from the slides in the lectures\n",
    "mean_diff = mean_area_estimate_ss- mean_area_estimate_mc\n",
    "var_diff = np.sqrt(var_area_estimate_ss/repeats + var_area_estimate_mc/repeats)\n",
    "welch_t =abs(mean_diff/var_diff)\n",
    "val_1 = np.power(var_area_estimate_ss/repeats + var_area_estimate_mc/repeats,2)\n",
    "val_2 = np.power(var_area_estimate_ss/repeats,2)/(repeats-1) + np.power(var_area_estimate_mc/repeats,2)/(repeats-1)\n",
    "welch_df = np.divide(val_1,val_2)\n",
    "welch_critical_value = np.array([scipy.stats.t.ppf(q=1-.05,df=loc_welch_df) for loc_welch_df in welch_df])\n",
    "\n",
    "#formatting array\n",
    "x_axis = np.int_(np.arange(int(service_range)) +1)"
   ]
  },
  {
   "cell_type": "code",
   "execution_count": 12,
   "id": "2f1433d7",
   "metadata": {},
   "outputs": [
    {
     "data": {
      "text/plain": [
       "<Figure size 3000x2000 with 0 Axes>"
      ]
     },
     "metadata": {},
     "output_type": "display_data"
    },
    {
     "data": {
      "image/png": "[encoded data removed]",
      "text/plain": [
       "<Figure size 640x480 with 16 Axes>"
      ]
     },
     "metadata": {},
     "output_type": "display_data"
    }
   ],
   "source": [
    "\n",
    "plt.figure(figsize=(30, 20))\n",
    "fig, axs = plt.subplots(customer_count_ranges, customer_interval_ranges)\n",
    "\n",
    "\n",
    "for loc_counts in range(customer_count_ranges):\n",
    "    for loc_intervals in range(customer_interval_ranges):\n",
    "\n",
    "        axs[loc_counts][loc_intervals].plot(np.int_(x_axis),welch_t.T[loc_counts][loc_intervals],\"g-\",label =\"Welch's T-value\")\n",
    "        axs[loc_counts][loc_intervals].plot(np.int_(x_axis),welch_critical_value.T[loc_counts][loc_intervals],\"r-\",linewidth=3,label =\"Corresponding Critical Value\")\n",
    "        title = (str(np.power(NEW_CUSTOMERS_base,loc_counts+1))+\" Amount, \"+str(int(INTERVAL_CUSTOMERS_base* (2**(loc_intervals+1))))+\" Mean interval\")\n",
    "        axs[loc_counts][loc_intervals].set_title(title,fontsize=5.5)\n",
    "plt.ylabel(\"T-Value\")\n",
    "plt.xlabel(\"amount of servers\")\n",
    "#plt.legend()\n",
    "#plt.tight_layout()\n",
    "fig.savefig('welch_t_test_noTitle.png', dpi=300)\n",
    "plt.show()"
   ]
  },
  {
   "cell_type": "code",
   "execution_count": null,
   "id": "d5e5ae26",
   "metadata": {},
   "outputs": [],
   "source": []
  },
  {
   "cell_type": "code",
   "execution_count": null,
   "id": "5b1279fc",
   "metadata": {},
   "outputs": [],
   "source": []
  }
 ],
 "metadata": {
  "kernelspec": {
   "display_name": "Python 3 (ipykernel)",
   "language": "python",
   "name": "python3"
  },
  "language_info": {
   "codemirror_mode": {
    "name": "ipython",
    "version": 3
   },
   "file_extension": ".py",
   "mimetype": "text/x-python",
   "name": "python",
   "nbconvert_exporter": "python",
   "pygments_lexer": "ipython3",
   "version": "3.9.13"
  }
 },
 "nbformat": 4,
 "nbformat_minor": 5
}
