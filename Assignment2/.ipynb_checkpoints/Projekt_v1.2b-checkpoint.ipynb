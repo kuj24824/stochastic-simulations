{
 "cells": [
  {
   "cell_type": "code",
   "execution_count": 5,
   "id": "6182a94a",
   "metadata": {},
   "outputs": [
    {
     "name": "stdout",
     "output_type": "stream",
     "text": [
      "0.0\n",
      "0.0\n",
      "0\n",
      "1\n",
      "2\n",
      "deque([3, 4])\n"
     ]
    },
    {
     "data": {
      "text/plain": [
       "'\\nλ – the arrival rate into the system as a whole.\\nμ – the capacity of each of n equal servers.\\nρ represents the system load. In a single server system, it will be: ρ=λ/μ\\nIn a multi-server system (one queue with n equal servers, each with capacity μ), it will be\\nρ=λ/(nμ)\\n'"
      ]
     },
     "execution_count": 5,
     "metadata": {},
     "output_type": "execute_result"
    }
   ],
   "source": [
    "import math\n",
    "import numpy as np\n",
    "import matplotlib.pyplot as plt\n",
    "import simpy\n",
    "import scipy\n",
    "from collections import deque\n",
    "from scipy import stats\n",
    "\n",
    "loc_lambda = 2\n",
    "loc_mu = 3\n",
    "loc_n_servers = 5\n",
    "loc_ro = loc_lambda/(loc_mu*loc_n_servers)\n",
    "\n",
    "\n",
    "def customer_arrivals(env, theater):\n",
    "    \"\"\"Create new *moviegoers* until the sim time reaches 120.\"\"\"\n",
    "    while True:\n",
    "        yield env.timeout(random.expovariate(1 / 0.5))\n",
    "\n",
    "        #movie = random.choice(theater.movies)\n",
    "        num_tickets = random.randint(1, 6)\n",
    "\n",
    "\n",
    "\n",
    "\n",
    "queue = deque(np.zeros(2))\n",
    "for i in range(loc_n_servers):\n",
    "    queue.append(i)\n",
    "    print(queue.popleft())\n",
    "    \n",
    "print(queue)\n",
    "    \n",
    "    \n",
    "\"\"\"\n",
    "λ – the arrival rate into the system as a whole.\n",
    "μ – the capacity of each of n equal servers.\n",
    "ρ represents the system load. In a single server system, it will be: ρ=λ/μ\n",
    "In a multi-server system (one queue with n equal servers, each with capacity μ), it will be\n",
    "ρ=λ/(nμ)\n",
    "\"\"\""
   ]
  },
  {
   "cell_type": "code",
   "execution_count": null,
   "id": "f9b253c5",
   "metadata": {},
   "outputs": [],
   "source": []
  },
  {
   "cell_type": "code",
   "execution_count": 6,
   "id": "1d358b8a",
   "metadata": {},
   "outputs": [],
   "source": [
    "\n",
    "import random\n",
    "\n",
    "import simpy\n",
    "import numpy as np\n",
    "\n",
    "\n",
    "#RANDOM_SEED = 42\n",
    "NEW_CUSTOMERS_base = 10  # Total number of customers\n",
    "INTERVAL_CUSTOMERS_base =5.0  # Generate new customers roughly every x seconds\n",
    "MIN_PATIENCE = 50000  # Min. customer patience\n",
    "MAX_PATIENCE = 51000  # Max. customer patience\n",
    "Banktime = 5.0\n",
    "glo_waiting =[]\n",
    "glo_verbose =False\n",
    "\n",
    "\n",
    "def source(env, number, interval, counter):\n",
    "    \"\"\"Source generates customers randomly\"\"\"\n",
    "    #queuecount= 0\n",
    "    for i in range(number):\n",
    "        \n",
    "        #queuecount+= len(counter.queue)\n",
    "        c = customer(env, 'Customer%02d' % i, counter, time_in_bank=Banktime)\n",
    "        env.process(c)\n",
    "        t = random.expovariate(1.0 / interval)\n",
    "        yield env.timeout(t)\n",
    "    #print(queuecount)\n",
    "\n",
    "def customer(env, name, counter, time_in_bank):\n",
    "    \"\"\"Customer arrives, is served and leaves.\"\"\"\n",
    "    arrive = env.now\n",
    "    if glo_verbose ==True:\n",
    "        print('%7.4f %s: Here I am' % (arrive, name))\n",
    "\n",
    "    with counter.request() as req:\n",
    "        patience = random.uniform(MIN_PATIENCE, MAX_PATIENCE)\n",
    "        # Wait for the counter or abort at the end of our tether\n",
    "        results = yield req | env.timeout(patience)\n",
    "\n",
    "        wait = env.now - arrive\n",
    "\n",
    "        glo_waiting.append(wait)\n",
    "\n",
    "        if req in results:\n",
    "            # We got to the counter\n",
    "            if glo_verbose ==True:\n",
    "                print('%7.4f %s: Waited %6.3f' % (env.now, name, wait))\n",
    "            tib = random.expovariate(1.0 / time_in_bank)\n",
    "            yield env.timeout(tib)\n",
    "                \n",
    "            if glo_verbose ==True:\n",
    "                print('%7.4f %s: Finished' % (env.now, name))\n",
    "\n",
    "        else:\n",
    "            # We reneged\n",
    "            \n",
    "            #if glo_verbose ==True:\n",
    "            print('%7.4f %s: RENEGED after %6.3f' % (env.now, name, wait))\n"
   ]
  },
  {
   "cell_type": "code",
   "execution_count": 77,
   "id": "988720f7",
   "metadata": {},
   "outputs": [
    {
     "name": "stdout",
     "output_type": "stream",
     "text": [
      "Bank renege\n",
      "0\n",
      "1\n",
      "2\n",
      "3\n",
      "0\n",
      "0\n",
      "1\n",
      "2\n",
      "3\n",
      "1\n",
      "0\n",
      "1\n",
      "2\n",
      "3\n",
      "2\n"
     ]
    }
   ],
   "source": [
    "\n",
    "\n",
    "# Setup and start the simulation\n",
    "#random.seed(RANDOM_SEED)\n",
    "repeats = 100\n",
    "service_range = 5\n",
    "dim=2\n",
    "\n",
    "customer_count_ranges = 3\n",
    "customer_interval_ranges = 4\n",
    "\n",
    "\n",
    "avg_waiting_times_col = np.zeros((customer_count_ranges,customer_interval_ranges,repeats,service_range,dim))\n",
    "for loc_counts in range(customer_count_ranges):\n",
    "    NEW_CUSTOMERS = np.power(NEW_CUSTOMERS_base,loc_counts+1)\n",
    "    for loc_intervals in range(customer_interval_ranges):\n",
    "        loc_interval_customer = INTERVAL_CUSTOMERS_base* (2**(loc_intervals))\n",
    "        for j in range(repeats):\n",
    "\n",
    "            avg_waiting_times  = np.zeros((service_range,dim))\n",
    "            for i in range(1,service_range+1):\n",
    "                INTERVAL_CUSTOMERS = loc_interval_customer*i\n",
    "\n",
    "                glo_waiting = []\n",
    "                env = simpy.Environment()\n",
    "                # Start processes and run\n",
    "                counter = simpy.Resource(env, capacity=1)\n",
    "                env.process(source(env, NEW_CUSTOMERS, INTERVAL_CUSTOMERS, counter))\n",
    "                env.run()\n",
    "                avg_waiting_times[i-1][0] = np.mean(glo_waiting)\n",
    "\n",
    "\n",
    "\n",
    "                INTERVAL_CUSTOMERS = loc_interval_customer\n",
    "\n",
    "                glo_waiting = []\n",
    "                env = simpy.Environment()\n",
    "                # Start processes and run\n",
    "                #print(counter.count)\n",
    "                #print(counter.queue)\n",
    "                counter = simpy.Resource(env, capacity=i)\n",
    "                env.process(source(env, NEW_CUSTOMERS, INTERVAL_CUSTOMERS, counter))\n",
    "                env.run()\n",
    "                avg_waiting_times[i-1][1] = np.mean(glo_waiting)\n",
    "            avg_waiting_times_col[loc_counts][loc_intervals][j] = avg_waiting_times\n"
   ]
  },
  {
   "cell_type": "code",
   "execution_count": 78,
   "id": "e6876bec",
   "metadata": {},
   "outputs": [
    {
     "data": {
      "text/plain": [
       "array([[[[6.82812912e+00, 6.84056872e+00],\n",
       "         [2.56427476e+00, 1.03351116e+00],\n",
       "         [1.78885215e+00, 1.37461430e-01],\n",
       "         [1.58876611e+00, 2.23507463e-02],\n",
       "         [1.07374362e+00, 0.00000000e+00]],\n",
       "\n",
       "        [[3.27172652e+00, 3.07859528e+00],\n",
       "         [1.08455638e+00, 2.10116000e-01],\n",
       "         [8.37095530e-01, 1.05950061e-02],\n",
       "         [5.13918236e-01, 0.00000000e+00],\n",
       "         [5.21597935e-01, 0.00000000e+00]],\n",
       "\n",
       "        [[1.45782330e+00, 1.44039326e+00],\n",
       "         [5.55362093e-01, 4.53831743e-02],\n",
       "         [2.76035496e-01, 0.00000000e+00],\n",
       "         [2.60582737e-01, 0.00000000e+00],\n",
       "         [2.04971818e-01, 0.00000000e+00]],\n",
       "\n",
       "        [[6.08932588e-01, 7.12849393e-01],\n",
       "         [2.46201840e-01, 2.66437494e-02],\n",
       "         [1.56567721e-01, 0.00000000e+00],\n",
       "         [1.46007845e-01, 0.00000000e+00],\n",
       "         [1.53664553e-01, 0.00000000e+00]]],\n",
       "\n",
       "\n",
       "       [[[3.72084905e+01, 3.27419402e+01],\n",
       "         [4.61568328e+00, 1.47918815e+00],\n",
       "         [2.42128044e+00, 2.32052195e-01],\n",
       "         [1.76876450e+00, 3.30954645e-02],\n",
       "         [1.27350484e+00, 3.38249175e-03]],\n",
       "\n",
       "        [[4.66344223e+00, 5.28409873e+00],\n",
       "         [1.66820090e+00, 3.58659090e-01],\n",
       "         [9.03315334e-01, 2.57436799e-02],\n",
       "         [8.07026923e-01, 2.89503901e-03],\n",
       "         [5.01010123e-01, 4.13443951e-04]],\n",
       "\n",
       "        [[1.61407746e+00, 1.74396918e+00],\n",
       "         [6.81347503e-01, 1.01538401e-01],\n",
       "         [4.58782758e-01, 5.42506541e-03],\n",
       "         [3.02410118e-01, 4.52906665e-04],\n",
       "         [2.84688707e-01, 0.00000000e+00]],\n",
       "\n",
       "        [[7.32951414e-01, 7.88987209e-01],\n",
       "         [3.39961547e-01, 2.66678673e-02],\n",
       "         [1.99931618e-01, 6.30023474e-04],\n",
       "         [1.56458703e-01, 0.00000000e+00],\n",
       "         [1.25766747e-01, 0.00000000e+00]]],\n",
       "\n",
       "\n",
       "       [[[1.12124169e+02, 1.16576917e+02],\n",
       "         [4.86225650e+00, 1.71334617e+00],\n",
       "         [2.55303310e+00, 2.24743635e-01],\n",
       "         [1.64528428e+00, 3.44379163e-02],\n",
       "         [1.24285795e+00, 4.74433948e-03]],\n",
       "\n",
       "        [[4.93447210e+00, 4.93611993e+00],\n",
       "         [1.66502629e+00, 3.41184320e-01],\n",
       "         [1.02998450e+00, 3.03763943e-02],\n",
       "         [7.05408773e-01, 2.82662009e-03],\n",
       "         [5.69394116e-01, 1.48481296e-04]],\n",
       "\n",
       "        [[1.66545353e+00, 1.62828187e+00],\n",
       "         [6.99773792e-01, 8.25779997e-02],\n",
       "         [4.44639903e-01, 3.97980040e-03],\n",
       "         [3.45101544e-01, 7.99091486e-05],\n",
       "         [2.69915715e-01, 0.00000000e+00]],\n",
       "\n",
       "        [[7.05184870e-01, 7.33217202e-01],\n",
       "         [3.45629785e-01, 1.80240476e-02],\n",
       "         [2.16981821e-01, 6.14109759e-04],\n",
       "         [1.63157638e-01, 0.00000000e+00],\n",
       "         [1.30059758e-01, 0.00000000e+00]]]])"
      ]
     },
     "execution_count": 78,
     "metadata": {},
     "output_type": "execute_result"
    }
   ],
   "source": []
  },
  {
   "cell_type": "code",
   "execution_count": 81,
   "id": "b38f131c",
   "metadata": {},
   "outputs": [
    {
     "data": {
      "text/plain": [
       "(3, 4, 100, 5, 2)"
      ]
     },
     "execution_count": 81,
     "metadata": {},
     "output_type": "execute_result"
    }
   ],
   "source": []
  },
  {
   "cell_type": "code",
   "execution_count": 80,
   "id": "0bad84dc",
   "metadata": {},
   "outputs": [],
   "source": [
    "def welch_t(loc_multdim_array1,loc_multdim_array2,repeats1, repeats2=False, par_axis=0,par_retdf = False,par_sign = 0.05):\n",
    "    if repeats2 ==False:\n",
    "        repeats2 = repeats1\n",
    "    mean_val_at_axis_1 = np.mean(loc_multdim_array1,axis=par_axis).T\n",
    "    mean_val_at_axis_2 = np.mean(loc_multdim_array2,axis=par_axis).T\n",
    "    \n",
    "    \n",
    "    #Standard deviation of area estimation\n",
    "    std_val_at_axis_1 = np.std(loc_multdim_array1,axis=par_axis).T\n",
    "    std_val_at_axis_2 = np.std(loc_multdim_array2,axis=par_axis).T\n",
    "    \n",
    "    #Variance of area estimation\n",
    "    var_val_at_axis_1 = repeats1* np.var(loc_multdim_array1,axis=par_axis).T/(repeats1-1)\n",
    "    var_val_at_axis_2 = repeats2* np.var(loc_multdim_array2,axis=par_axis).T/(repeats2-1)\n",
    "\n",
    "    #Welch's T test created from the slides in the lectures\n",
    "    mean_diff = mean_val_at_axis_1- mean_val_at_axis_2\n",
    "    var_diff = np.sqrt(var_val_at_axis_1/repeats1 + var_val_at_axis_2/repeats2)\n",
    "    loc_welch_t =abs(mean_diff/var_diff)\n",
    "    val_1 = np.power(var_val_at_axis_1/repeats1 + var_val_at_axis_2/repeats2,2)\n",
    "    val_2 = np.power(var_val_at_axis_1/repeats1,2)/(repeats1-1) + np.power(var_val_at_axis_2/repeats2,2)/(repeats2-1)\n",
    "    loc_welch_df = np.divide(val_1,val_2)\n",
    "    if np.shape([loc_welch_df]) == (1,): \n",
    "        loc_welch_critical_value = scipy.stats.t.ppf(q=1-par_sign,df=loc_welch_df) \n",
    "    else:\n",
    "        loc_welch_critical_value = np.array([scipy.stats.t.ppf(q=1-.05,df=each_welch_df) for each_welch_df in loc_welch_df])\n",
    "    if par_retdf == True:\n",
    "        return loc_welch_t, loc_welch_critical_value, loc_welch_df\n",
    "    else:\n",
    "        return loc_welch_t, loc_welch_critical_value\n",
    "    "
   ]
  },
  {
   "cell_type": "code",
   "execution_count": 67,
   "id": "59815508",
   "metadata": {},
   "outputs": [
    {
     "name": "stdout",
     "output_type": "stream",
     "text": [
      "test for the function 'welch_t' worked\n"
     ]
    }
   ],
   "source": [
    "\n",
    "sample1 = [14, 15, 15, 15, 16, 18, 22, 23, 24, 25, 25]\n",
    "sample2 = [10, 12, 14, 15, 18, 22, 24, 27, 31, 33, 34, 34, 34]\n",
    "#samples = np.append(sample1,sample2,axis=0)\n",
    "#print(samples)\n",
    "if(welch_t(sample1,sample2,len(sample1),len(sample2),par_axis=0,par_retdf=True) ==(1.5379022758390934, 1.7333523336880952, 18.13737799877845)):\n",
    "    print(\"test for the function 'welch_t' worked\")"
   ]
  },
  {
   "cell_type": "code",
   "execution_count": 82,
   "id": "2f1433d7",
   "metadata": {},
   "outputs": [
    {
     "name": "stdout",
     "output_type": "stream",
     "text": [
      "(3, 4, 100, 5)\n"
     ]
    },
    {
     "data": {
      "text/plain": [
       "<Figure size 3000x2000 with 0 Axes>"
      ]
     },
     "metadata": {},
     "output_type": "display_data"
    },
    {
     "data": {
      "image/png": "[encoded data removed]",
      "text/plain": [
       "<Figure size 640x480 with 12 Axes>"
      ]
     },
     "metadata": {},
     "output_type": "display_data"
    }
   ],
   "source": [
    "print(np.shape(avg_waiting_times_col.T[1].T))\n",
    "glo_welch_t,glo_welch_critical_value = welch_t(avg_waiting_times_col.T[0].T,avg_waiting_times_col.T[1].T,np.shape(avg_waiting_times_col.T[1].T)[2],par_axis=2)\n",
    "\n",
    "x_axis = np.int_(np.arange(int(service_range)) +1)\n",
    "plt.figure(figsize=(30, 20))\n",
    "fig, axs = plt.subplots(customer_count_ranges, customer_interval_ranges)\n",
    "\n",
    "\n",
    "for loc_counts in range(customer_count_ranges):\n",
    "    for loc_intervals in range(customer_interval_ranges):\n",
    "\n",
    "        #axs[loc_counts][loc_intervals].plot(np.int_(x_axis),mean_area_estimate_ss.T[loc_counts][loc_intervals],\"g-\",label =\"Welch's T-value\")\n",
    "        #axs[loc_counts][loc_intervals].plot(np.int_(x_axis),mean_area_estimate_mc.T[loc_counts][loc_intervals],\"g-\",label =\"Welch's T-value\")\n",
    "        axs[loc_counts][loc_intervals].plot(np.int_(x_axis),glo_welch_t.T[loc_counts][loc_intervals],\"g-\",label =\"Welch's T-value\")\n",
    "        axs[loc_counts][loc_intervals].plot(np.int_(x_axis),glo_welch_critical_value.T[loc_counts][loc_intervals],\"r-\",linewidth=3,label =\"Corresponding Critical Value\")\n",
    "        title = (str(np.power(NEW_CUSTOMERS_base,loc_counts+1))+\" Amount, \"+str(int(INTERVAL_CUSTOMERS_base* (2**(loc_intervals))))+\" Mean interval\")\n",
    "        axs[loc_counts][loc_intervals].set_title(title,fontsize=5.5)\n",
    "plt.ylabel(\"T-Value\")\n",
    "plt.xlabel(\"amount of servers\")\n",
    "#plt.legend()\n",
    "#plt.tight_layout()\n",
    "fig.savefig('welch_t_test_noTitle.png', dpi=300)\n",
    "plt.show()"
   ]
  },
  {
   "cell_type": "code",
   "execution_count": null,
   "id": "d5e5ae26",
   "metadata": {},
   "outputs": [],
   "source": []
  },
  {
   "cell_type": "code",
   "execution_count": null,
   "id": "5b1279fc",
   "metadata": {},
   "outputs": [],
   "source": []
  }
 ],
 "metadata": {
  "kernelspec": {
   "display_name": "Python 3 (ipykernel)",
   "language": "python",
   "name": "python3"
  },
  "language_info": {
   "codemirror_mode": {
    "name": "ipython",
    "version": 3
   },
   "file_extension": ".py",
   "mimetype": "text/x-python",
   "name": "python",
   "nbconvert_exporter": "python",
   "pygments_lexer": "ipython3",
   "version": "3.9.13"
  }
 },
 "nbformat": 4,
 "nbformat_minor": 5
}
