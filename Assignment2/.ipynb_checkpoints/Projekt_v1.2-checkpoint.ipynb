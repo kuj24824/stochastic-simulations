{
 "cells": [
  {
   "cell_type": "markdown",
   "id": "68c361cc",
   "metadata": {},
   "source": [
    "## Discrete event simulation"
   ]
  },
  {
   "cell_type": "code",
   "execution_count": 1,
   "id": "c75596ef",
   "metadata": {},
   "outputs": [],
   "source": [
    "# Imports\n",
    "import numpy as np\n",
    "import matplotlib.pyplot as plt\n",
    "\n",
    "from server_queue import server_system"
   ]
  },
  {
   "cell_type": "markdown",
   "id": "1c545151",
   "metadata": {},
   "source": [
    "### Comparing an M/M/n queue and  an M/M/1 queue"
   ]
  },
  {
   "cell_type": "markdown",
   "id": "a9d51d7e",
   "metadata": {},
   "source": [
    "We will look at the difference in the average waiting times between a server system that has n servers, a system that has 1 server with an n-fold lower arrival rate and a system that has 1 server with an n-fold lower arrival rate but gives priority to the shortest job. We will do this for different values of n and different system loads."
   ]
  },
  {
   "cell_type": "code",
   "execution_count": 2,
   "id": "3bf1c3c3",
   "metadata": {},
   "outputs": [],
   "source": [
    "# Number of repeats of every simulation\n",
    "repeats = 100"
   ]
  },
  {
   "cell_type": "markdown",
   "id": "dfafc472",
   "metadata": {},
   "source": [
    "#### System load = 0.4"
   ]
  },
  {
   "cell_type": "code",
   "execution_count": 3,
   "id": "5f5da005",
   "metadata": {},
   "outputs": [],
   "source": [
    "# Settings of the system\n",
    "n_jobs = 100\n",
    "n_servers = [n for n in range(1, 6)]\n",
    "\n",
    "arrival_rate = 2\n",
    "service_time = 1/5"
   ]
  },
  {
   "cell_type": "code",
   "execution_count": 4,
   "id": "22fc33d6",
   "metadata": {},
   "outputs": [],
   "source": [
    "# Creating the M/M/n system with n = 1\n",
    "system_n = server_system(n_jobs, n_servers[0], arrival_rate, service_time, queue_model='fifo')\n",
    "# Creating the M/M/1 system\n",
    "system_1 = server_system(n_jobs, 1, arrival_rate, service_time, queue_model='fifo')\n",
    "# Creating the M/M/1 system with priority for the shortest job\n",
    "system_prio = server_system(n_jobs, 1, arrival_rate, service_time, queue_model = 'priority')"
   ]
  },
  {
   "cell_type": "code",
   "execution_count": 5,
   "id": "4732b0c8",
   "metadata": {},
   "outputs": [],
   "source": [
    "# Create dictionaries to store the data\n",
    "waiting_times_n_1 = dict()\n",
    "waiting_times_1_1 = dict()\n",
    "waiting_times_prio_1 = dict()\n",
    "\n",
    "for i in n_servers:\n",
    "    \n",
    "    # Change the capapcity in the M/M/n queue and increase the arrival rate to keep the system load constant\n",
    "    system_n.set_n_servers(i)\n",
    "    system_n.arrival_rate = arrival_rate * i\n",
    "    \n",
    "    waiting_times_n_1[\"%s\" % i] = []\n",
    "    waiting_times_1_1[\"%s\" % i] = []\n",
    "    waiting_times_prio_1[\"%s\" % i] = []\n",
    "    \n",
    "    for _ in range(repeats):\n",
    "        # Run the systems\n",
    "        system_n.run()\n",
    "        system_1.run()\n",
    "        system_prio.run()\n",
    "    \n",
    "        # Store the waiting times\n",
    "        waiting_times_n_1[\"%s\" % i].append(np.average(system_n.waiting_times))\n",
    "        waiting_times_1_1[\"%s\" % i].append(np.average(system_1.waiting_times))\n",
    "        waiting_times_prio_1[\"%s\" % i].append(np.average(system_prio.waiting_times))"
   ]
  },
  {
   "cell_type": "code",
   "execution_count": 6,
   "id": "e2ded46a",
   "metadata": {},
   "outputs": [
    {
     "name": "stdout",
     "output_type": "stream",
     "text": [
      "1: 0.13149513284571557 0.12854467656991198 0.10323813246116426\n",
      "2: 0.039238233993131325 0.133818246993185 0.10311910723360633\n",
      "3: 0.013835318429922517 0.13167634001310963 0.09766546819010057\n",
      "4: 0.006712017982628275 0.1268525579919424 0.09596154922725054\n",
      "5: 0.0031797216172366467 0.13005711809217574 0.10245474661990192\n"
     ]
    }
   ],
   "source": [
    "for i in n_servers:\n",
    "    print(\"%s:\" % i, np.average(waiting_times_n_1[\"%s\" % i]), np.average(waiting_times_1_1[\"%s\" % i]), np.average(waiting_times_prio_1[\"%s\" % i]))"
   ]
  },
  {
   "cell_type": "markdown",
   "id": "0e7e825a",
   "metadata": {},
   "source": [
    "#### System load = 0.8"
   ]
  },
  {
   "cell_type": "code",
   "execution_count": 7,
   "id": "9783a73d",
   "metadata": {},
   "outputs": [],
   "source": [
    "arrival_rate = 4\n",
    "service_time = 1/5\n",
    "\n",
    "system_n.arrival_rate = arrival_rate\n",
    "system_1.arrival_rate = arrival_rate\n",
    "system_prio.arrival_rate = arrival_rate"
   ]
  },
  {
   "cell_type": "code",
   "execution_count": 8,
   "id": "52a68145",
   "metadata": {},
   "outputs": [],
   "source": [
    "# Create dictionaries to store the data\n",
    "waiting_times_n_2 = dict()\n",
    "waiting_times_1_2 = dict()\n",
    "waiting_times_prio_2 = dict()\n",
    "\n",
    "for i in n_servers:\n",
    "    \n",
    "    # Change the capapcity in the M/M/n queue and increase the arrival rate to keep the system load constant\n",
    "    system_n.set_n_servers(i)\n",
    "    system_n.arrival_rate = arrival_rate * i\n",
    "    \n",
    "    waiting_times_n_2[\"%s\" % i] = []\n",
    "    waiting_times_1_2[\"%s\" % i] = []\n",
    "    waiting_times_prio_2[\"%s\" % i] = []\n",
    "    \n",
    "    for _ in range(repeats):\n",
    "        # Run the systems\n",
    "        system_n.run()\n",
    "        system_1.run()\n",
    "        system_prio.run()\n",
    "    \n",
    "        # Store the waiting times\n",
    "        waiting_times_n_2[\"%s\" % i].append(np.average(system_n.waiting_times))\n",
    "        waiting_times_1_2[\"%s\" % i].append(np.average(system_1.waiting_times))\n",
    "        waiting_times_prio_2[\"%s\" % i].append(np.average(system_prio.waiting_times))"
   ]
  },
  {
   "cell_type": "code",
   "execution_count": 9,
   "id": "8a36db8a",
   "metadata": {},
   "outputs": [
    {
     "name": "stdout",
     "output_type": "stream",
     "text": [
      "1: 0.5485249493079994 0.6035938041813597 0.35342473761072546\n",
      "2: 0.2641078738170229 0.6249783949029148 0.3110597405733329\n",
      "3: 0.16617031091428835 0.6116579482438702 0.32978937006676723\n",
      "4: 0.10071037169191004 0.6537021314610054 0.33698760689340995\n",
      "5: 0.07105926562615715 0.5975289529097106 0.31124555335165205\n"
     ]
    }
   ],
   "source": [
    "for i in n_servers:\n",
    "    print(\"%s:\" % i, np.average(waiting_times_n_2[\"%s\" % i]), np.average(waiting_times_1_2[\"%s\" % i]), np.average(waiting_times_prio_2[\"%s\" % i]))"
   ]
  },
  {
   "cell_type": "markdown",
   "id": "28e10937",
   "metadata": {},
   "source": [
    "#### System load = 0.95"
   ]
  },
  {
   "cell_type": "code",
   "execution_count": 10,
   "id": "eb763b46",
   "metadata": {},
   "outputs": [],
   "source": [
    "arrival_rate = 4.75\n",
    "service_time = 1/5\n",
    "\n",
    "system_n.arrival_rate = arrival_rate\n",
    "system_1.arrival_rate = arrival_rate\n",
    "system_prio.arrival_rate = arrival_rate"
   ]
  },
  {
   "cell_type": "code",
   "execution_count": 11,
   "id": "560735ef",
   "metadata": {},
   "outputs": [],
   "source": [
    "# Create dictionaries to store the data\n",
    "waiting_times_n_3 = dict()\n",
    "waiting_times_1_3 = dict()\n",
    "waiting_times_prio_3 = dict()\n",
    "\n",
    "for i in n_servers:\n",
    "    \n",
    "    # Change the capapcity in the M/M/n queue and increase the arrival rate to keep the system load constant\n",
    "    system_n.set_n_servers(i)\n",
    "    system_n.arrival_rate = arrival_rate * i\n",
    "    \n",
    "    waiting_times_n_3[\"%s\" % i] = []\n",
    "    waiting_times_1_3[\"%s\" % i] = []\n",
    "    waiting_times_prio_3[\"%s\" % i] = []\n",
    "    \n",
    "    for _ in range(repeats):\n",
    "        # Run the systems\n",
    "        system_n.run()\n",
    "        system_1.run()\n",
    "        system_prio.run()\n",
    "    \n",
    "        # Store the waiting times\n",
    "        waiting_times_n_3[\"%s\" % i].append(np.average(system_n.waiting_times))\n",
    "        waiting_times_1_3[\"%s\" % i].append(np.average(system_1.waiting_times))\n",
    "        waiting_times_prio_3[\"%s\" % i].append(np.average(system_prio.waiting_times))"
   ]
  },
  {
   "cell_type": "code",
   "execution_count": 12,
   "id": "10cc76ae",
   "metadata": {},
   "outputs": [
    {
     "name": "stdout",
     "output_type": "stream",
     "text": [
      "1: 1.101941230087949 1.1464347954329046 0.48134185015539116\n",
      "2: 0.5024898108650927 1.2490255037981537 0.45403724809313645\n",
      "3: 0.2857570480932845 1.2017705959045897 0.5110326322751623\n",
      "4: 0.19932824412826736 1.1920913156302828 0.46262543313344584\n",
      "5: 0.16472846739430314 1.0850731127307336 0.48975935430083767\n"
     ]
    }
   ],
   "source": [
    "for i in n_servers:\n",
    "    print(\"%s:\" % i, np.average(waiting_times_n_3[\"%s\" % i]), np.average(waiting_times_1_3[\"%s\" % i]), np.average(waiting_times_prio_3[\"%s\" % i]))"
   ]
  },
  {
   "cell_type": "markdown",
   "id": "15ed97e2",
   "metadata": {},
   "source": [
    "### Effect of service time distribution on the average waiting time"
   ]
  },
  {
   "cell_type": "code",
   "execution_count": null,
   "id": "b31edeb5",
   "metadata": {},
   "outputs": [],
   "source": []
  }
 ],
 "metadata": {
  "kernelspec": {
   "display_name": "Python 3 (ipykernel)",
   "language": "python",
   "name": "python3"
  },
  "language_info": {
   "codemirror_mode": {
    "name": "ipython",
    "version": 3
   },
   "file_extension": ".py",
   "mimetype": "text/x-python",
   "name": "python",
   "nbconvert_exporter": "python",
   "pygments_lexer": "ipython3",
   "version": "3.9.13"
  }
 },
 "nbformat": 4,
 "nbformat_minor": 5
}
