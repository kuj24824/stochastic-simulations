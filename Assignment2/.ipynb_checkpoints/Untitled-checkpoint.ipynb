{
 "cells": [
  {
   "cell_type": "code",
   "execution_count": 36,
   "id": "8a85e5fa",
   "metadata": {},
   "outputs": [],
   "source": [
    "import numpy as np\n",
    "\n",
    "lo_lamda = 0.2\n",
    "lo_mu =0.2\n",
    "iterations =20\n",
    "second_server = True\n",
    "result = np.zeros(iterations)\n",
    "result[0]=1\n",
    "\n",
    "\n",
    "for i in range(iterations-1):\n",
    "    diff = np.zeros(iterations)\n",
    "    \n",
    "    diff[0]= result[1]*lo_mu - result[0]*lo_lamda\n",
    "    if second_server  ==True:\n",
    "        if i>=1:\n",
    "            diff[1]= result[2]*lo_mu*2 +result[0]*lo_lamda - result[1]*lo_lamda - result[1]*lo_mu\n",
    "            for j in range(2,i+1):\n",
    "                diff[j] = result[j+1]*lo_mu*2 +result[j-1]*lo_lamda - result[j]*lo_lamda - result[j]*lo_mu*2\n",
    "        diff[i+1]= result[i]*lo_lamda \n",
    "\n",
    "    else:\n",
    "        if i>=1:\n",
    "            diff[1]= result[j+1]*lo_mu +result[j-1]*lo_lamda - result[j]*lo_lamda - result[j]*lo_mu\n",
    "            for j in range(2,i+1):\n",
    "                diff[j] = result[j+1]*lo_mu +result[j-1]*lo_lamda - result[j]*lo_lamda - result[j]*lo_mu\n",
    "        diff[i+1]= result[i]*lo_lamda \n",
    "\n",
    "    result = result + diff "
   ]
  },
  {
   "cell_type": "code",
   "execution_count": 37,
   "id": "07935d31",
   "metadata": {},
   "outputs": [],
   "source": [
    "result1 = result"
   ]
  },
  {
   "cell_type": "code",
   "execution_count": 38,
   "id": "1bd952f0",
   "metadata": {},
   "outputs": [
    {
     "data": {
      "text/plain": [
       "array([3.58860182e-01, 3.47262821e-01, 1.65402075e-01, 7.53933233e-02,\n",
       "       3.25268378e-02, 1.31525327e-02, 4.94141670e-03, 1.71119549e-03,\n",
       "       5.42005672e-04, 1.55784115e-04, 4.02813597e-05, 9.27744267e-06,\n",
       "       1.88058902e-06, 3.30497996e-07, 4.93740884e-08, 6.10286961e-09,\n",
       "       5.99942758e-10, 4.40401920e-11, 2.14958080e-12, 5.24288000e-14])"
      ]
     },
     "execution_count": 38,
     "metadata": {},
     "output_type": "execute_result"
    }
   ],
   "source": [
    "sum(np.array(result1) * np.arange(len(result1)))"
   ]
  },
  {
   "cell_type": "code",
   "execution_count": 39,
   "id": "52cc615c",
   "metadata": {},
   "outputs": [
    {
     "data": {
      "text/plain": [
       "array([3.16026007e-01, 1.06968450e-01, 4.58978841e-02, 1.76556033e-02,\n",
       "       5.97696848e-03, 1.75822859e-03, 4.45657053e-04, 9.67627353e-05,\n",
       "       1.79124779e-05, 2.81410797e-06, 3.73188985e-07, 4.14878924e-08,\n",
       "       3.83088358e-09, 2.90106884e-10, 1.77016916e-11, 8.48456700e-13,\n",
       "       3.07461000e-14, 7.91600000e-16, 1.29000000e-17, 1.00000000e-19])"
      ]
     },
     "execution_count": 39,
     "metadata": {},
     "output_type": "execute_result"
    }
   ],
   "source": [
    "sum(np.array(result2)* np.arange(len(result2)))"
   ]
  },
  {
   "cell_type": "code",
   "execution_count": null,
   "id": "bb411609",
   "metadata": {},
   "outputs": [],
   "source": []
  }
 ],
 "metadata": {
  "kernelspec": {
   "display_name": "Python 3 (ipykernel)",
   "language": "python",
   "name": "python3"
  },
  "language_info": {
   "codemirror_mode": {
    "name": "ipython",
    "version": 3
   },
   "file_extension": ".py",
   "mimetype": "text/x-python",
   "name": "python",
   "nbconvert_exporter": "python",
   "pygments_lexer": "ipython3",
   "version": "3.9.12"
  }
 },
 "nbformat": 4,
 "nbformat_minor": 5
}
