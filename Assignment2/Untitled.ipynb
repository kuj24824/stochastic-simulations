{
 "cells": [
  {
   "cell_type": "code",
   "execution_count": 36,
   "id": "f2bf66dd",
   "metadata": {},
   "outputs": [],
   "source": [
    "import numpy as np\n",
    "\n",
    "lo_lamda = 0.2\n",
    "lo_mu =0.2\n",
    "iterations =200\n",
    "second_server = True\n",
    "result = np.zeros(iterations)\n",
    "result[0]=1\n",
    "\n",
    "\n",
    "for i in range(iterations-1):\n",
    "    diff = np.zeros(iterations)\n",
    "    \n",
    "    diff[0]= result[1]*lo_mu - result[0]*lo_lamda\n",
    "    if second_server  ==True:\n",
    "        if i>=1:\n",
    "            diff[1]= result[2]*lo_mu*2 +result[0]*lo_lamda - result[1]*lo_lamda - result[1]*lo_mu\n",
    "            for j in range(2,i+1):\n",
    "                diff[j] = result[j+1]*lo_mu*2 +result[j-1]*lo_lamda - result[j]*lo_lamda - result[j]*lo_mu*2\n",
    "        diff[i+1]= result[i]*lo_lamda \n",
    "\n",
    "    else:\n",
    "        if i>=1:\n",
    "            diff[1]= result[j+1]*lo_mu +result[j-1]*lo_lamda - result[j]*lo_lamda - result[j]*lo_mu\n",
    "            for j in range(2,i+1):\n",
    "                diff[j] = result[j+1]*lo_mu +result[j-1]*lo_lamda - result[j]*lo_lamda - result[j]*lo_mu\n",
    "        diff[i+1]= result[i]*lo_lamda \n",
    "\n",
    "    result = result + diff "
   ]
  },
  {
   "cell_type": "code",
   "execution_count": 37,
   "id": "8afb0c54",
   "metadata": {},
   "outputs": [],
   "source": [
    "result1 = result"
   ]
  },
  {
   "cell_type": "code",
   "execution_count": 40,
   "id": "fd66ed83",
   "metadata": {},
   "outputs": [
    {
     "data": {
      "text/plain": [
       "1.1480144498140905"
      ]
     },
     "execution_count": 40,
     "metadata": {},
     "output_type": "execute_result"
    }
   ],
   "source": [
    "sum(np.array(result1) * np.arange(len(result1)))"
   ]
  },
  {
   "cell_type": "code",
   "execution_count": 41,
   "id": "610918f1",
   "metadata": {},
   "outputs": [
    {
     "data": {
      "text/plain": [
       "0.2879541913068782"
      ]
     },
     "execution_count": 41,
     "metadata": {},
     "output_type": "execute_result"
    }
   ],
   "source": [
    "sum(np.array(result2)* np.arange(len(result2)))"
   ]
  },
  {
   "cell_type": "code",
   "execution_count": null,
   "id": "91ec60f8",
   "metadata": {},
   "outputs": [],
   "source": []
  }
 ],
 "metadata": {
  "kernelspec": {
   "display_name": "Python 3 (ipykernel)",
   "language": "python",
   "name": "python3"
  },
  "language_info": {
   "codemirror_mode": {
    "name": "ipython",
    "version": 3
   },
   "file_extension": ".py",
   "mimetype": "text/x-python",
   "name": "python",
   "nbconvert_exporter": "python",
   "pygments_lexer": "ipython3",
   "version": "3.9.12"
  }
 },
 "nbformat": 4,
 "nbformat_minor": 5
}
