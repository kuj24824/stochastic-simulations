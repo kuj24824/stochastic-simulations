{
 "cells": [
  {
   "cell_type": "markdown",
   "id": "7bd875dd",
   "metadata": {},
   "source": [
    "## Discrete event simulation"
   ]
  },
  {
   "cell_type": "code",
   "execution_count": 1,
   "id": "4a757fb3",
   "metadata": {},
   "outputs": [],
   "source": [
    "# Imports\n",
    "import numpy as np\n",
    "import matplotlib.pyplot as plt\n",
    "\n",
    "from server_queue import server_system"
   ]
  },
  {
   "cell_type": "code",
   "execution_count": 2,
   "id": "203f2ad5",
   "metadata": {},
   "outputs": [],
   "source": [
    "# Number of repeats of every simulation\n",
    "repeats = 100"
   ]
  },
  {
   "cell_type": "markdown",
   "id": "1831dcfd",
   "metadata": {},
   "source": [
    "### Comparing an M/M/n queue and  an M/M/1 queue"
   ]
  },
  {
   "cell_type": "markdown",
   "id": "aae9a91c",
   "metadata": {},
   "source": [
    "We will look at the difference in the average waiting times between a server system that has n servers, a system that has 1 server with an n-fold lower arrival rate and a system that has 1 server with an n-fold lower arrival rate but gives priority to the shortest job. We will do this for different values of n and different system loads."
   ]
  },
  {
   "cell_type": "markdown",
   "id": "8f500ab4",
   "metadata": {},
   "source": [
    "#### System load = 0.4"
   ]
  },
  {
   "cell_type": "code",
   "execution_count": 3,
   "id": "5ce1c759",
   "metadata": {},
   "outputs": [],
   "source": [
    "# Settings of the system\n",
    "n_jobs = 100\n",
    "n_servers = [n for n in range(1, 6)]\n",
    "\n",
    "arrival_rate = 2\n",
    "service_time = 1/5"
   ]
  },
  {
   "cell_type": "code",
   "execution_count": 4,
   "id": "95945b0b",
   "metadata": {},
   "outputs": [],
   "source": [
    "# Creating the M/M/n system with n = 1\n",
    "system_n = server_system(n_jobs, n_servers[0], arrival_rate, service_time, queue_model='fifo')\n",
    "# Creating the M/M/1 system\n",
    "system_1 = server_system(n_jobs, 1, arrival_rate, service_time, queue_model='fifo')\n",
    "# Creating the M/M/1 system with priority for the shortest job\n",
    "system_prio = server_system(n_jobs, 1, arrival_rate, service_time, queue_model = 'priority')"
   ]
  },
  {
   "cell_type": "code",
   "execution_count": 5,
   "id": "2bb2851f",
   "metadata": {},
   "outputs": [],
   "source": [
    "# Create dictionaries to store the data\n",
    "waiting_times_n_1 = dict()\n",
    "waiting_times_1_1 = dict()\n",
    "waiting_times_prio_1 = dict()\n",
    "\n",
    "for i in n_servers:\n",
    "    \n",
    "    # Change the capapcity in the M/M/n queue and increase the arrival rate to keep the system load constant\n",
    "    system_n.set_n_servers(i)\n",
    "    system_n.arrival_rate = arrival_rate * i\n",
    "    \n",
    "    waiting_times_n_1[\"%s\" % i] = []\n",
    "    waiting_times_1_1[\"%s\" % i] = []\n",
    "    waiting_times_prio_1[\"%s\" % i] = []\n",
    "    \n",
    "    for _ in range(repeats):\n",
    "        # Run the systems\n",
    "        system_n.run()\n",
    "        system_1.run()\n",
    "        system_prio.run()\n",
    "    \n",
    "        # Store the waiting times\n",
    "        waiting_times_n_1[\"%s\" % i].append(np.average(system_n.waiting_times))\n",
    "        waiting_times_1_1[\"%s\" % i].append(np.average(system_1.waiting_times))\n",
    "        waiting_times_prio_1[\"%s\" % i].append(np.average(system_prio.waiting_times))"
   ]
  },
  {
   "cell_type": "code",
   "execution_count": 6,
   "id": "7c45bf54",
   "metadata": {},
   "outputs": [
    {
     "name": "stdout",
     "output_type": "stream",
     "text": [
      "1: 0.12665201877703278 0.13042560100360256 0.09604942862040979\n",
      "2: 0.032692098732104664 0.14509036525349828 0.10447304488277703\n",
      "3: 0.014740051295601098 0.1338414333155308 0.09811937018998014\n",
      "4: 0.0065754385080745124 0.13185595262423577 0.10047223350065834\n",
      "5: 0.002732254507441212 0.1276381918897212 0.09583353106284377\n"
     ]
    }
   ],
   "source": [
    "for i in n_servers:\n",
    "    print(\"%s:\" % i, np.average(waiting_times_n_1[\"%s\" % i]), np.average(waiting_times_1_1[\"%s\" % i]), np.average(waiting_times_prio_1[\"%s\" % i]))"
   ]
  },
  {
   "cell_type": "markdown",
   "id": "8df10980",
   "metadata": {},
   "source": [
    "#### System load = 0.8"
   ]
  },
  {
   "cell_type": "code",
   "execution_count": 7,
   "id": "1f3b9554",
   "metadata": {},
   "outputs": [],
   "source": [
    "arrival_rate = 4\n",
    "service_time = 1/5\n",
    "\n",
    "system_n.arrival_rate = arrival_rate\n",
    "system_1.arrival_rate = arrival_rate\n",
    "system_prio.arrival_rate = arrival_rate"
   ]
  },
  {
   "cell_type": "code",
   "execution_count": 8,
   "id": "d05caa5c",
   "metadata": {},
   "outputs": [],
   "source": [
    "# Create dictionaries to store the data\n",
    "waiting_times_n_2 = dict()\n",
    "waiting_times_1_2 = dict()\n",
    "waiting_times_prio_2 = dict()\n",
    "\n",
    "for i in n_servers:\n",
    "    \n",
    "    # Change the capapcity in the M/M/n queue and increase the arrival rate to keep the system load constant\n",
    "    system_n.set_n_servers(i)\n",
    "    system_n.arrival_rate = arrival_rate * i\n",
    "    \n",
    "    waiting_times_n_2[\"%s\" % i] = []\n",
    "    waiting_times_1_2[\"%s\" % i] = []\n",
    "    waiting_times_prio_2[\"%s\" % i] = []\n",
    "    \n",
    "    for _ in range(repeats):\n",
    "        # Run the systems\n",
    "        system_n.run()\n",
    "        system_1.run()\n",
    "        system_prio.run()\n",
    "    \n",
    "        # Store the waiting times\n",
    "        waiting_times_n_2[\"%s\" % i].append(np.average(system_n.waiting_times))\n",
    "        waiting_times_1_2[\"%s\" % i].append(np.average(system_1.waiting_times))\n",
    "        waiting_times_prio_2[\"%s\" % i].append(np.average(system_prio.waiting_times))"
   ]
  },
  {
   "cell_type": "code",
   "execution_count": 9,
   "id": "24be5ea5",
   "metadata": {},
   "outputs": [
    {
     "name": "stdout",
     "output_type": "stream",
     "text": [
      "1: 0.6949676631716337 0.6327343546905798 0.30776710388205497\n",
      "2: 0.23799284118302005 0.6081952190310742 0.3022216601348366\n",
      "3: 0.16386003655339207 0.5363680711087054 0.3130894347230613\n",
      "4: 0.09746410818279601 0.5971717377908751 0.2981787794824282\n",
      "5: 0.06750375375236219 0.5960337508031153 0.3247241922469424\n"
     ]
    }
   ],
   "source": [
    "for i in n_servers:\n",
    "    print(\"%s:\" % i, np.average(waiting_times_n_2[\"%s\" % i]), np.average(waiting_times_1_2[\"%s\" % i]), np.average(waiting_times_prio_2[\"%s\" % i]))"
   ]
  },
  {
   "cell_type": "markdown",
   "id": "494131b7",
   "metadata": {},
   "source": [
    "#### System load = 0.95"
   ]
  },
  {
   "cell_type": "code",
   "execution_count": 10,
   "id": "ed68e707",
   "metadata": {},
   "outputs": [],
   "source": [
    "arrival_rate = 4.75\n",
    "service_time = 1/5\n",
    "\n",
    "system_n.arrival_rate = arrival_rate\n",
    "system_1.arrival_rate = arrival_rate\n",
    "system_prio.arrival_rate = arrival_rate"
   ]
  },
  {
   "cell_type": "code",
   "execution_count": 11,
   "id": "43d6ee91",
   "metadata": {},
   "outputs": [],
   "source": [
    "# Create dictionaries to store the data\n",
    "waiting_times_n_3 = dict()\n",
    "waiting_times_1_3 = dict()\n",
    "waiting_times_prio_3 = dict()\n",
    "\n",
    "for i in n_servers:\n",
    "    \n",
    "    # Change the capapcity in the M/M/n queue and increase the arrival rate to keep the system load constant\n",
    "    system_n.set_n_servers(i)\n",
    "    system_n.arrival_rate = arrival_rate * i\n",
    "    \n",
    "    waiting_times_n_3[\"%s\" % i] = []\n",
    "    waiting_times_1_3[\"%s\" % i] = []\n",
    "    waiting_times_prio_3[\"%s\" % i] = []\n",
    "    \n",
    "    for _ in range(repeats):\n",
    "        # Run the systems\n",
    "        system_n.run()\n",
    "        system_1.run()\n",
    "        system_prio.run()\n",
    "    \n",
    "        # Store the waiting times\n",
    "        waiting_times_n_3[\"%s\" % i].append(np.average(system_n.waiting_times))\n",
    "        waiting_times_1_3[\"%s\" % i].append(np.average(system_1.waiting_times))\n",
    "        waiting_times_prio_3[\"%s\" % i].append(np.average(system_prio.waiting_times))"
   ]
  },
  {
   "cell_type": "code",
   "execution_count": 12,
   "id": "7ba8e14c",
   "metadata": {},
   "outputs": [
    {
     "name": "stdout",
     "output_type": "stream",
     "text": [
      "1: 1.1837389145218848 1.0982546496657255 0.4897556386510442\n",
      "2: 0.5016658029925264 1.0618839818570398 0.4694639780312107\n",
      "3: 0.30217132409721636 1.1216185226630362 0.49567471482218756\n",
      "4: 0.21148077176217014 0.9865894408899156 0.46765074157385395\n",
      "5: 0.16835057624677321 1.2053703808426792 0.47708981112905674\n"
     ]
    }
   ],
   "source": [
    "for i in n_servers:\n",
    "    print(\"%s:\" % i, np.average(waiting_times_n_3[\"%s\" % i]), np.average(waiting_times_1_3[\"%s\" % i]), np.average(waiting_times_prio_3[\"%s\" % i]))"
   ]
  },
  {
   "cell_type": "markdown",
   "id": "2374c73f",
   "metadata": {},
   "source": [
    "### Effect of service time distribution on the average waiting time"
   ]
  },
  {
   "cell_type": "markdown",
   "id": "0f8a0fe0",
   "metadata": {},
   "source": [
    "#### System load = 0.4"
   ]
  },
  {
   "cell_type": "code",
   "execution_count": 15,
   "id": "87a577f4",
   "metadata": {},
   "outputs": [],
   "source": [
    "# Settings of the system\n",
    "n_jobs = 100\n",
    "n_servers = [n for n in range(1, 6)]\n",
    "\n",
    "arrival_rate = 0.4\n",
    "service_time = 1"
   ]
  },
  {
   "cell_type": "code",
   "execution_count": 16,
   "id": "06530180",
   "metadata": {},
   "outputs": [],
   "source": [
    "# Creating the M/D/n system with n = 1\n",
    "system_d_n = server_system(n_jobs, n_servers[0], arrival_rate, service_time, service_process='deterministic')\n",
    "# Creating the M/D/1 system\n",
    "system_d_1 = server_system(n_jobs, 1, arrival_rate, service_time, service_process='deterministic')\n",
    "\n",
    "# Creating the M/H/n system with n = 1\n",
    "system_h_n = server_system(n_jobs, n_servers[0], arrival_rate, service_time, service_process='hyperexponential')\n",
    "# Creating the M/H/1 system\n",
    "system_h_1 = server_system(n_jobs, 1, arrival_rate, service_time, service_process='hyperexponential')"
   ]
  },
  {
   "cell_type": "code",
   "execution_count": 17,
   "id": "855d0330",
   "metadata": {},
   "outputs": [],
   "source": [
    "# Create dictionaries to store the data\n",
    "waiting_times_d_n_1 = dict()\n",
    "waiting_times_d_1_1 = dict()\n",
    "waiting_times_h_n_1 = dict()\n",
    "waiting_times_h_1_1 = dict()\n",
    "\n",
    "for i in n_servers:\n",
    "    \n",
    "    # Change capapcity in the M/D/n and M/H/n queue and increase arrival rate to keep the system load constant\n",
    "    system_d_n.set_n_servers(i)\n",
    "    system_d_n.arrival_rate = arrival_rate * i\n",
    "    system_h_n.set_n_servers(i)\n",
    "    system_h_n.arrival_rate = arrival_rate * i\n",
    "    \n",
    "    waiting_times_d_n_1[\"%s\" % i] = []\n",
    "    waiting_times_d_1_1[\"%s\" % i] = []\n",
    "    waiting_times_h_n_1[\"%s\" % i] = []\n",
    "    waiting_times_h_1_1[\"%s\" % i] = []\n",
    "    \n",
    "    for _ in range(repeats):\n",
    "        # Run the systems\n",
    "        system_d_n.run()\n",
    "        system_d_1.run()\n",
    "        system_h_n.run()\n",
    "        system_h_1.run()\n",
    "    \n",
    "        # Store the waiting times\n",
    "        waiting_times_d_n_1[\"%s\" % i].append(np.average(system_d_n.waiting_times))\n",
    "        waiting_times_d_1_1[\"%s\" % i].append(np.average(system_d_1.waiting_times))\n",
    "        waiting_times_h_n_1[\"%s\" % i].append(np.average(system_h_n.waiting_times))\n",
    "        waiting_times_h_1_1[\"%s\" % i].append(np.average(system_h_1.waiting_times))"
   ]
  },
  {
   "cell_type": "code",
   "execution_count": 18,
   "id": "8f9d5813",
   "metadata": {},
   "outputs": [
    {
     "name": "stdout",
     "output_type": "stream",
     "text": [
      "1: 0.49168685644793947 0.46666153625115164 21.22854325772005 16.885309624603817\n",
      "2: 0.1637236123146755 0.5153634204524642 7.311845397167636 17.466714917657374\n",
      "3: 0.08621459282985741 0.4666298566887097 4.412244654068212 14.943920548568103\n",
      "4: 0.044712014791287225 0.4816921865822784 2.7749582784627296 17.754771358892178\n",
      "5: 0.027098506792666007 0.46757249959222974 1.9652850393240848 14.47715561222928\n"
     ]
    }
   ],
   "source": [
    "for i in n_servers:\n",
    "    print(\"%s:\" % i, np.average(waiting_times_d_n_1[\"%s\" % i]), np.average(waiting_times_d_1_1[\"%s\" % i]), np.average(waiting_times_h_n_1[\"%s\" % i]), np.average(waiting_times_h_1_1[\"%s\" % i]))"
   ]
  },
  {
   "cell_type": "markdown",
   "id": "3013a76a",
   "metadata": {},
   "source": [
    "#### System load = 0.8"
   ]
  },
  {
   "cell_type": "code",
   "execution_count": 20,
   "id": "88ffd7f0",
   "metadata": {},
   "outputs": [],
   "source": [
    "arrival_rate = 0.8\n",
    "service_time = 1\n",
    "\n",
    "system_d_n.arrival_rate = arrival_rate\n",
    "system_d_1.arrival_rate = arrival_rate\n",
    "system_h_n.arrival_rate = arrival_rate\n",
    "system_h_1.arrival_rate = arrival_rate"
   ]
  },
  {
   "cell_type": "code",
   "execution_count": 21,
   "id": "84ac7522",
   "metadata": {},
   "outputs": [],
   "source": [
    "# Create dictionaries to store the data\n",
    "waiting_times_d_n_2 = dict()\n",
    "waiting_times_d_1_2 = dict()\n",
    "waiting_times_h_n_2 = dict()\n",
    "waiting_times_h_1_2 = dict()\n",
    "\n",
    "for i in n_servers:\n",
    "    \n",
    "    # Change capapcity in the M/D/n and M/H/n queue and increase arrival rate to keep the system load constant\n",
    "    system_d_n.set_n_servers(i)\n",
    "    system_d_n.arrival_rate = arrival_rate * i\n",
    "    system_h_n.set_n_servers(i)\n",
    "    system_h_n.arrival_rate = arrival_rate * i\n",
    "    \n",
    "    waiting_times_d_n_2[\"%s\" % i] = []\n",
    "    waiting_times_d_1_2[\"%s\" % i] = []\n",
    "    waiting_times_h_n_2[\"%s\" % i] = []\n",
    "    waiting_times_h_1_2[\"%s\" % i] = []\n",
    "    \n",
    "    for _ in range(repeats):\n",
    "        # Run the systems\n",
    "        system_d_n.run()\n",
    "        system_d_1.run()\n",
    "        system_h_n.run()\n",
    "        system_h_1.run()\n",
    "    \n",
    "        # Store the waiting times\n",
    "        waiting_times_d_n_2[\"%s\" % i].append(np.average(system_d_n.waiting_times))\n",
    "        waiting_times_d_1_2[\"%s\" % i].append(np.average(system_d_1.waiting_times))\n",
    "        waiting_times_h_n_2[\"%s\" % i].append(np.average(system_h_n.waiting_times))\n",
    "        waiting_times_h_1_2[\"%s\" % i].append(np.average(system_h_1.waiting_times))"
   ]
  },
  {
   "cell_type": "code",
   "execution_count": 22,
   "id": "9f5c5e78",
   "metadata": {},
   "outputs": [
    {
     "name": "stdout",
     "output_type": "stream",
     "text": [
      "1: 1.6179720530159891 1.722775413507507 40.16231955444585 42.10229627082971\n",
      "2: 0.7855858404955209 1.8483702356461713 19.519011730694814 41.23379993531867\n",
      "3: 0.516545189554288 1.8348055248065327 12.537594512222846 38.4258587232667\n",
      "4: 0.33746865051761127 1.5958011489020896 9.014145923092265 38.36361440648377\n",
      "5: 0.2195456032375674 1.6444874065248059 6.361194938401502 38.58216719469526\n"
     ]
    }
   ],
   "source": [
    "for i in n_servers:\n",
    "    print(\"%s:\" % i, np.average(waiting_times_d_n_2[\"%s\" % i]), np.average(waiting_times_d_1_2[\"%s\" % i]), np.average(waiting_times_h_n_2[\"%s\" % i]), np.average(waiting_times_h_1_2[\"%s\" % i]))"
   ]
  },
  {
   "cell_type": "markdown",
   "id": "bb1beda3",
   "metadata": {},
   "source": [
    "#### System load = 0.95"
   ]
  },
  {
   "cell_type": "code",
   "execution_count": 23,
   "id": "8b1a8175",
   "metadata": {},
   "outputs": [],
   "source": [
    "arrival_rate = 0.95\n",
    "service_time = 1\n",
    "\n",
    "system_d_n.arrival_rate = arrival_rate\n",
    "system_d_1.arrival_rate = arrival_rate\n",
    "system_h_n.arrival_rate = arrival_rate\n",
    "system_h_1.arrival_rate = arrival_rate"
   ]
  },
  {
   "cell_type": "code",
   "execution_count": 24,
   "id": "96a9b5fc",
   "metadata": {},
   "outputs": [],
   "source": [
    "# Create dictionaries to store the data\n",
    "waiting_times_d_n_3 = dict()\n",
    "waiting_times_d_1_3 = dict()\n",
    "waiting_times_h_n_3 = dict()\n",
    "waiting_times_h_1_3 = dict()\n",
    "\n",
    "for i in n_servers:\n",
    "    \n",
    "    # Change capapcity in the M/D/n and M/H/n queue and increase arrival rate to keep the system load constant\n",
    "    system_d_n.set_n_servers(i)\n",
    "    system_d_n.arrival_rate = arrival_rate * i\n",
    "    system_h_n.set_n_servers(i)\n",
    "    system_h_n.arrival_rate = arrival_rate * i\n",
    "    \n",
    "    waiting_times_d_n_3[\"%s\" % i] = []\n",
    "    waiting_times_d_1_3[\"%s\" % i] = []\n",
    "    waiting_times_h_n_3[\"%s\" % i] = []\n",
    "    waiting_times_h_1_3[\"%s\" % i] = []\n",
    "    \n",
    "    for _ in range(repeats):\n",
    "        # Run the systems\n",
    "        system_d_n.run()\n",
    "        system_d_1.run()\n",
    "        system_h_n.run()\n",
    "        system_h_1.run()\n",
    "    \n",
    "        # Store the waiting times\n",
    "        waiting_times_d_n_3[\"%s\" % i].append(np.average(system_d_n.waiting_times))\n",
    "        waiting_times_d_1_3[\"%s\" % i].append(np.average(system_d_1.waiting_times))\n",
    "        waiting_times_h_n_3[\"%s\" % i].append(np.average(system_h_n.waiting_times))\n",
    "        waiting_times_h_1_3[\"%s\" % i].append(np.average(system_h_1.waiting_times))"
   ]
  },
  {
   "cell_type": "code",
   "execution_count": 25,
   "id": "6f03c5c2",
   "metadata": {},
   "outputs": [
    {
     "name": "stdout",
     "output_type": "stream",
     "text": [
      "1: 3.966195918900687 3.8979939843020173 48.46544795263993 49.475386344104294\n",
      "2: 1.76132002673394 3.59983020104635 23.834443177482495 46.32527977893892\n",
      "3: 1.0629814960404316 3.547788652526139 13.84663814787752 50.39690751263365\n",
      "4: 0.8125366967067648 4.026642419203695 10.238518311645329 46.68798306185559\n",
      "5: 0.5184522478730418 3.718542879470217 7.528103954455909 47.877725367248395\n"
     ]
    }
   ],
   "source": [
    "for i in n_servers:\n",
    "    print(\"%s:\" % i, np.average(waiting_times_d_n_3[\"%s\" % i]), np.average(waiting_times_d_1_3[\"%s\" % i]), np.average(waiting_times_h_n_3[\"%s\" % i]), np.average(waiting_times_h_1_3[\"%s\" % i]))"
   ]
  },
  {
   "cell_type": "code",
   "execution_count": null,
   "id": "5ea3e2c9",
   "metadata": {},
   "outputs": [],
   "source": []
  }
 ],
 "metadata": {
  "kernelspec": {
   "display_name": "Python 3 (ipykernel)",
   "language": "python",
   "name": "python3"
  },
  "language_info": {
   "codemirror_mode": {
    "name": "ipython",
    "version": 3
   },
   "file_extension": ".py",
   "mimetype": "text/x-python",
   "name": "python",
   "nbconvert_exporter": "python",
   "pygments_lexer": "ipython3",
   "version": "3.9.13"
  }
 },
 "nbformat": 4,
 "nbformat_minor": 5
}
