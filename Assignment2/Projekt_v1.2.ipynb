{
 "cells": [
  {
   "cell_type": "markdown",
   "id": "68c361cc",
   "metadata": {},
   "source": [
    "## Discrete event simulation"
   ]
  },
  {
   "cell_type": "code",
   "execution_count": 1,
   "id": "c75596ef",
   "metadata": {},
   "outputs": [],
   "source": [
    "# Imports\n",
    "import numpy as np\n",
    "import matplotlib.pyplot as plt\n",
    "\n",
    "from server_queue import server_system"
   ]
  },
  {
   "cell_type": "markdown",
   "id": "1c545151",
   "metadata": {},
   "source": [
    "### Comparing an M/M/n queue and  an M/M/1 queue"
   ]
  },
  {
   "cell_type": "markdown",
   "id": "a9d51d7e",
   "metadata": {},
   "source": [
    "We will look at the difference in the average waiting times between a server system that has n servers, a system that has 1 server with an n-fold lower arrival rate and a system that has 1 server with an n-fold lower arrival rate but gives priority to the shortest job. We will do this for different values of n and different system loads."
   ]
  },
  {
   "cell_type": "code",
   "execution_count": 2,
   "id": "3bf1c3c3",
   "metadata": {},
   "outputs": [],
   "source": [
    "# Number of repeats of every simulation\n",
    "repeats = 100"
   ]
  },
  {
   "cell_type": "markdown",
   "id": "dfafc472",
   "metadata": {},
   "source": [
    "#### System load = 0.4"
   ]
  },
  {
   "cell_type": "code",
   "execution_count": 3,
   "id": "5f5da005",
   "metadata": {},
   "outputs": [],
   "source": [
    "# Settings of the system\n",
    "n_jobs = 100\n",
    "n_servers = [n for n in range(1, 6)]\n",
    "\n",
    "arrival_rate = 2\n",
    "service_time = 1/5"
   ]
  },
  {
   "cell_type": "code",
   "execution_count": 4,
   "id": "22fc33d6",
   "metadata": {},
   "outputs": [],
   "source": [
    "# Creating the M/M/n system with n = 1\n",
    "system_n = server_system(n_jobs, n_servers[0], arrival_rate, service_time, queue_model='fifo')\n",
    "# Creating the M/M/1 system\n",
    "system_1 = server_system(n_jobs, 1, arrival_rate, service_time, queue_model='fifo')\n",
    "# Creating the M/M/1 system with priority for the shortest job\n",
    "system_prio = server_system(n_jobs, 1, arrival_rate, service_time, queue_model = 'priority')"
   ]
  },
  {
   "cell_type": "code",
   "execution_count": 5,
   "id": "4732b0c8",
   "metadata": {},
   "outputs": [],
   "source": [
    "# Create dictionaries to store the data\n",
    "waiting_times_n_1 = dict()\n",
    "waiting_times_1_1 = dict()\n",
    "waiting_times_prio_1 = dict()\n",
    "\n",
    "for i in n_servers:\n",
    "    \n",
    "    # Change the capapcity in the M/M/n queue and increase the arrival rate to keep the system load constant\n",
    "    system_n.set_n_servers(i)\n",
    "    system_n.arrival_rate = arrival_rate * i\n",
    "    \n",
    "    waiting_times_n_1[\"%s\" % i] = []\n",
    "    waiting_times_1_1[\"%s\" % i] = []\n",
    "    waiting_times_prio_1[\"%s\" % i] = []\n",
    "    \n",
    "    for _ in range(repeats):\n",
    "        # Run the systems\n",
    "        system_n.run()\n",
    "        system_1.run()\n",
    "        system_prio.run()\n",
    "    \n",
    "        # Store the waiting times\n",
    "        waiting_times_n_1[\"%s\" % i].append(np.average(system_n.waiting_times))\n",
    "        waiting_times_1_1[\"%s\" % i].append(np.average(system_1.waiting_times))\n",
    "        waiting_times_prio_1[\"%s\" % i].append(np.average(system_prio.waiting_times))"
   ]
  },
  {
   "cell_type": "code",
   "execution_count": 6,
   "id": "e2ded46a",
   "metadata": {},
   "outputs": [
    {
     "name": "stdout",
     "output_type": "stream",
     "text": [
      "1: 0.12487295188175943 0.11627526347975463 0.09918178157872921\n",
      "2: 0.033403826508295785 0.12386259870585326 0.1024564113865469\n",
      "3: 0.01610796942183615 0.12873840048244473 0.1036674238567328\n",
      "4: 0.007455633423887231 0.13157973204536882 0.10209537574014266\n",
      "5: 0.0027308776842615767 0.12953515063091728 0.10841651132134393\n"
     ]
    }
   ],
   "source": [
    "for i in n_servers:\n",
    "    print(\"%s:\" % i, np.average(waiting_times_n_1[\"%s\" % i]), np.average(waiting_times_1_1[\"%s\" % i]), np.average(waiting_times_prio_1[\"%s\" % i]))"
   ]
  },
  {
   "cell_type": "markdown",
   "id": "0e7e825a",
   "metadata": {},
   "source": [
    "#### System load = 0.8"
   ]
  },
  {
   "cell_type": "code",
   "execution_count": 7,
   "id": "9783a73d",
   "metadata": {},
   "outputs": [],
   "source": [
    "arrival_rate = 4\n",
    "service_time = 1/5\n",
    "\n",
    "system_n.arrival_rate = arrival_rate\n",
    "system_1.arrival_rate = arrival_rate\n",
    "system_prio.arrival_rate = arrival_rate"
   ]
  },
  {
   "cell_type": "code",
   "execution_count": 8,
   "id": "52a68145",
   "metadata": {},
   "outputs": [],
   "source": [
    "# Create dictionaries to store the data\n",
    "waiting_times_n_2 = dict()\n",
    "waiting_times_1_2 = dict()\n",
    "waiting_times_prio_2 = dict()\n",
    "\n",
    "for i in n_servers:\n",
    "    \n",
    "    # Change the capapcity in the M/M/n queue and increase the arrival rate to keep the system load constant\n",
    "    system_n.set_n_servers(i)\n",
    "    system_n.arrival_rate = arrival_rate * i\n",
    "    \n",
    "    waiting_times_n_2[\"%s\" % i] = []\n",
    "    waiting_times_1_2[\"%s\" % i] = []\n",
    "    waiting_times_prio_2[\"%s\" % i] = []\n",
    "    \n",
    "    for _ in range(repeats):\n",
    "        # Run the systems\n",
    "        system_n.run()\n",
    "        system_1.run()\n",
    "        system_prio.run()\n",
    "    \n",
    "        # Store the waiting times\n",
    "        waiting_times_n_2[\"%s\" % i].append(np.average(system_n.waiting_times))\n",
    "        waiting_times_1_2[\"%s\" % i].append(np.average(system_1.waiting_times))\n",
    "        waiting_times_prio_2[\"%s\" % i].append(np.average(system_prio.waiting_times))"
   ]
  },
  {
   "cell_type": "code",
   "execution_count": 9,
   "id": "8a36db8a",
   "metadata": {},
   "outputs": [
    {
     "name": "stdout",
     "output_type": "stream",
     "text": [
      "1: 0.5592597879458087 0.6969819656851596 0.3219775469099205\n",
      "2: 0.24859162967708287 0.6470158022664013 0.3323977482359019\n",
      "3: 0.17114507214374608 0.6534167810338597 0.31576933867856755\n",
      "4: 0.10394860227787975 0.5116760353672486 0.3121229792055081\n",
      "5: 0.08710181637196657 0.6979750001159677 0.32501631601081826\n"
     ]
    }
   ],
   "source": [
    "for i in n_servers:\n",
    "    print(\"%s:\" % i, np.average(waiting_times_n_2[\"%s\" % i]), np.average(waiting_times_1_2[\"%s\" % i]), np.average(waiting_times_prio_2[\"%s\" % i]))"
   ]
  },
  {
   "cell_type": "markdown",
   "id": "28e10937",
   "metadata": {},
   "source": [
    "#### System load = 0.95"
   ]
  },
  {
   "cell_type": "code",
   "execution_count": 10,
   "id": "eb763b46",
   "metadata": {},
   "outputs": [],
   "source": [
    "arrival_rate = 4.75\n",
    "service_time = 1/5\n",
    "\n",
    "system_n.arrival_rate = arrival_rate\n",
    "system_1.arrival_rate = arrival_rate\n",
    "system_prio.arrival_rate = arrival_rate"
   ]
  },
  {
   "cell_type": "code",
   "execution_count": 11,
   "id": "560735ef",
   "metadata": {},
   "outputs": [],
   "source": [
    "# Create dictionaries to store the data\n",
    "waiting_times_n_3 = dict()\n",
    "waiting_times_1_3 = dict()\n",
    "waiting_times_prio_3 = dict()\n",
    "\n",
    "for i in n_servers:\n",
    "    \n",
    "    # Change the capapcity in the M/M/n queue and increase the arrival rate to keep the system load constant\n",
    "    system_n.set_n_servers(i)\n",
    "    system_n.arrival_rate = arrival_rate * i\n",
    "    \n",
    "    waiting_times_n_3[\"%s\" % i] = []\n",
    "    waiting_times_1_3[\"%s\" % i] = []\n",
    "    waiting_times_prio_3[\"%s\" % i] = []\n",
    "    \n",
    "    for _ in range(repeats):\n",
    "        # Run the systems\n",
    "        system_n.run()\n",
    "        system_1.run()\n",
    "        system_prio.run()\n",
    "    \n",
    "        # Store the waiting times\n",
    "        waiting_times_n_3[\"%s\" % i].append(np.average(system_n.waiting_times))\n",
    "        waiting_times_1_3[\"%s\" % i].append(np.average(system_1.waiting_times))\n",
    "        waiting_times_prio_3[\"%s\" % i].append(np.average(system_prio.waiting_times))"
   ]
  },
  {
   "cell_type": "code",
   "execution_count": 12,
   "id": "10cc76ae",
   "metadata": {},
   "outputs": [
    {
     "name": "stdout",
     "output_type": "stream",
     "text": [
      "1: 1.1483559253904005 1.0625773946018644 0.479191035961682\n",
      "2: 0.453209450914845 1.1998714658717873 0.4474370765124768\n",
      "3: 0.29497689632276264 1.1522467317872231 0.4720260430955059\n",
      "4: 0.20842691968677468 1.0131193587812921 0.4556879697813994\n",
      "5: 0.190707341442665 1.1297023633752454 0.43254844808317655\n"
     ]
    }
   ],
   "source": [
    "for i in n_servers:\n",
    "    print(\"%s:\" % i, np.average(waiting_times_n_3[\"%s\" % i]), np.average(waiting_times_1_3[\"%s\" % i]), np.average(waiting_times_prio_3[\"%s\" % i]))"
   ]
  },
  {
   "cell_type": "markdown",
   "id": "15ed97e2",
   "metadata": {},
   "source": [
    "### Effect of service time distribution on the average waiting time"
   ]
  },
  {
   "cell_type": "code",
   "execution_count": null,
   "id": "b31edeb5",
   "metadata": {},
   "outputs": [],
   "source": []
  }
 ],
 "metadata": {
  "kernelspec": {
   "display_name": "Python 3 (ipykernel)",
   "language": "python",
   "name": "python3"
  },
  "language_info": {
   "codemirror_mode": {
    "name": "ipython",
    "version": 3
   },
   "file_extension": ".py",
   "mimetype": "text/x-python",
   "name": "python",
   "nbconvert_exporter": "python",
   "pygments_lexer": "ipython3",
   "version": "3.9.13"
  }
 },
 "nbformat": 4,
 "nbformat_minor": 5
}
