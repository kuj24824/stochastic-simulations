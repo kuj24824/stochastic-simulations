{
 "cells": [
  {
   "cell_type": "code",
   "execution_count": 31,
   "id": "6182a94a",
   "metadata": {},
   "outputs": [],
   "source": [
    "import math\n",
    "import numpy as np\n",
    "from scipy.stats import qmc\n",
    "import matplotlib.pyplot as plt\n",
    "from ipywidgets import IntProgress\n",
    "from IPython.display import display\n",
    "import time\n",
    "\n",
    "np.random.seed(1)\n",
    "\n",
    "def scale_sample(par_r, par_z, par_a):\n",
    "    \n",
    "    [r_min, r_max, z_min, z_max] = par_a\n",
    "        \n",
    "    # Scale the variables to the sampling area\n",
    "    dist_r = r_max - r_min\n",
    "    dist_z = z_max - z_min\n",
    "\n",
    "    r = (dist_r * par_r) + r_min\n",
    "    z = (dist_z * par_z) + z_min\n",
    "        \n",
    "    return r, z\n",
    "\n",
    "def total_area(par_a):\n",
    "    '''\n",
    "    define the sampling area\n",
    "    '''\n",
    "    [r_min, r_max, z_min, z_max] = par_a\n",
    "    \n",
    "    return (r_max - r_min) * (z_max - z_min)\n",
    "\n",
    "def total_samplecount(par_a,par_d):\n",
    "    '''\n",
    "    define the sampling area\n",
    "    '''\n",
    "    [r_min, r_max, z_min, z_max] = par_a\n",
    "    r_len = (r_max - r_min)/par_d\n",
    "    z_len = (z_max - z_min)/par_d\n",
    "    return  r_len* z_len\n",
    "\n",
    "\n",
    "\n",
    "\n",
    "def mandelbrot_area(par_mandel,par_sizecount,par_area):\n",
    "    '''\n",
    "    define the sampling area\n",
    "    '''\n",
    "    if par_sizecount == 0:\n",
    "        return 0\n",
    "    if par_mandel.ndim < 1:\n",
    "        return par_mandel\n",
    "    elif  par_mandel.ndim == 1:\n",
    "        mandel_in_area = sum(1-par_mandel)\n",
    "    elif  par_mandel.ndim == 2:\n",
    "        mandel_in_area = sum(sum(1-par_mandel)) \n",
    "    elif  par_mandel.ndim == 3:\n",
    "        mandel_in_area = sum(sum(sum(1-par_mandel)))\n",
    "    elif  par_mandel.ndim >3:\n",
    "        print(\"too many dimensions!\")\n",
    "        return 0\n",
    "    ret_area = (mandel_in_area/par_sizecount) * par_area\n",
    "    return  ret_area\n",
    "\n",
    "\n",
    "def grid(par_a, par_d):\n",
    "    '''\n",
    "    define grid for the sampling area\n",
    "    '''\n",
    "    [r_min, r_max, z_min, z_max] = par_a\n",
    "    \n",
    "    r_axis = np.arange(r_min, r_max + par_d, par_d)\n",
    "    z_axis = np.arange(z_min, z_max + par_d, par_d)\n",
    "    \n",
    "    zz, rr = np.meshgrid(z_axis, r_axis)\n",
    "    \n",
    "    return zz, rr\n",
    "\n",
    "def mandel(par_x,par_c):\n",
    "    '''\n",
    "    next step in mandelbrot iteration\n",
    "    '''\n",
    "    [x_r,x_z] = par_x\n",
    "    [c_r,c_z] = par_c\n",
    "    \n",
    "    return [x_r**2 - x_z**2 + c_r, 2 * x_r * x_z + c_z]\n",
    "\n",
    "\n",
    "def mandel_cond(par_x):\n",
    "    '''\n",
    "    define the breaking condition\n",
    "    '''\n",
    "    [x_r,x_z] = par_x\n",
    "    \n",
    "    magn = (x_r**2 + x_z**2)**0.5\n",
    "    if magn > 2:\n",
    "        return 1\n",
    "    \n",
    "    return 0\n",
    "    \n",
    "           \n",
    "           \n",
    "def mandel_i(par_c,par_i):\n",
    "    '''\n",
    "    define the iteration loop breaking after i iterations\n",
    "    '''\n",
    "    x = [0, 0]\n",
    "    for _ in range(par_i):\n",
    "        x = mandel(x, par_c)\n",
    "        \n",
    "        cond = mandel_cond(x)\n",
    "        if cond:\n",
    "            return 1\n",
    "    \n",
    "    return 0\n",
    "    \n",
    "    \n",
    "def mandel_a(par_a, par_i, par_d):\n",
    "    '''\n",
    "    define the iteration loop for a square of size a with spacing d\n",
    "    '''\n",
    "    [r_min, r_max, z_min, z_max] = par_a\n",
    "    r_axis = np.arange(r_min, r_max + par_d, par_d)\n",
    "    z_axis = np.arange(z_min, z_max + par_d, par_d)\n",
    "    \n",
    "    plane = np.zeros((len(r_axis), len(z_axis)))\n",
    "    \n",
    "    for r in range(len(r_axis)):\n",
    "        for z in range(len(z_axis)):\n",
    "            c = [r_axis[r], z_axis[z]]\n",
    "            \n",
    "            result = mandel_i(c, par_i)\n",
    "            plane[r, z] = result\n",
    "    \n",
    "    return plane   \n",
    "    \n",
    "    \n",
    "def func_j_i(par_a,par_i,par_s, par_method):\n",
    "    '''\n",
    "    Define function considering the improvement after j steps\n",
    "    returning the area for all precisions until i\n",
    "    '''\n",
    "    f = IntProgress(min=0, max=par_i+1) # instantiate the bar\n",
    "    display(f)\n",
    "    loc_tot_area = total_area(par_a)\n",
    "    mandelbrot_a = []\n",
    "    \n",
    "    if par_method == 'latin_hypercube':\n",
    "        # Create s samples (in [0, 1)\n",
    "        sampler = qmc.LatinHypercube(d=2)\n",
    "        samples = sampler.random(par_s)\n",
    "    \n",
    "    for loc_j in range(par_i + 1):\n",
    "        f.value +=1\n",
    "        \n",
    "        # Counter for the number of samples in the mandelbrot area\n",
    "        inside = 0\n",
    "        \n",
    "        for s in range(par_s):\n",
    "\n",
    "            if par_method == 'uniform':\n",
    "                # Random uniform variables\n",
    "                r = np.random.uniform()\n",
    "                z = np.random.uniform()\n",
    "\n",
    "            elif par_method == 'latin_hypercube':\n",
    "                # Pick from the next sample in the list\n",
    "                r = samples[s][0]\n",
    "                z = samples[s][1]\n",
    "\n",
    "            # Scale the variables to the sampling area\n",
    "            r, z = scale_sample(r, z, par_a)\n",
    "            \n",
    "            if mandel_i([r, z], loc_j) == 0:\n",
    "                inside += 1\n",
    "        \n",
    "        mandelbrot_a.append((inside/par_s) * loc_tot_area)\n",
    "\n",
    "    return mandelbrot_a\n",
    "\n",
    "\n",
    "def func_s_d(par_a,par_i,par_s,par_step_size = 1000):\n",
    "    '''\n",
    "    pure random sampling\n",
    "    Define function considering the improvement after j steps\n",
    "    returning the area for all precisions until i\n",
    "    '''\n",
    "    f = IntProgress(min=0, max=par_s+1) # instantiate the bar\n",
    "    display(f)\n",
    "    loc_tot_area = total_area(par_a)\n",
    "    ret_area = []\n",
    "    step_size = par_step_size\n",
    "    \n",
    "    for loc_s in range(1,par_s +step_size,step_size):\n",
    "        #for each loc_s get random c in area \n",
    "        \n",
    "        f.value = loc_s\n",
    "        loc_mandel = []\n",
    "        for loc_sub_s in range(loc_s):\n",
    "            loc_r = (par_a[1]-par_a[0]) * np.random.rand() + par_a[0]\n",
    "            loc_z = (par_a[3]-par_a[2]) * np.random.rand() + par_a[2]\n",
    "            loc_sample = [loc_r,loc_z]\n",
    "            loc_mandel.append(mandel_i(loc_sample, par_i))\n",
    "            \n",
    "        print \n",
    "        ret_area.append(mandelbrot_area(np.array(loc_mandel),loc_s,loc_tot_area))\n",
    "\n",
    "    ret_area = ret_area - ret_area[-1]\n",
    "    return abs(ret_area)\n",
    "\n",
    "def func_s_d_log(par_a,par_i,par_s):\n",
    "    '''\n",
    "    pure random sampling\n",
    "    Define function considering the improvement after j steps\n",
    "    returning the area for all precisions until i\n",
    "    '''\n",
    "    f = IntProgress(min=0, max=par_s+1) # instantiate the bar\n",
    "    display(f)\n",
    "    loc_tot_area = total_area(par_a)\n",
    "    ret_area = []\n",
    "    \n",
    "    for loc_s in range(1,par_s):\n",
    "        #for each loc_s get random c in area \n",
    "        \n",
    "        f.value = loc_s\n",
    "        loc_mandel = []\n",
    "        sample_size = 2**loc_s\n",
    "        for loc_sub_s in range(sample_size):\n",
    "            loc_r = (par_a[1]-par_a[0]) * np.random.rand() + par_a[0]\n",
    "            loc_z = (par_a[3]-par_a[2]) * np.random.rand() + par_a[2]\n",
    "            loc_sample = [loc_r,loc_z]\n",
    "            loc_mandel.append(mandel_i(loc_sample, par_i))\n",
    "            \n",
    "        print \n",
    "        ret_area.append(mandelbrot_area(np.array(loc_mandel),sample_size,loc_tot_area))\n",
    "\n",
    "    ret_area = ret_area - ret_area[-1]\n",
    "    return abs(ret_area)\n",
    "\n",
    "\n",
    "\n"
   ]
  },
  {
   "cell_type": "code",
   "execution_count": 2,
   "id": "f9b253c5",
   "metadata": {},
   "outputs": [
    {
     "data": {
      "text/plain": [
       "[-0.010000000000000002, 0.1]"
      ]
     },
     "execution_count": 2,
     "metadata": {},
     "output_type": "execute_result"
    }
   ],
   "source": [
    "mandel([0,0.1],[0.0,0.1])"
   ]
  },
  {
   "cell_type": "code",
   "execution_count": 25,
   "id": "1d358b8a",
   "metadata": {},
   "outputs": [],
   "source": [
    "area = [-2, 1, -1, 1]     # Edges of the area\n",
    "spacing = 0.01            # Distance between 2 point on the grid"
   ]
  },
  {
   "cell_type": "code",
   "execution_count": 8,
   "id": "e6876bec",
   "metadata": {},
   "outputs": [],
   "source": [
    "mandel_plane = mandel_a(area, 1000, spacing)"
   ]
  },
  {
   "cell_type": "code",
   "execution_count": 33,
   "id": "0bad84dc",
   "metadata": {},
   "outputs": [],
   "source": [
    "zz, rr = grid(area, spacing)"
   ]
  },
  {
   "cell_type": "code",
   "execution_count": 34,
   "id": "2f1433d7",
   "metadata": {},
   "outputs": [
    {
     "data": {
      "image/png": "[encoded data removed]",
      "text/plain": [
       "<Figure size 432x288 with 1 Axes>"
      ]
     },
     "metadata": {
      "needs_background": "light"
     },
     "output_type": "display_data"
    }
   ],
   "source": [
    "fig = plt.figure()\n",
    "ax = plt.gca()\n",
    "\n",
    "pc = ax.pcolormesh(rr, zz, mandel_plane)\n",
    "plt.show()"
   ]
  },
  {
   "cell_type": "code",
   "execution_count": 32,
   "id": "ce43ec45",
   "metadata": {},
   "outputs": [
    {
     "data": {
      "application/vnd.jupyter.widget-view+json": {
       "model_id": "4f1b03e972f044a495bedeeafd7aada8",
       "version_major": 2,
       "version_minor": 0
      },
      "text/plain": [
       "IntProgress(value=0, max=1001)"
      ]
     },
     "metadata": {},
     "output_type": "display_data"
    }
   ],
   "source": [
    "area_estimate = func_j_i(area, 1000, 1000, 'uniform')"
   ]
  },
  {
   "cell_type": "code",
   "execution_count": 33,
   "id": "fac02024",
   "metadata": {},
   "outputs": [
    {
     "data": {
      "text/plain": [
       "1.422"
      ]
     },
     "execution_count": 33,
     "metadata": {},
     "output_type": "execute_result"
    }
   ],
   "source": [
    "area_estimate[-1]"
   ]
  },
  {
   "cell_type": "code",
   "execution_count": 10,
   "id": "ca052313",
   "metadata": {},
   "outputs": [
    {
     "data": {
      "text/plain": [
       "1.5081000000000002"
      ]
     },
     "execution_count": 10,
     "metadata": {},
     "output_type": "execute_result"
    }
   ],
   "source": [
    "loc_sizecount = total_samplecount(area,spacing)\n",
    "mandelbrot_area(mandel_plane,loc_sizecount,total_area(area))"
   ]
  },
  {
   "cell_type": "code",
   "execution_count": 45,
   "id": "e9185184",
   "metadata": {},
   "outputs": [
    {
     "data": {
      "image/png": "[encoded data removed]",
      "text/plain": [
       "<Figure size 432x288 with 1 Axes>"
      ]
     },
     "metadata": {
      "needs_background": "light"
     },
     "output_type": "display_data"
    }
   ],
   "source": [
    "\n",
    "plt.semilogy(area_estimate,'g-',label= \"Area of Mandelbrot\")\n",
    "plt.title(\"Area Estimation after i Iterations\",size=20)\n",
    "plt.xlabel('Iteration',size=20)\n",
    "plt.ylabel('Area Estimation',size=20)\n",
    "plt.legend()\n",
    "#fig.savefig('figure1.png', dpi=300)\n",
    "plt.show()"
   ]
  },
  {
   "cell_type": "code",
   "execution_count": 19,
   "id": "6bdab436",
   "metadata": {},
   "outputs": [],
   "source": [
    "sampler = qmc.LatinHypercube(d=2)"
   ]
  },
  {
   "cell_type": "code",
   "execution_count": 22,
   "id": "458392a0",
   "metadata": {},
   "outputs": [
    {
     "data": {
      "text/plain": [
       "array([[0.57476452, 0.23531926],\n",
       "       [0.79145972, 0.8188861 ],\n",
       "       [0.26908398, 0.68755655],\n",
       "       [0.85401292, 0.58599228],\n",
       "       [0.12171984, 0.08371893]])"
      ]
     },
     "execution_count": 22,
     "metadata": {},
     "output_type": "execute_result"
    }
   ],
   "source": [
    "sampler.random(5)"
   ]
  },
  {
   "cell_type": "code",
   "execution_count": null,
   "id": "334c8c2e",
   "metadata": {},
   "outputs": [],
   "source": []
  }
 ],
 "metadata": {
  "kernelspec": {
   "display_name": "Python 3 (ipykernel)",
   "language": "python",
   "name": "python3"
  },
  "language_info": {
   "codemirror_mode": {
    "name": "ipython",
    "version": 3
   },
   "file_extension": ".py",
   "mimetype": "text/x-python",
   "name": "python",
   "nbconvert_exporter": "python",
   "pygments_lexer": "ipython3",
   "version": "3.9.12"
  }
 },
 "nbformat": 4,
 "nbformat_minor": 5
}
