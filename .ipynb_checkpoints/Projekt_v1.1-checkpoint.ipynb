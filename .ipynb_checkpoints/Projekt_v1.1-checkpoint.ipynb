{
 "cells": [
  {
   "cell_type": "code",
   "execution_count": 1,
   "id": "6182a94a",
   "metadata": {},
   "outputs": [],
   "source": [
    "import math\n",
    "import numpy as np\n",
    "import matplotlib.pyplot as plt\n",
    "\n",
    "def total_area(par_a):\n",
    "    '''\n",
    "    define the sampling area\n",
    "    '''\n",
    "    [r_min, r_max, z_min, z_max] = par_a\n",
    "    \n",
    "    return (r_max - r_min) * (z_max - z_min)\n",
    "\n",
    "def grid(par_a, par_d):\n",
    "    '''\n",
    "    define grid for the sampling area\n",
    "    '''\n",
    "    [r_min, r_max, z_min, z_max] = par_a\n",
    "    \n",
    "    r_axis = np.arange(r_min, r_max + par_d, par_d)\n",
    "    z_axis = np.arange(z_min, z_max + par_d, par_d)\n",
    "    \n",
    "    zz, rr = np.meshgrid(z_axis, r_axis)\n",
    "    \n",
    "    return zz, rr\n",
    "\n",
    "def mandel(par_x,par_c):\n",
    "    '''\n",
    "    next step in mandelbrot iteration\n",
    "    '''\n",
    "    [x_r,x_z] = par_x\n",
    "    [c_r,c_z] = par_c\n",
    "    \n",
    "    return [x_r**2 - x_z**2 + c_r, 2 * x_r * x_z + c_z]\n",
    "\n",
    "\n",
    "def mandel_cond(par_x):\n",
    "    '''\n",
    "    define the breaking condition\n",
    "    '''\n",
    "    [x_r,x_z] = par_x\n",
    "    \n",
    "    magn = (x_r**2 + x_z**2)**0.5\n",
    "    if magn > 2:\n",
    "        return 1\n",
    "    \n",
    "    return 0\n",
    "    \n",
    "           \n",
    "           \n",
    "def mandel_i(par_c,par_i):\n",
    "    '''\n",
    "    define the iteration loop breaking after i iterations\n",
    "    '''\n",
    "    x = [0, 0]\n",
    "    for _ in range(par_i):\n",
    "        x = mandel(x, par_c)\n",
    "        \n",
    "        cond = mandel_cond(x)\n",
    "        if cond:\n",
    "            return 1\n",
    "    \n",
    "    return 0\n",
    "    \n",
    "    \n",
    "def mandel_a(par_a, par_i, par_d):\n",
    "    '''\n",
    "    define the iteration loop for a square of size a with spacing d\n",
    "    '''\n",
    "    [r_min, r_max, z_min, z_max] = par_a\n",
    "    r_axis = np.arange(r_min, r_max + par_d, par_d)\n",
    "    z_axis = np.arange(z_min, z_max + par_d, par_d)\n",
    "    \n",
    "    plane = np.zeros((len(r_axis), len(z_axis)))\n",
    "    \n",
    "    for r in range(len(r_axis)):\n",
    "        for z in range(len(z_axis)):\n",
    "            c = [r_axis[r], z_axis[z]]\n",
    "            \n",
    "            result = mandel_i(c, par_i)\n",
    "            plane[r, z] = result\n",
    "    \n",
    "    return plane\n",
    "    \n",
    "#def func_j_i(par_s,par_i,par_j):\n",
    "    '''\n",
    "    Define function considering the improvement after j steps\n",
    "    '''\n"
   ]
  },
  {
   "cell_type": "code",
   "execution_count": 2,
   "id": "f9b253c5",
   "metadata": {},
   "outputs": [
    {
     "data": {
      "text/plain": [
       "[-0.010000000000000002, 0.1]"
      ]
     },
     "execution_count": 2,
     "metadata": {},
     "output_type": "execute_result"
    }
   ],
   "source": [
    "mandel([0,0.1],[0.0,0.1])"
   ]
  },
  {
   "cell_type": "code",
   "execution_count": 3,
   "id": "1d358b8a",
   "metadata": {},
   "outputs": [],
   "source": [
    "area = [-2, 1, -1, 1]     # Edges of the area\n",
    "spacing = 0.01            # Distance between 2 point on the grid"
   ]
  },
  {
   "cell_type": "code",
   "execution_count": 4,
   "id": "e6876bec",
   "metadata": {},
   "outputs": [],
   "source": [
    "mandel_plane = mandel_a(area, 1000, spacing)"
   ]
  },
  {
   "cell_type": "code",
   "execution_count": 5,
   "id": "0bad84dc",
   "metadata": {},
   "outputs": [],
   "source": [
    "zz, rr = grid(area, spacing)"
   ]
  },
  {
   "cell_type": "code",
   "execution_count": 6,
   "id": "2f1433d7",
   "metadata": {},
   "outputs": [
    {
     "data": {
      "image/png": "[encoded data removed]",
      "text/plain": [
       "<Figure size 432x288 with 1 Axes>"
      ]
     },
     "metadata": {
      "needs_background": "light"
     },
     "output_type": "display_data"
    }
   ],
   "source": [
    "fig = plt.figure()\n",
    "ax = plt.gca()\n",
    "\n",
    "pc = ax.pcolormesh(rr, zz, mandel_plane)\n",
    "plt.show()"
   ]
  },
  {
   "cell_type": "code",
   "execution_count": null,
   "id": "d5e5ae26",
   "metadata": {},
   "outputs": [],
   "source": []
  }
 ],
 "metadata": {
  "kernelspec": {
   "display_name": "Python 3 (ipykernel)",
   "language": "python",
   "name": "python3"
  },
  "language_info": {
   "codemirror_mode": {
    "name": "ipython",
    "version": 3
   },
   "file_extension": ".py",
   "mimetype": "text/x-python",
   "name": "python",
   "nbconvert_exporter": "python",
   "pygments_lexer": "ipython3",
   "version": "3.9.12"
  }
 },
 "nbformat": 4,
 "nbformat_minor": 5
}
