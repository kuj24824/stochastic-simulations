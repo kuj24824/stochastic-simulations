{
 "cells": [
  {
   "cell_type": "code",
   "execution_count": 5,
   "id": "638c869e",
   "metadata": {},
   "outputs": [],
   "source": [
    "# Imports\n",
    "import numpy as np\n",
    "import mandelbrot"
   ]
  },
  {
   "cell_type": "markdown",
   "id": "2b3dd442",
   "metadata": {},
   "source": [
    "#### Define subarea class"
   ]
  },
  {
   "cell_type": "code",
   "execution_count": 6,
   "id": "d7bfe4d9",
   "metadata": {},
   "outputs": [],
   "source": [
    "class subarea:\n",
    "    \n",
    "    def __init__(self, total_samples, p, i, a):\n",
    "    \n",
    "        self.total_samples = total_samples\n",
    "        self.probability = p\n",
    "        self.iterations = i\n",
    "\n",
    "        self.mandel = mandelbrot.mandel(a)\n",
    "        self.prob_incr = False"
   ]
  },
  {
   "cell_type": "markdown",
   "id": "09ca43f5",
   "metadata": {},
   "source": [
    "#### Creating subareas"
   ]
  },
  {
   "cell_type": "code",
   "execution_count": 11,
   "id": "a4b57718",
   "metadata": {},
   "outputs": [],
   "source": [
    "area = [-2, 2, -2, 2]\n",
    "n_sub_areas = 16\n",
    "\n",
    "areas = []\n",
    "\n",
    "x_min = area[0]\n",
    "x_max = area[0]\n",
    "y_min = area[2]\n",
    "y_max = area[2]\n",
    "\n",
    "distance = (area[1] - area[0]) / int(np.sqrt(n_sub_areas))\n",
    "\n",
    "for _ in range(int(np.sqrt(n_sub_areas))):\n",
    "    \n",
    "    x_min = x_max\n",
    "    x_max = x_min + distance\n",
    "    \n",
    "    for _ in range(int(np.sqrt(n_sub_areas))):\n",
    "\n",
    "        y_min = y_max\n",
    "        y_max = y_min + distance\n",
    "    \n",
    "        areas.append(subarea(total_samples, probability, max_iter, [x_min, x_max, y_min, y_max]))\n",
    "        \n",
    "    y_min = area[2]\n",
    "    y_max = area[2]"
   ]
  },
  {
   "cell_type": "code",
   "execution_count": 12,
   "id": "3838d58c",
   "metadata": {},
   "outputs": [],
   "source": [
    "total_samples = 500\n",
    "probability = 1 / n_sub_areas\n",
    "max_iter = 100"
   ]
  },
  {
   "cell_type": "code",
   "execution_count": 13,
   "id": "1f50b307",
   "metadata": {},
   "outputs": [],
   "source": [
    "# Do importance sampling 5 times\n",
    "for _ in range(5):\n",
    "    \n",
    "    prob_decr = 0\n",
    "    n_areas_incr = 0\n",
    "    total_mandel_area = 0\n",
    "\n",
    "    for subspace in areas:\n",
    "\n",
    "        # Determine number of samples in subarea\n",
    "        n_samples = int(subspace.probability * total_samples) + 1\n",
    "\n",
    "        # Calculate the mandelbrot area in the subarea\n",
    "        mandel_area = subspace.mandel.est_area(n_samples, subspace.iterations, method = 'latin_hypercube')\n",
    "        total_mandel_area += mandel_area\n",
    "\n",
    "        if mandel_area == 0:\n",
    "            subspace.iterations -= 10 \n",
    "            if subspace.iterations < 10:\n",
    "                subspace.iterations = 10\n",
    "            subspace.probability /= 2\n",
    "            prob_decr += subspace.probability\n",
    "\n",
    "        elif mandel_area == subspace.mandel.area:\n",
    "            subspace.probability /= 2\n",
    "            prob_decr += subspace.probability\n",
    "\n",
    "        else:\n",
    "            subspace.prob_incr = True\n",
    "            n_areas_incr += 1\n",
    "\n",
    "    # Increase the probability of the important areas\n",
    "    add_prob = prob_decr / n_areas_incr\n",
    "\n",
    "    for subspace in areas:\n",
    "\n",
    "        if subspace.prob_incr == True:\n",
    "            subspace.probability += add_prob\n",
    "            subspace.prob_incr = False"
   ]
  },
  {
   "cell_type": "code",
   "execution_count": 14,
   "id": "e4e8632a",
   "metadata": {},
   "outputs": [
    {
     "data": {
      "text/plain": [
       "1.5555555555555558"
      ]
     },
     "execution_count": 14,
     "metadata": {},
     "output_type": "execute_result"
    }
   ],
   "source": [
    "total_mandel_area"
   ]
  }
 ],
 "metadata": {
  "kernelspec": {
   "display_name": "Python 3 (ipykernel)",
   "language": "python",
   "name": "python3"
  },
  "language_info": {
   "codemirror_mode": {
    "name": "ipython",
    "version": 3
   },
   "file_extension": ".py",
   "mimetype": "text/x-python",
   "name": "python",
   "nbconvert_exporter": "python",
   "pygments_lexer": "ipython3",
   "version": "3.9.12"
  }
 },
 "nbformat": 4,
 "nbformat_minor": 5
}
