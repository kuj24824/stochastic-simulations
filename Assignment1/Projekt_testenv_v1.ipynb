{
 "cells": [
  {
   "cell_type": "code",
   "execution_count": 1,
   "id": "6182a94a",
   "metadata": {},
   "outputs": [],
   "source": [
    "import math\n",
    "import numpy as np\n",
    "from scipy.stats import qmc\n",
    "import matplotlib.pyplot as plt\n",
    "from ipywidgets import IntProgress\n",
    "from IPython.display import display\n",
    "import time\n",
    "\n",
    "np.random.seed(1)\n",
    "\n",
    "def scale_sample(par_r, par_z, par_a):\n",
    "    \n",
    "    [r_min, r_max, z_min, z_max] = par_a\n",
    "        \n",
    "    # Scale the variables to the sampling area\n",
    "    dist_r = r_max - r_min\n",
    "    dist_z = z_max - z_min\n",
    "\n",
    "    r = (dist_r * par_r) + r_min\n",
    "    z = (dist_z * par_z) + z_min\n",
    "        \n",
    "    return r, z\n",
    "\n",
    "def total_area(par_a):\n",
    "    '''\n",
    "    define the sampling area\n",
    "    '''\n",
    "    [r_min, r_max, z_min, z_max] = par_a\n",
    "    \n",
    "    return (r_max - r_min) * (z_max - z_min)\n",
    "\n",
    "def total_samplecount(par_a,par_d):\n",
    "    '''\n",
    "    define the sampling area\n",
    "    '''\n",
    "    [r_min, r_max, z_min, z_max] = par_a\n",
    "    r_len = (r_max - r_min)/par_d\n",
    "    z_len = (z_max - z_min)/par_d\n",
    "    return  r_len* z_len\n",
    "\n",
    "\n",
    "\n",
    "\n",
    "def mandelbrot_area(par_mandel,par_sizecount,par_area):\n",
    "    '''\n",
    "    define the sampling area\n",
    "    '''\n",
    "    if par_sizecount == 0:\n",
    "        return 0\n",
    "    if par_mandel.ndim < 1:\n",
    "        return par_mandel\n",
    "    elif  par_mandel.ndim == 1:\n",
    "        mandel_in_area = sum(1-par_mandel)\n",
    "    elif  par_mandel.ndim == 2:\n",
    "        mandel_in_area = sum(sum(1-par_mandel)) \n",
    "    elif  par_mandel.ndim == 3:\n",
    "        mandel_in_area = sum(sum(sum(1-par_mandel)))\n",
    "    elif  par_mandel.ndim >3:\n",
    "        print(\"too many dimensions!\")\n",
    "        return 0\n",
    "    ret_area = (mandel_in_area/par_sizecount) * par_area\n",
    "    return  ret_area\n",
    "\n",
    "\n",
    "def grid(par_a, par_d):\n",
    "    '''\n",
    "    define grid for the sampling area\n",
    "    '''\n",
    "    [r_min, r_max, z_min, z_max] = par_a\n",
    "    \n",
    "    r_axis = np.arange(r_min, r_max + par_d, par_d)\n",
    "    z_axis = np.arange(z_min, z_max + par_d, par_d)\n",
    "    \n",
    "    zz, rr = np.meshgrid(z_axis, r_axis)\n",
    "    \n",
    "    return zz, rr\n",
    "\n",
    "def mandel(par_x,par_c):\n",
    "    '''\n",
    "    next step in mandelbrot iteration\n",
    "    '''\n",
    "    [x_r,x_z] = par_x\n",
    "    [c_r,c_z] = par_c\n",
    "    \n",
    "    return [x_r**2 - x_z**2 + c_r, 2 * x_r * x_z + c_z]\n",
    "\n",
    "\n",
    "def mandel_cond(par_x):\n",
    "    '''\n",
    "    define the breaking condition\n",
    "    '''\n",
    "    [x_r,x_z] = par_x\n",
    "    \n",
    "    magn = (x_r**2 + x_z**2)**0.5\n",
    "    if magn > 2:\n",
    "        return 1\n",
    "    \n",
    "    return 0\n",
    "    \n",
    "           \n",
    "           \n",
    "def mandel_i(par_c,par_i):\n",
    "    '''\n",
    "    define the iteration loop breaking after i iterations\n",
    "    '''\n",
    "    x = [0, 0]\n",
    "    for _ in range(par_i):\n",
    "        x = mandel(x, par_c)\n",
    "        \n",
    "        cond = mandel_cond(x)\n",
    "        if cond:\n",
    "            return 1\n",
    "    \n",
    "    return 0\n",
    "    \n",
    "    \n",
    "def mandel_a(par_a, par_i, par_d):\n",
    "    '''\n",
    "    define the iteration loop for a square of size a with spacing d\n",
    "    '''\n",
    "    [r_min, r_max, z_min, z_max] = par_a\n",
    "    r_axis = np.arange(r_min, r_max + par_d, par_d)\n",
    "    z_axis = np.arange(z_min, z_max + par_d, par_d)\n",
    "    \n",
    "    plane = np.zeros((len(r_axis), len(z_axis)))\n",
    "    \n",
    "    for r in range(len(r_axis)):\n",
    "        for z in range(len(z_axis)):\n",
    "            c = [r_axis[r], z_axis[z]]\n",
    "            \n",
    "            result = mandel_i(c, par_i)\n",
    "            plane[r, z] = result\n",
    "    \n",
    "    return plane   \n",
    "\n",
    "\n",
    "def subspacing(par_a,par_subspaces):\n",
    "    \n",
    "    ret_subareas = np.zeros(np.append(par_subspaces,4))\n",
    "    [r_min, r_max, z_min, z_max] = par_a\n",
    "    loc_subarea = np.zeros((par_subspaces[0],4))\n",
    "    if par_subspaces[0]%2 ==0:\n",
    "        r_span = (r_max - r_min) /(par_subspaces[0]/2)\n",
    "        z_span = (z_max - z_min) /2\n",
    "    elif (r_max - r_min)<(z_max - z_min):\n",
    "        r_span = (r_max - r_min)\n",
    "        z_span = (z_max - z_min) /(par_subspaces[0])\n",
    "    else:\n",
    "        r_span = (r_max - r_min) /(par_subspaces[0])\n",
    "        z_span = (z_max - z_min)\n",
    "\n",
    "    for i in range(par_subspaces[0]):\n",
    "        \n",
    "        if par_subspaces[0]%2 ==0:\n",
    "            loc_r_i = math.floor(i/2)\n",
    "            loc_z_i = i%2\n",
    "        elif (r_max - r_min)<(z_max - z_min):\n",
    "            loc_r_i = 0\n",
    "            loc_z_i = i\n",
    "        else:\n",
    "            loc_r_i = i\n",
    "            loc_z_i = 0\n",
    "            \n",
    "        loc_subarea[i] =  [r_min+ r_span*loc_r_i,r_min+ r_span*(loc_r_i+1) ,z_min+ z_span*loc_z_i,z_min+ z_span*(loc_z_i+1) ]\n",
    "        \n",
    "        if len(par_subspaces) == 1:\n",
    "            \n",
    "            ret_subareas[i] = loc_subarea[i]\n",
    "        else:\n",
    "            ret_subareas[i] = subspacing(loc_subarea[i],par_subspaces[1:])\n",
    "    return ret_subareas\n",
    "    \n",
    "    \n",
    "def func_i(par_samples,par_a,par_i):\n",
    "    '''\n",
    "    Define function consdering the amount of maximal iterations \n",
    "    returning its specific area\n",
    "    '''\n",
    "    \n",
    "    loc_tot_area = total_area(par_a)\n",
    "    loc_sizecount = len(par_samples)\n",
    "    loc_mandel = np.zeros(loc_sizecount)\n",
    "    for loc_j in range(loc_sizecount):\n",
    "        loc_mandel[loc_j] =  mandel_i(par_samples[loc_j], par_i)\n",
    "        \n",
    "    ret_area = mandelbrot_area(loc_mandel,loc_sizecount,loc_tot_area)\n",
    "    return ret_area\n",
    "    \n",
    "\n",
    "\n",
    "\n",
    "    \n",
    "def func_j_i(par_samples,par_a,par_i):\n",
    "    '''\n",
    "    Define function considering the improvement after j steps\n",
    "    returning the area for all precisions until i\n",
    "    '''\n",
    "    f = IntProgress(min=0, max=par_i) # instantiate the bar\n",
    "    display(f)\n",
    "    ret_area = []\n",
    "    for loc_j in range(par_i):\n",
    "        f.value +=1\n",
    "        ret_area.append(func_i(par_samples,par_a,loc_j))\n",
    "    return ret_area\n",
    "\n",
    "\n",
    "def func_s_log_uni(par_a,par_i,par_s,par_i_range=False,par_s_range=False):\n",
    "    '''\n",
    "    pure random sampling\n",
    "    Define function considering the improvement after j steps\n",
    "    returning the area for all precisions until i\n",
    "    '''\n",
    "    f = IntProgress(min=0, max=par_s+1) # instantiate the bar\n",
    "    display(f)\n",
    "    loc_tot_area = total_area(par_a)\n",
    "    \n",
    "    if par_i_range == True and par_s_range == True:\n",
    "        ret_area = np.empty((par_s,par_i))\n",
    "    elif par_i_range == True:\n",
    "        ret_area = np.empty((1,par_i))\n",
    "    elif par_s_range == True:\n",
    "        ret_area = np.empty((par_s,1))\n",
    "    else:\n",
    "        ret_area = np.empty((1,1))\n",
    "        \n",
    "        \n",
    "    if par_s_range == True:\n",
    "        start_s = 1\n",
    "    else:\n",
    "        start_s = par_s\n",
    "    \n",
    "    for loc_s in range(start_s,par_s+1):\n",
    "        f.value = loc_s\n",
    "        sample_size = 2**loc_s\n",
    "        loc_samples = np.empty((sample_size,2))\n",
    "        \n",
    "        #######\n",
    "        #create sample array(start)\n",
    "        ######\n",
    "        for loc_sub_s in range(sample_size):\n",
    "            \n",
    "            loc_r = (par_a[1]-par_a[0]) * np.random.rand() + par_a[0]\n",
    "            loc_z = (par_a[3]-par_a[2]) * np.random.rand() + par_a[2]\n",
    "            \n",
    "            loc_samples[loc_sub_s] = [loc_r,loc_z]\n",
    "        \n",
    "        #######\n",
    "        #create sample array(end)\n",
    "        ######\n",
    "        \n",
    "        #enter sample array to \n",
    "        \n",
    "        if par_i_range == True:\n",
    "            loc_temp_result = func_j_i(loc_samples,par_a,par_i)\n",
    "            ret_area[loc_s-start_s] = loc_temp_result - loc_temp_result[-1]\n",
    "        else:\n",
    "            ret_area[loc_s-start_s] = func_i(loc_samples,par_a,par_i)\n",
    "        \n",
    "        \n",
    "    if par_s_range == True and par_i_range ==False:\n",
    "        ret_area = ret_area - ret_area[-1]\n",
    "        \n",
    "    return abs(ret_area)\n",
    "\n",
    "def random_permutation(array):\n",
    "    # Set index k equal to the final element in the array\n",
    "    k = len(array) - 1\n",
    "    \n",
    "    while k > 1:\n",
    "        element = array[k]\n",
    "        # Generate random index to swap with index k\n",
    "        index = int(k * np.random.uniform()) + 1\n",
    "        array[k] = array[index]\n",
    "        array[index] = element\n",
    "        \n",
    "        k -= 1\n",
    "    \n",
    "    return array\n",
    "\n",
    "def latin_hypercube_sampling_1d(par_s):\n",
    "    '''\n",
    "    function that returns s sampling points each in an interval [j/s, (j+1)s] with j = 0, 1, ..., s-1\n",
    "    '''\n",
    "\n",
    "    samples = np.zeros(par_s)\n",
    "    for s in range(par_s):\n",
    "        samples[s] = (s + np.random.uniform()) / n\n",
    "        \n",
    "    return samples\n",
    "    \n",
    "def latin_hypercube_sampling_2d(par_s):\n",
    "    '''\n",
    "    function that returns a latin hypercube of sampling points in 2 dimensions\n",
    "    '''\n",
    "    \n",
    "    # Array to store the sampling points\n",
    "    samples = np.zeros((par_s, 2))\n",
    "    \n",
    "    x = random_permutation(latin_hypercube_sampling_1d(par_s))\n",
    "    y = random_permutation(latin_hypercube_sampling_1d(par_s))\n",
    "    \n",
    "    # Combine the x and y coordinate to form a sampling point\n",
    "    for s in range(par_s):\n",
    "        index_x = 0\n",
    "        index_y = 0\n",
    "        # Sampling points are not allowed to be on the same row or column\n",
    "        if math.trunc(y[index_y] * par_s) == math.trunc(x[index_y] * par_s):\n",
    "            # Generate a random index to swap with\n",
    "            index_y = int((len(y) - 1) * np.random.uniform())\n",
    "            if index_y == 0:\n",
    "                index_y += 1\n",
    "        \n",
    "        # Add sampling point to the array\n",
    "        samples[s, 0] = x[index_x]\n",
    "        samples[s, 1] = y[index_y]\n",
    "        \n",
    "        # Delete the used coordinates, so they cannot be used in the swap anymore\n",
    "        x = np.delete(x, index_x)\n",
    "        y = np.delete(y, index_y)\n",
    "\n",
    "    return samples\n",
    "\n",
    "def func_s_log_latin(par_a,par_i,par_s,par_i_range=False,par_s_range=False):\n",
    "    '''\n",
    "    latin hypercube sampling\n",
    "    Define function considering the improvement after j steps\n",
    "    returning the area for all precisions until i\n",
    "    '''\n",
    "    f = IntProgress(min=0, max=par_s+1) # instantiate the bar\n",
    "    display(f)\n",
    "    loc_tot_area = total_area(par_a)\n",
    "    \n",
    "    if par_i_range == True and par_s_range == True:\n",
    "        ret_area = np.empty((par_s,par_i))\n",
    "    elif par_i_range == True:\n",
    "        ret_area = np.empty((1,par_i))\n",
    "    elif par_s_range == True:\n",
    "        ret_area = np.empty((par_s,1))\n",
    "    else:\n",
    "        ret_area = np.empty((1,1))\n",
    "        \n",
    "        \n",
    "    if par_s_range == True:\n",
    "        start_s = 1\n",
    "    else:\n",
    "        start_s = par_s\n",
    "    \n",
    "    for loc_s in range(start_s,par_s+1):\n",
    "        f.value = loc_s\n",
    "        sample_size = 2**loc_s\n",
    "        \n",
    "        #######\n",
    "        #create sample array(start)\n",
    "        ######\n",
    "        \n",
    "        loc_samples = latin_hypercube_sampling_2d(loc_s)\n",
    "\n",
    "        #######\n",
    "        #create sample array(end)\n",
    "        ######\n",
    "        \n",
    "        #enter sample array to \n",
    "        \n",
    "        if par_i_range == True:\n",
    "            loc_temp_result = func_j_i(loc_samples,par_a,par_i)\n",
    "            ret_area[loc_s-start_s] = loc_temp_result - loc_temp_result[-1]\n",
    "        else:\n",
    "            ret_area[loc_s-start_s] = func_i(loc_samples,par_a,par_i)\n",
    "        \n",
    "        \n",
    "    if par_s_range == True and par_i_range ==False:\n",
    "        ret_area = ret_area - ret_area[-1]\n",
    "        \n",
    "    return abs(ret_area)\n",
    "\n",
    "\n",
    "def ortho_sampling(par_subspacing,par_sample_size):\n",
    "    ret_samples = np.empty((0,2))\n",
    "    loc_subspace_dim = np.shape(par_subspacing)\n",
    "    #get the amount of samples per subspace \n",
    "    loc_samples_per_subspace = par_sample_size/loc_subspace_dim[0]\n",
    "    loc_samples_collected = 0\n",
    "    for loc_sub_s in range(loc_subspace_dim[0]):\n",
    "        loc_sample_for_subspace = max([0,math.ceil((loc_samples_per_subspace * (loc_sub_s+1))-loc_samples_collected )])\n",
    "        if len(loc_subspace_dim) ==2:\n",
    "            for j in range(loc_sample_for_subspace):\n",
    "                loc_r = (par_subspacing[loc_sub_s][1]-par_subspacing[loc_sub_s][0]) * np.random.rand() + par_subspacing[loc_sub_s][0]\n",
    "                loc_z = (par_subspacing[loc_sub_s][3]-par_subspacing[loc_sub_s][2]) * np.random.rand() + par_subspacing[loc_sub_s][2]\n",
    "                #ret_samples[loc_samples_collected+ loc_sub_s] = [loc_r,loc_z]\n",
    "                ret_samples = np.append(ret_samples,[[loc_r,loc_z]],axis=0)\n",
    "        else:\n",
    "            ret_samples = np.append(ret_samples,ortho_sampling(par_subspacing[loc_sub_s],loc_sample_for_subspace),axis=0)\n",
    "        loc_samples_collected += loc_sample_for_subspace\n",
    "    return ret_samples\n",
    "\n",
    "\n",
    "def func_s_log_ortho(par_a,par_i,par_s,par_i_range=False,par_s_range=False):\n",
    "    '''\n",
    "    pure random sampling\n",
    "    Define function considering the improvement after j steps\n",
    "    returning the area for all precisions until i\n",
    "    '''\n",
    "    f = IntProgress(min=0, max=par_s+1) # instantiate the bar\n",
    "    display(f)\n",
    "    loc_tot_area = total_area(par_a)\n",
    "    \n",
    "    if par_i_range == True and par_s_range == True:\n",
    "        ret_area = np.empty((par_s,par_i))\n",
    "    elif par_i_range == True:\n",
    "        ret_area = np.empty((1,par_i))\n",
    "    elif par_s_range == True:\n",
    "        ret_area = np.empty((par_s,1))\n",
    "    else:\n",
    "        ret_area = np.empty((1,1))\n",
    "        \n",
    "        \n",
    "    if par_s_range == True:\n",
    "        start_s = 1\n",
    "    else:\n",
    "        start_s = par_s\n",
    "    \n",
    "    for loc_s in range(start_s,par_s+1):\n",
    "        f.value = loc_s\n",
    "        sample_size = 2**loc_s\n",
    "        loc_samples = np.empty((sample_size,2))\n",
    "        \n",
    "        #######\n",
    "        #create sample array(start)\n",
    "        ######\n",
    "        subspace_dim = [4,4]\n",
    "        loc_subspacing = subspacing(par_a,subspace_dim)\n",
    "        loc_samples = ortho_sampling(loc_subspacing,sample_size)\n",
    "        \n",
    "        #######\n",
    "        #create sample array(end)\n",
    "        ######\n",
    "        \n",
    "        #enter sample array to \n",
    "        \n",
    "        if par_i_range == True:\n",
    "            loc_temp_result = func_j_i(loc_samples,par_a,par_i)\n",
    "            ret_area[loc_s-start_s] = loc_temp_result - loc_temp_result[-1]\n",
    "        else:\n",
    "            ret_area[loc_s-start_s] = func_i(loc_samples,par_a,par_i)\n",
    "        \n",
    "        \n",
    "    if par_s_range == True and par_i_range ==False:\n",
    "        ret_area = ret_area - ret_area[-1]\n",
    "        \n",
    "    return abs(ret_area)\n",
    "\n",
    "\n",
    "\n",
    "\n",
    "def func_s_d_latin(par_a,par_i,par_s, par_method):\n",
    "    '''\n",
    "    latin square sampling\n",
    "    Define function considering the improvement after j steps\n",
    "    returning the area for all precisions until i\n",
    "    '''\n",
    "    f = IntProgress(min=0, max=par_i+1) # instantiate the bar\n",
    "    display(f)\n",
    "    loc_tot_area = total_area(par_a)\n",
    "    mandelbrot_a = []\n",
    "    \n",
    "    if par_method == 'latin_hypercube':\n",
    "        # Create s samples (in [0, 1)\n",
    "        sampler = qmc.LatinHypercube(d=2)\n",
    "        samples = sampler.random(par_s)\n",
    "    \n",
    "    for loc_j in range(par_i + 1):\n",
    "        f.value +=1\n",
    "        \n",
    "        # Counter for the number of samples in the mandelbrot area\n",
    "        inside = 0\n",
    "        \n",
    "        for s in range(par_s):\n",
    "\n",
    "            if par_method == 'uniform':\n",
    "                # Random uniform variables\n",
    "                r = np.random.uniform()\n",
    "                z = np.random.uniform()\n",
    "\n",
    "            elif par_method == 'latin_hypercube':\n",
    "                # Pick from the next sample in the list\n",
    "                r = samples[s][0]\n",
    "                z = samples[s][1]\n",
    "\n",
    "            # Scale the variables to the sampling area\n",
    "            r, z = scale_sample(r, z, par_a)\n",
    "            \n",
    "            if mandel_i([r, z], loc_j) == 0:\n",
    "                inside += 1\n",
    "        \n",
    "        mandelbrot_a.append((inside/par_s) * loc_tot_area)\n",
    "\n",
    "    return mandelbrot_a\n",
    "\n",
    "\n"
   ]
  },
  {
   "cell_type": "code",
   "execution_count": 2,
   "id": "f9b253c5",
   "metadata": {},
   "outputs": [],
   "source": [
    "\n",
    "'''\n",
    "Idea:\n",
    "create a subspace with dimensions 4^n \n",
    "set corresponding matrix entry to a pprobability and iteration\n",
    "iteration step 0\n",
    "    create 4 subspace set probability to 1/4\n",
    "    \n",
    "        multiply probability with amount of samples floor min 1 .\n",
    "        count samples in the end\n",
    "        \n",
    "    iterate over the subspaces \n",
    "        and in the subspaces over the samples. \n",
    "            test for convergence with amount of iterations\n",
    "        if all samples in subspace are either in or out of the set reduce probability by 50% and mark as such. \n",
    "        if all are in the set, also reduce the iterations necessary.\n",
    "        calculate the mandelbrot area in the subspace.\n",
    "        Accumulate the percentage and the amount of subspaces with penalty.\n",
    "    iterate over subspaces again\n",
    "        distribute the leftover percentage among the rest of the subspaces \n",
    "        increase the amount of iterations in (most) subspaces \n",
    "    if counter for iteration %4 == 0 \n",
    "        create another subspace in each subspace\n",
    "'''\n",
    "\n",
    "    \n",
    "def func_i_inout(par_samples,par_a,par_i):\n",
    "    '''\n",
    "    Define function consdering the amount of maximal iterations \n",
    "    returning its specific area\n",
    "    '''\n",
    "    \n",
    "    loc_tot_area = total_area(par_a)\n",
    "    loc_sizecount = len(par_samples)\n",
    "    loc_mandel = np.zeros(loc_sizecount)\n",
    "    for loc_j in range(loc_sizecount):\n",
    "        loc_mandel[loc_j] =  mandel_i(par_samples[loc_j], par_i)\n",
    "        \n",
    "    ret_area = mandelbrot_area(loc_mandel,loc_sizecount,loc_tot_area)\n",
    "    all_out, all_in = [0,0]\n",
    "    #print(\"samples inout\",loc_mandel)\n",
    "    #print(\"parameters\",par_samples,par_a,par_i)\n",
    "    if sum(loc_mandel) ==loc_sizecount:\n",
    "        all_in =1\n",
    "        all_out=0\n",
    "    elif sum(loc_mandel) ==0:\n",
    "        all_out =1\n",
    "        all_in =0\n",
    "    else:\n",
    "        \n",
    "        all_out=0\n",
    "        all_in =0\n",
    "        \n",
    "    return ret_area, all_in,all_out\n",
    "    \n",
    "\n",
    "\n",
    "\n",
    "    \n",
    "def func_j_i_inout(par_samples,par_a,par_i):\n",
    "    '''\n",
    "    Define function considering the improvement after j steps\n",
    "    returning the area for all precisions until i\n",
    "    '''\n",
    "    f = IntProgress(min=0, max=par_i) # instantiate the bar\n",
    "    display(f)\n",
    "    ret_area = []\n",
    "    for loc_j in range(int(par_i)):\n",
    "        f.value +=1\n",
    "        ret_area.append(func_i(par_samples,par_a,loc_j))\n",
    "    all_out, all_in = [0,0]\n",
    "    if sum(loc_mandel) ==loc_sizecount:\n",
    "        all_in =1\n",
    "    elif sum(loc_mandel) ==0:\n",
    "        all_out =1\n",
    "        \n",
    "    return ret_area, all_in,all_out\n",
    "\n",
    "\n",
    "def matrixmapper(par_mat,par_number):\n",
    "    goal = np.shape(par_mat)\n",
    "    if len(goal)>1:\n",
    "        ret = 1\n",
    "        for i in goal[1:]:\n",
    "            ret = ret*i\n",
    "            \n",
    "        new_num = par_number%ret\n",
    "        new_subarr = math.floor(par_number/ret)\n",
    "        retval = matrixmapper(par_mat[new_subarr],new_num)\n",
    "    else:\n",
    "        retval = par_mat[par_number]\n",
    "    \n",
    "    return retval\n",
    "        \n",
    "\n",
    "def matrixwriter(par_mat,par_number,insert):\n",
    "    goal = np.shape(par_mat)\n",
    "    retval = par_mat\n",
    "    if len(goal)>1:\n",
    "        ret = 1\n",
    "        for i in goal[1:]:\n",
    "            ret = ret*i\n",
    "            \n",
    "        new_num = par_number%ret\n",
    "        new_subarr = math.floor(par_number/ret)\n",
    "        matrixwriter(par_mat[new_subarr],new_num,insert)\n",
    "    else:\n",
    "        retval[par_number] = insert\n",
    "    \n",
    "    return retval\n",
    "        \n",
    "\n",
    "\n",
    "def func_s_log_zoom(par_a,par_i,par_s,par_subdiv= 4,par_i_range=False,par_s_range=False,save_samples =False):\n",
    "    '''\n",
    "    pure random sampling\n",
    "    Define function considering the improvement after j steps\n",
    "    returning the area for all precisions until i\n",
    "    '''\n",
    "    f = IntProgress(min=0, max=par_s+1) # instantiate the bar\n",
    "    display(f)\n",
    "    loc_tot_area = total_area(par_a)\n",
    "    \n",
    "    if par_i_range == True and par_s_range == True:\n",
    "        ret_area = np.zeros(par_s)\n",
    "    elif par_i_range == True:\n",
    "        ret_area = np.zeros(par_s)\n",
    "    elif par_s_range == True:\n",
    "        ret_area = np.zeros(par_s)\n",
    "    else:\n",
    "        ret_area = np.zeros((1,1))\n",
    "        \n",
    "        \n",
    "    if par_s_range == True:\n",
    "        start_s =1\n",
    "    else:\n",
    "        start_s = par_s \n",
    "\n",
    "    #INstantiate handover subspace parameters\n",
    "    n_increase_after_iteration = 2\n",
    "    glo_split =par_subdiv\n",
    "    glo_check_iterations =par_i\n",
    "    \n",
    "    loc_subspace_param = np.append(np.zeros((1,glo_split)) + 1/glo_split,np.zeros((2,glo_split)),axis =0)\n",
    "    \n",
    "    if par_i_range ==True:\n",
    "        loc_subspace_param[1] = glo_check_iterations\n",
    "        \n",
    "    else:\n",
    "        loc_subspace_param[1] = int(par_i)\n",
    "        loc_iterations_next_cycle =int(par_i)\n",
    "    \n",
    "    if save_samples ==True:\n",
    "        saved_samples = np.zeros((1,2))\n",
    "        \n",
    "    #for surrounding iterations\n",
    "    for loc_s in range(start_s,par_s+1):\n",
    "        f.value = loc_s\n",
    "        sample_size_param = 2**(loc_s+7)\n",
    "        if par_i_range ==True:\n",
    "            loc_iterations_next_cycle = glo_check_iterations * (loc_s)\n",
    "        \n",
    "        subspace_dim = [glo_split]*(math.ceil(loc_s/n_increase_after_iteration))\n",
    "        next_subspace_dim = [glo_split]*(math.ceil((loc_s+1)/n_increase_after_iteration))\n",
    "        \n",
    "        \n",
    "        loc_new_subspace_param = np.zeros(np.append(3,next_subspace_dim))\n",
    "        \n",
    "        loc_subspacing = subspacing(par_a,subspace_dim)\n",
    "        \n",
    "        #Iterate through all subspaces\n",
    "        loc_num_subspace = glo_split**len(subspace_dim)\n",
    "        next_loc_num_subspace = glo_split**len(next_subspace_dim)\n",
    "        new_percent = 0\n",
    "        total_samples = 0\n",
    "        total_percentage = 0\n",
    "        for loc_subspace in range(loc_num_subspace):\n",
    "            loc_percentage = matrixmapper(loc_subspace_param[0],loc_subspace)\n",
    "            loc_samples_size = max(1,math.floor(loc_percentage* sample_size_param))\n",
    "            loc_iterations = matrixmapper(loc_subspace_param[1],loc_subspace)\n",
    "            loc_subspacearea = np.zeros(4)\n",
    "            loc_subspacearea[0] = matrixmapper(loc_subspacing,loc_subspace*4)\n",
    "            loc_subspacearea[1] = matrixmapper(loc_subspacing,loc_subspace*4+1)\n",
    "            loc_subspacearea[2] = matrixmapper(loc_subspacing,loc_subspace*4+2)\n",
    "            loc_subspacearea[3] = matrixmapper(loc_subspacing,loc_subspace*4+3)\n",
    "                \n",
    "            loc_samples = np.empty((loc_samples_size,2))\n",
    "\n",
    "            #######\n",
    "            #create sample array(start)\n",
    "            ######\n",
    "            total_samples +=loc_samples_size\n",
    "            for loc_sub_s in range(loc_samples_size):\n",
    "\n",
    "                loc_r = (loc_subspacearea[1]-loc_subspacearea[0]) * np.random.rand() + loc_subspacearea[0]\n",
    "                loc_z = (loc_subspacearea[3]-loc_subspacearea[2]) * np.random.rand() + loc_subspacearea[2]\n",
    "\n",
    "                loc_samples[loc_sub_s] = [loc_r,loc_z]\n",
    "            #\n",
    "            if save_samples ==True:\n",
    "                saved_samples = np.append(saved_samples,\n",
    "                                          loc_samples,axis = 0)\n",
    "            #######\n",
    "            #create sample array(end)\n",
    "            ######\n",
    "\n",
    "\n",
    "            loc_area_result,all_in,all_out = func_i_inout(loc_samples,par_a,int(loc_iterations))\n",
    "                \n",
    "            \n",
    "            if all_in == 1:\n",
    "                matrixwriter(loc_subspace_param[2],loc_subspace,1)\n",
    "                new_percent += loc_percentage/2\n",
    "                matrixwriter(loc_subspace_param[0],loc_subspace,loc_percentage/2)\n",
    "            elif all_out == 1:\n",
    "                matrixwriter(loc_subspace_param[2],loc_subspace,1)\n",
    "                new_percent += loc_percentage/2\n",
    "                matrixwriter(loc_subspace_param[0],loc_subspace,loc_percentage/2)\n",
    "                matrixwriter(loc_subspace_param[1],loc_subspace,loc_iterations_next_cycle)\n",
    "            else:\n",
    "                matrixwriter(loc_subspace_param[1],loc_subspace,loc_iterations_next_cycle)\n",
    "                matrixwriter(loc_subspace_param[2],loc_subspace,0)\n",
    "                \n",
    "                \n",
    "                \n",
    "            ret_area[loc_s-start_s] += loc_area_result/loc_num_subspace\n",
    "\n",
    "            total_percentage += loc_percentage\n",
    "                \n",
    "        \n",
    "        if(loc_s<par_s):\n",
    "\n",
    "            loc_zoomspace_count = np.sum(1-loc_subspace_param[2])\n",
    "\n",
    "\n",
    "            if abs(loc_zoomspace_count ) < 1:\n",
    "                loc_subspace_param[2] = np.zeros(subspace_dim)\n",
    "                loc_zoom_percentage = 1/loc_num_subspace\n",
    "            else:\n",
    "                loc_zoom_percentage = (1 - new_percent)/loc_zoomspace_count\n",
    "\n",
    "            for loc_subspace in range(loc_num_subspace):\n",
    "\n",
    "                if matrixmapper(loc_subspace_param[2],loc_subspace) ==1:\n",
    "                    new_param = matrixmapper(loc_subspace_param[0],loc_subspace)\n",
    "                    loc_new_iterations_for_subspace = matrixmapper(loc_subspace_param[1],loc_subspace)\n",
    "                else:\n",
    "                    new_param = loc_zoom_percentage\n",
    "                    loc_new_iterations_for_subspace = matrixmapper(loc_subspace_param[1],loc_subspace)\n",
    "\n",
    "                if loc_num_subspace < next_loc_num_subspace:\n",
    "                    for m in range(glo_split):\n",
    "                        matrixwriter(loc_new_subspace_param[0],loc_subspace*glo_split+m,new_param/glo_split)\n",
    "                        matrixwriter(loc_new_subspace_param[1],loc_subspace*glo_split+m,loc_new_iterations_for_subspace)\n",
    "                else:\n",
    "                    matrixwriter(loc_new_subspace_param[0],loc_subspace,new_param)\n",
    "                    matrixwriter(loc_new_subspace_param[1],loc_subspace,loc_new_iterations_for_subspace)\n",
    "\n",
    "            loc_subspace_param = loc_new_subspace_param.copy()\n",
    "\n",
    "    if save_samples:\n",
    "        return abs(ret_area), saved_samples\n",
    "    else:\n",
    "        return abs(ret_area)\n",
    "\n",
    "\n"
   ]
  },
  {
   "cell_type": "code",
   "execution_count": 7,
   "id": "1d358b8a",
   "metadata": {},
   "outputs": [
    {
     "name": "stdout",
     "output_type": "stream",
     "text": [
      "0 / 10\n"
     ]
    },
    {
     "data": {
      "application/vnd.jupyter.widget-view+json": {
       "model_id": "46795e5bbbfd4b4292d7ff4160cb9e83",
       "version_major": 2,
       "version_minor": 0
      },
      "text/plain": [
       "IntProgress(value=0, max=9)"
      ]
     },
     "metadata": {},
     "output_type": "display_data"
    },
    {
     "data": {
      "application/vnd.jupyter.widget-view+json": {
       "model_id": "995daee945d84fb1847276b472b1bc71",
       "version_major": 2,
       "version_minor": 0
      },
      "text/plain": [
       "IntProgress(value=0, max=9)"
      ]
     },
     "metadata": {},
     "output_type": "display_data"
    },
    {
     "name": "stdout",
     "output_type": "stream",
     "text": [
      "--- 84.3629961013794 seconds ---\n",
      "1 / 10\n"
     ]
    },
    {
     "data": {
      "application/vnd.jupyter.widget-view+json": {
       "model_id": "1a9a2f6724e5489d9d9634100cdc0401",
       "version_major": 2,
       "version_minor": 0
      },
      "text/plain": [
       "IntProgress(value=0, max=9)"
      ]
     },
     "metadata": {},
     "output_type": "display_data"
    },
    {
     "data": {
      "application/vnd.jupyter.widget-view+json": {
       "model_id": "9a517c7e73cf4f65a0efe2801b0bb068",
       "version_major": 2,
       "version_minor": 0
      },
      "text/plain": [
       "IntProgress(value=0, max=9)"
      ]
     },
     "metadata": {},
     "output_type": "display_data"
    },
    {
     "name": "stdout",
     "output_type": "stream",
     "text": [
      "--- 86.61072492599487 seconds ---\n",
      "2 / 10\n"
     ]
    },
    {
     "data": {
      "application/vnd.jupyter.widget-view+json": {
       "model_id": "8f9496575ed048349d764c278b0416ca",
       "version_major": 2,
       "version_minor": 0
      },
      "text/plain": [
       "IntProgress(value=0, max=9)"
      ]
     },
     "metadata": {},
     "output_type": "display_data"
    },
    {
     "data": {
      "application/vnd.jupyter.widget-view+json": {
       "model_id": "ce0d5748dd08497aa8f887e92e26aed0",
       "version_major": 2,
       "version_minor": 0
      },
      "text/plain": [
       "IntProgress(value=0, max=9)"
      ]
     },
     "metadata": {},
     "output_type": "display_data"
    },
    {
     "name": "stdout",
     "output_type": "stream",
     "text": [
      "--- 85.60621166229248 seconds ---\n",
      "3 / 10\n"
     ]
    },
    {
     "data": {
      "application/vnd.jupyter.widget-view+json": {
       "model_id": "fb97bda4ca6c4479a71225363e141988",
       "version_major": 2,
       "version_minor": 0
      },
      "text/plain": [
       "IntProgress(value=0, max=9)"
      ]
     },
     "metadata": {},
     "output_type": "display_data"
    },
    {
     "data": {
      "application/vnd.jupyter.widget-view+json": {
       "model_id": "cfc4b2e6febd40dda7a4542cfdf4018a",
       "version_major": 2,
       "version_minor": 0
      },
      "text/plain": [
       "IntProgress(value=0, max=9)"
      ]
     },
     "metadata": {},
     "output_type": "display_data"
    },
    {
     "name": "stdout",
     "output_type": "stream",
     "text": [
      "--- 85.41921496391296 seconds ---\n",
      "4 / 10\n"
     ]
    },
    {
     "data": {
      "application/vnd.jupyter.widget-view+json": {
       "model_id": "023243ac6f4b4563a4ae54ed25582130",
       "version_major": 2,
       "version_minor": 0
      },
      "text/plain": [
       "IntProgress(value=0, max=9)"
      ]
     },
     "metadata": {},
     "output_type": "display_data"
    },
    {
     "data": {
      "application/vnd.jupyter.widget-view+json": {
       "model_id": "f673c213abf34a26a322e56d7156269f",
       "version_major": 2,
       "version_minor": 0
      },
      "text/plain": [
       "IntProgress(value=0, max=9)"
      ]
     },
     "metadata": {},
     "output_type": "display_data"
    },
    {
     "name": "stdout",
     "output_type": "stream",
     "text": [
      "--- 82.97204685211182 seconds ---\n",
      "5 / 10\n"
     ]
    },
    {
     "data": {
      "application/vnd.jupyter.widget-view+json": {
       "model_id": "11b336513dd345a49b45a773691fa338",
       "version_major": 2,
       "version_minor": 0
      },
      "text/plain": [
       "IntProgress(value=0, max=9)"
      ]
     },
     "metadata": {},
     "output_type": "display_data"
    },
    {
     "data": {
      "application/vnd.jupyter.widget-view+json": {
       "model_id": "3431d3f054674bd8a5d3d8bde0e08585",
       "version_major": 2,
       "version_minor": 0
      },
      "text/plain": [
       "IntProgress(value=0, max=9)"
      ]
     },
     "metadata": {},
     "output_type": "display_data"
    },
    {
     "name": "stdout",
     "output_type": "stream",
     "text": [
      "--- 82.71333837509155 seconds ---\n",
      "6 / 10\n"
     ]
    },
    {
     "data": {
      "application/vnd.jupyter.widget-view+json": {
       "model_id": "578d9cd9ed5c41c88682be0ac4f91223",
       "version_major": 2,
       "version_minor": 0
      },
      "text/plain": [
       "IntProgress(value=0, max=9)"
      ]
     },
     "metadata": {},
     "output_type": "display_data"
    },
    {
     "data": {
      "application/vnd.jupyter.widget-view+json": {
       "model_id": "87699cd3ea5545c98f7251134eece81c",
       "version_major": 2,
       "version_minor": 0
      },
      "text/plain": [
       "IntProgress(value=0, max=9)"
      ]
     },
     "metadata": {},
     "output_type": "display_data"
    },
    {
     "name": "stdout",
     "output_type": "stream",
     "text": [
      "--- 83.40496158599854 seconds ---\n",
      "7 / 10\n"
     ]
    },
    {
     "data": {
      "application/vnd.jupyter.widget-view+json": {
       "model_id": "ddd760c9c68341d38006d33a9c8874e6",
       "version_major": 2,
       "version_minor": 0
      },
      "text/plain": [
       "IntProgress(value=0, max=9)"
      ]
     },
     "metadata": {},
     "output_type": "display_data"
    },
    {
     "data": {
      "application/vnd.jupyter.widget-view+json": {
       "model_id": "1a1ce40c788041cd8c703a49b3450264",
       "version_major": 2,
       "version_minor": 0
      },
      "text/plain": [
       "IntProgress(value=0, max=9)"
      ]
     },
     "metadata": {},
     "output_type": "display_data"
    },
    {
     "name": "stdout",
     "output_type": "stream",
     "text": [
      "--- 84.48435950279236 seconds ---\n",
      "8 / 10\n"
     ]
    },
    {
     "data": {
      "application/vnd.jupyter.widget-view+json": {
       "model_id": "0c7eb0e73c1741769a2c1400d48e6933",
       "version_major": 2,
       "version_minor": 0
      },
      "text/plain": [
       "IntProgress(value=0, max=9)"
      ]
     },
     "metadata": {},
     "output_type": "display_data"
    },
    {
     "data": {
      "application/vnd.jupyter.widget-view+json": {
       "model_id": "c36895c5340e4d7ba245db666ffa5e4e",
       "version_major": 2,
       "version_minor": 0
      },
      "text/plain": [
       "IntProgress(value=0, max=9)"
      ]
     },
     "metadata": {},
     "output_type": "display_data"
    },
    {
     "name": "stdout",
     "output_type": "stream",
     "text": [
      "--- 83.57432055473328 seconds ---\n",
      "9 / 10\n"
     ]
    },
    {
     "data": {
      "application/vnd.jupyter.widget-view+json": {
       "model_id": "f118e09b2c3744aab6709f7c1416bd57",
       "version_major": 2,
       "version_minor": 0
      },
      "text/plain": [
       "IntProgress(value=0, max=9)"
      ]
     },
     "metadata": {},
     "output_type": "display_data"
    },
    {
     "data": {
      "application/vnd.jupyter.widget-view+json": {
       "model_id": "64daf2a58ff54840bc37c5d848651f5f",
       "version_major": 2,
       "version_minor": 0
      },
      "text/plain": [
       "IntProgress(value=0, max=9)"
      ]
     },
     "metadata": {},
     "output_type": "display_data"
    },
    {
     "name": "stdout",
     "output_type": "stream",
     "text": [
      "--- 85.01182579994202 seconds ---\n"
     ]
    }
   ],
   "source": [
    "area = [-2, 1, -1, 1]     # Edges of the area\n",
    "Iterations = 200\n",
    "Samples = 8\n",
    "#np.random.seed(1337)\n",
    "repeats = 10\n",
    "import timeit\n",
    "\n",
    "area_estimates_ortho_i = np.zeros((repeats,Samples))\n",
    "area_estimates_ortho_i_n = np.zeros((repeats,Samples))\n",
    "for i in range(repeats):\n",
    "    print(i,\"/\",repeats)\n",
    "    start_time = time.time()\n",
    "    timeit.timeit('\"-\".join(str(n) for n in range(100))', number=10000)\n",
    "    area_estimates_ortho_i[i]= func_s_log_zoom(area,Iterations,Samples,par_subdiv=4,par_i_range=True,par_s_range=True,save_samples=False)\n",
    "\n",
    "    area_estimates_ortho_i_n[i]= func_s_log_zoom(area,Iterations,Samples,par_subdiv=1,par_i_range=True,par_s_range=True,save_samples=False)\n",
    "    print(\"--- %s seconds ---\" % (time.time() - start_time))"
   ]
  },
  {
   "cell_type": "code",
   "execution_count": 8,
   "id": "e6876bec",
   "metadata": {},
   "outputs": [],
   "source": [
    "num_mandelbrot_area = 1.506484\n",
    "mean_area_estimate_ortho_i = np.mean(area_estimates_ortho_i,axis=0)\n",
    "mean_area_estimate_ortho_i_n = np.mean(area_estimates_ortho_i_n,axis=0)\n",
    "\n",
    "std_area_estimate_ortho_i = np.std(area_estimates_ortho_i,axis=0)\n",
    "std_area_estimate_ortho_i_n = np.std(area_estimates_ortho_i_n,axis=0)\n"
   ]
  },
  {
   "cell_type": "code",
   "execution_count": 9,
   "id": "0bad84dc",
   "metadata": {},
   "outputs": [
    {
     "data": {
      "image/png": "[encoded data removed]",
      "text/plain": [
       "<Figure size 640x480 with 1 Axes>"
      ]
     },
     "metadata": {},
     "output_type": "display_data"
    }
   ],
   "source": [
    "values_1 = abs(mean_area_estimate_ortho_i-num_mandelbrot_area)\n",
    "values_2 = abs(mean_area_estimate_ortho_i_n-num_mandelbrot_area)\n",
    "\n",
    "fig, ax = plt.subplots()\n",
    "plt.plot(np.arange(8)+1,values_1,'g-',label= \"Zoom Method\")\n",
    "plt.plot(np.arange(8)+1,values_2,'b-',label= \"Area of Mandelbrot\")\n",
    "ax.fill_between(np.arange(8)+1, (values_1-std_area_estimate_ortho_i), (values_1+std_area_estimate_ortho_i), color='g', alpha=.1)\n",
    "ax.fill_between(np.arange(8)+1, (values_2-std_area_estimate_ortho_i_n), (values_2+std_area_estimate_ortho_i_n), color='b', alpha=.1)\n",
    "plt.title(\"Area Estimation after i Iterations random sampling\",size=20)\n",
    "plt.xlabel('Iteration',size=20)\n",
    "plt.ylabel('Area Estimation',size=20)\n",
    "plt.legend()\n",
    "#fig.savefig('figure1.png', dpi=300)\n",
    "plt.show()"
   ]
  },
  {
   "cell_type": "code",
   "execution_count": 11,
   "id": "158e27a8",
   "metadata": {},
   "outputs": [
    {
     "data": {
      "image/png": "[encoded data removed]",
      "text/plain": [
       "<Figure size 640x480 with 1 Axes>"
      ]
     },
     "metadata": {},
     "output_type": "display_data"
    }
   ],
   "source": [
    "values_1 = abs(mean_area_estimate_ortho_i-num_mandelbrot_area)\n",
    "values_2 = abs(mean_area_estimate_ortho_i_n-num_mandelbrot_area)\n",
    "\n",
    "fig, ax = plt.subplots()\n",
    "plt.semilogy(np.arange(8)+1,std_area_estimate_ortho_i,'g-',label= \"Zoom Method\")\n",
    "plt.semilogy(np.arange(8)+1,std_area_estimate_ortho_i_n,'b-',label= \"STD for Monte Carlo\")\n",
    "plt.title(\"Standard deviation after i Iterations random sampling\",size=20)\n",
    "plt.xlabel('Iteration',size=20)\n",
    "plt.ylabel('Area Estimation',size=20)\n",
    "plt.legend()\n",
    "#fig.savefig('figure1.png', dpi=300)\n",
    "plt.show()"
   ]
  },
  {
   "cell_type": "code",
   "execution_count": 34,
   "id": "2f1433d7",
   "metadata": {},
   "outputs": [
    {
     "data": {
      "image/png": "[encoded data removed]",
      "text/plain": [
       "<Figure size 432x288 with 1 Axes>"
      ]
     },
     "metadata": {
      "needs_background": "light"
     },
     "output_type": "display_data"
    }
   ],
   "source": [
    "'''\n",
    "Hypothesis:\n",
    "The method used in calculating the area is converging faster to the predicted true value than the Monte carlo method.\n",
    "\n",
    "Null hypothesis\n",
    "the difference in convergence comes down to pure chance.\n",
    "Test for decreasing std as well as increasing accuracy\n",
    "\n",
    "ftest\n",
    "\n",
    "\n",
    "'''\n",
    "    "
   ]
  },
  {
   "cell_type": "code",
   "execution_count": 32,
   "id": "ce43ec45",
   "metadata": {},
   "outputs": [
    {
     "data": {
      "application/vnd.jupyter.widget-view+json": {
       "model_id": "4f1b03e972f044a495bedeeafd7aada8",
       "version_major": 2,
       "version_minor": 0
      },
      "text/plain": [
       "IntProgress(value=0, max=1001)"
      ]
     },
     "metadata": {},
     "output_type": "display_data"
    }
   ],
   "source": [
    "area_estimate = func_j_i(area, 1000, 1000, 'uniform')"
   ]
  },
  {
   "cell_type": "code",
   "execution_count": 33,
   "id": "fac02024",
   "metadata": {},
   "outputs": [
    {
     "data": {
      "text/plain": [
       "1.422"
      ]
     },
     "execution_count": 33,
     "metadata": {},
     "output_type": "execute_result"
    }
   ],
   "source": [
    "area_estimate[-1]"
   ]
  },
  {
   "cell_type": "code",
   "execution_count": 10,
   "id": "ca052313",
   "metadata": {},
   "outputs": [
    {
     "data": {
      "text/plain": [
       "1.5081000000000002"
      ]
     },
     "execution_count": 10,
     "metadata": {},
     "output_type": "execute_result"
    }
   ],
   "source": [
    "loc_sizecount = total_samplecount(area,spacing)\n",
    "mandelbrot_area(mandel_plane,loc_sizecount,total_area(area))"
   ]
  },
  {
   "cell_type": "code",
   "execution_count": 163,
   "id": "52817a06",
   "metadata": {},
   "outputs": [
    {
     "data": {
      "application/vnd.jupyter.widget-view+json": {
       "model_id": "2ad252598e41486ba9063a17d5560e54",
       "version_major": 2,
       "version_minor": 0
      },
      "text/plain": [
       "IntProgress(value=0, max=16)"
      ]
     },
     "metadata": {},
     "output_type": "display_data"
    },
    {
     "ename": "KeyboardInterrupt",
     "evalue": "",
     "output_type": "error",
     "traceback": [
      "\u001b[1;31m---------------------------------------------------------------------------\u001b[0m",
      "\u001b[1;31mKeyboardInterrupt\u001b[0m                         Traceback (most recent call last)",
      "Input \u001b[1;32mIn [163]\u001b[0m, in \u001b[0;36m<cell line: 5>\u001b[1;34m()\u001b[0m\n\u001b[0;32m      3\u001b[0m Samples \u001b[38;5;241m=\u001b[39m \u001b[38;5;241m15\u001b[39m\n\u001b[0;32m      4\u001b[0m np\u001b[38;5;241m.\u001b[39mrandom\u001b[38;5;241m.\u001b[39mseed(\u001b[38;5;241m1337\u001b[39m)\n\u001b[1;32m----> 5\u001b[0m area_estimate_uni \u001b[38;5;241m=\u001b[39m \u001b[43mfunc_s_log_uni\u001b[49m\u001b[43m(\u001b[49m\u001b[43marea\u001b[49m\u001b[43m,\u001b[49m\u001b[43mIterations\u001b[49m\u001b[43m,\u001b[49m\u001b[43mSamples\u001b[49m\u001b[43m,\u001b[49m\u001b[43mpar_i_range\u001b[49m\u001b[38;5;241;43m=\u001b[39;49m\u001b[38;5;28;43;01mFalse\u001b[39;49;00m\u001b[43m,\u001b[49m\u001b[43mpar_s_range\u001b[49m\u001b[38;5;241;43m=\u001b[39;49m\u001b[38;5;28;43;01mTrue\u001b[39;49;00m\u001b[43m)\u001b[49m\n",
      "Input \u001b[1;32mIn [157]\u001b[0m, in \u001b[0;36mfunc_s_log_uni\u001b[1;34m(par_a, par_i, par_s, par_i_range, par_s_range)\u001b[0m\n\u001b[0;32m    255\u001b[0m         ret_area[loc_s\u001b[38;5;241m-\u001b[39mstart_s] \u001b[38;5;241m=\u001b[39m loc_temp_result \u001b[38;5;241m-\u001b[39m loc_temp_result[\u001b[38;5;241m-\u001b[39m\u001b[38;5;241m1\u001b[39m]\n\u001b[0;32m    256\u001b[0m     \u001b[38;5;28;01melse\u001b[39;00m:\n\u001b[1;32m--> 257\u001b[0m         ret_area[loc_s\u001b[38;5;241m-\u001b[39mstart_s] \u001b[38;5;241m=\u001b[39m \u001b[43mfunc_i\u001b[49m\u001b[43m(\u001b[49m\u001b[43mloc_samples\u001b[49m\u001b[43m,\u001b[49m\u001b[43mpar_a\u001b[49m\u001b[43m,\u001b[49m\u001b[43mpar_i\u001b[49m\u001b[43m)\u001b[49m\n\u001b[0;32m    260\u001b[0m \u001b[38;5;28;01mif\u001b[39;00m par_s_range \u001b[38;5;241m==\u001b[39m \u001b[38;5;28;01mTrue\u001b[39;00m \u001b[38;5;129;01mand\u001b[39;00m par_i_range \u001b[38;5;241m==\u001b[39m\u001b[38;5;28;01mFalse\u001b[39;00m:\n\u001b[0;32m    261\u001b[0m     ret_area \u001b[38;5;241m=\u001b[39m ret_area \u001b[38;5;241m-\u001b[39m ret_area[\u001b[38;5;241m-\u001b[39m\u001b[38;5;241m1\u001b[39m]\n",
      "Input \u001b[1;32mIn [157]\u001b[0m, in \u001b[0;36mfunc_i\u001b[1;34m(par_samples, par_a, par_i)\u001b[0m\n\u001b[0;32m    182\u001b[0m loc_mandel \u001b[38;5;241m=\u001b[39m np\u001b[38;5;241m.\u001b[39mzeros(loc_sizecount)\n\u001b[0;32m    183\u001b[0m \u001b[38;5;28;01mfor\u001b[39;00m loc_j \u001b[38;5;129;01min\u001b[39;00m \u001b[38;5;28mrange\u001b[39m(loc_sizecount):\n\u001b[1;32m--> 184\u001b[0m     loc_mandel[loc_j] \u001b[38;5;241m=\u001b[39m  \u001b[43mmandel_i\u001b[49m\u001b[43m(\u001b[49m\u001b[43mpar_samples\u001b[49m\u001b[43m[\u001b[49m\u001b[43mloc_j\u001b[49m\u001b[43m]\u001b[49m\u001b[43m,\u001b[49m\u001b[43m \u001b[49m\u001b[43mpar_i\u001b[49m\u001b[43m)\u001b[49m\n\u001b[0;32m    186\u001b[0m ret_area \u001b[38;5;241m=\u001b[39m mandelbrot_area(loc_mandel,loc_sizecount,loc_tot_area)\n\u001b[0;32m    187\u001b[0m \u001b[38;5;28;01mreturn\u001b[39;00m ret_area\n",
      "Input \u001b[1;32mIn [157]\u001b[0m, in \u001b[0;36mmandel_i\u001b[1;34m(par_c, par_i)\u001b[0m\n\u001b[0;32m    107\u001b[0m \u001b[38;5;28;01mfor\u001b[39;00m _ \u001b[38;5;129;01min\u001b[39;00m \u001b[38;5;28mrange\u001b[39m(par_i):\n\u001b[0;32m    108\u001b[0m     x \u001b[38;5;241m=\u001b[39m mandel(x, par_c)\n\u001b[1;32m--> 110\u001b[0m     cond \u001b[38;5;241m=\u001b[39m \u001b[43mmandel_cond\u001b[49m\u001b[43m(\u001b[49m\u001b[43mx\u001b[49m\u001b[43m)\u001b[49m\n\u001b[0;32m    111\u001b[0m     \u001b[38;5;28;01mif\u001b[39;00m cond:\n\u001b[0;32m    112\u001b[0m         \u001b[38;5;28;01mreturn\u001b[39;00m \u001b[38;5;241m1\u001b[39m\n",
      "Input \u001b[1;32mIn [157]\u001b[0m, in \u001b[0;36mmandel_cond\u001b[1;34m(par_x)\u001b[0m\n\u001b[0;32m     89\u001b[0m \u001b[38;5;124;03m'''\u001b[39;00m\n\u001b[0;32m     90\u001b[0m \u001b[38;5;124;03mdefine the breaking condition\u001b[39;00m\n\u001b[0;32m     91\u001b[0m \u001b[38;5;124;03m'''\u001b[39;00m\n\u001b[0;32m     92\u001b[0m [x_r,x_z] \u001b[38;5;241m=\u001b[39m par_x\n\u001b[1;32m---> 94\u001b[0m magn \u001b[38;5;241m=\u001b[39m (\u001b[43mx_r\u001b[49m\u001b[38;5;241;43m*\u001b[39;49m\u001b[38;5;241;43m*\u001b[39;49m\u001b[38;5;241;43m2\u001b[39;49m\u001b[43m \u001b[49m\u001b[38;5;241;43m+\u001b[39;49m\u001b[43m \u001b[49m\u001b[43mx_z\u001b[49m\u001b[38;5;241;43m*\u001b[39;49m\u001b[38;5;241;43m*\u001b[39;49m\u001b[38;5;241;43m2\u001b[39;49m)\u001b[38;5;241m*\u001b[39m\u001b[38;5;241m*\u001b[39m\u001b[38;5;241m0.5\u001b[39m\n\u001b[0;32m     95\u001b[0m \u001b[38;5;28;01mif\u001b[39;00m magn \u001b[38;5;241m>\u001b[39m \u001b[38;5;241m2\u001b[39m:\n\u001b[0;32m     96\u001b[0m     \u001b[38;5;28;01mreturn\u001b[39;00m \u001b[38;5;241m1\u001b[39m\n",
      "\u001b[1;31mKeyboardInterrupt\u001b[0m: "
     ]
    }
   ],
   "source": [
    "area = [-2, 1, -1, 1]     # Edges of the area\n",
    "Iterations = 500\n",
    "Samples = 15\n",
    "np.random.seed(1337)\n",
    "area_estimate_uni_s = func_s_log_uni(area,Iterations,Samples,par_i_range=False,par_s_range=True)"
   ]
  },
  {
   "cell_type": "code",
   "execution_count": null,
   "id": "3521225b",
   "metadata": {},
   "outputs": [],
   "source": [
    "\n",
    "plt.semilogy(area_estimate_uni_s,'g-',label= \"Area of Mandelbrot\")\n",
    "plt.title(\"Area Estimation after with 2^n universal samples\",size=20)\n",
    "plt.xlabel('2^n universal-samples',size=20)\n",
    "plt.ylabel('Area Estimation',size=20)\n",
    "plt.legend()\n",
    "#fig.savefig('figure1.png', dpi=300)\n",
    "plt.show()"
   ]
  },
  {
   "cell_type": "code",
   "execution_count": null,
   "id": "8e22a358",
   "metadata": {},
   "outputs": [],
   "source": [
    "area = [-2, 1, -1, 1]     # Edges of the area\n",
    "Iterations = 50\n",
    "Samples = 10\n",
    "np.random.seed(1337)\n",
    "area_estimate_uni_i = func_s_log_uni(area,Iterations,Samples,par_i_range=True,par_s_range=False)"
   ]
  },
  {
   "cell_type": "code",
   "execution_count": null,
   "id": "e9185184",
   "metadata": {},
   "outputs": [],
   "source": [
    "\n",
    "plt.semilogy(area_estimate_uni_i[0],'g-',label= \"Area of Mandelbrot\")\n",
    "plt.title(\"Area Estimation after i Iterations universal sampling\",size=20)\n",
    "plt.xlabel('Iteration',size=20)\n",
    "plt.ylabel('Area Estimation',size=20)\n",
    "plt.legend()\n",
    "#fig.savefig('figure1.png', dpi=300)\n",
    "plt.show()"
   ]
  },
  {
   "cell_type": "code",
   "execution_count": 164,
   "id": "ddf7ff26",
   "metadata": {},
   "outputs": [
    {
     "data": {
      "application/vnd.jupyter.widget-view+json": {
       "model_id": "39680617724544d793d662f4ffab1288",
       "version_major": 2,
       "version_minor": 0
      },
      "text/plain": [
       "IntProgress(value=0, max=16)"
      ]
     },
     "metadata": {},
     "output_type": "display_data"
    }
   ],
   "source": [
    "area = [-2, 1, -1, 1]     # Edges of the area\n",
    "Iterations = 500\n",
    "Samples = 15\n",
    "np.random.seed(1337)\n",
    "area_estimate_ortho_s = func_s_log_ortho(area,Iterations,Samples,par_i_range=False,par_s_range=True)"
   ]
  },
  {
   "cell_type": "code",
   "execution_count": 165,
   "id": "202a5cd0",
   "metadata": {},
   "outputs": [
    {
     "data": {
      "image/png": "[encoded data removed]",
      "text/plain": [
       "<Figure size 432x288 with 1 Axes>"
      ]
     },
     "metadata": {
      "needs_background": "light"
     },
     "output_type": "display_data"
    }
   ],
   "source": [
    "\n",
    "plt.semilogy(area_estimate_ortho_s,'g-',label= \"Area of Mandelbrot\")\n",
    "plt.title(\"Area Estimation after with 2^n orthogonal samples\",size=20)\n",
    "plt.xlabel('2^n orthogonal-samples',size=20)\n",
    "plt.ylabel('Area Estimation',size=20)\n",
    "plt.legend()\n",
    "#fig.savefig('figure1.png', dpi=300)\n",
    "plt.show()"
   ]
  },
  {
   "cell_type": "code",
   "execution_count": 166,
   "id": "0456f48e",
   "metadata": {},
   "outputs": [
    {
     "data": {
      "application/vnd.jupyter.widget-view+json": {
       "model_id": "8e61fdb5954743a38bcf057bf4cc01bf",
       "version_major": 2,
       "version_minor": 0
      },
      "text/plain": [
       "IntProgress(value=0, max=11)"
      ]
     },
     "metadata": {},
     "output_type": "display_data"
    },
    {
     "data": {
      "application/vnd.jupyter.widget-view+json": {
       "model_id": "6cd6b7e4c693407e95e7ab83b12d76c8",
       "version_major": 2,
       "version_minor": 0
      },
      "text/plain": [
       "IntProgress(value=0, max=50)"
      ]
     },
     "metadata": {},
     "output_type": "display_data"
    }
   ],
   "source": [
    "area = [-2, 1, -1, 1]     # Edges of the area\n",
    "Iterations = 50\n",
    "Samples = 10\n",
    "np.random.seed(1337)\n",
    "area_estimate_ortho_i = func_s_log_ortho(area,Iterations,Samples,par_i_range=True,par_s_range=False)"
   ]
  },
  {
   "cell_type": "code",
   "execution_count": 167,
   "id": "4eb6e2b0",
   "metadata": {},
   "outputs": [
    {
     "data": {
      "image/png": "[encoded data removed]",
      "text/plain": [
       "<Figure size 432x288 with 1 Axes>"
      ]
     },
     "metadata": {
      "needs_background": "light"
     },
     "output_type": "display_data"
    }
   ],
   "source": [
    "\n",
    "plt.semilogy(area_estimate_ortho_i[0],'g-',label= \"Area of Mandelbrot\")\n",
    "plt.title(\"Area Estimation after i Iterations orthogonal sampling\",size=20)\n",
    "plt.xlabel('Iteration',size=20)\n",
    "plt.ylabel('Area Estimation',size=20)\n",
    "plt.legend()\n",
    "#fig.savefig('figure1.png', dpi=300)\n",
    "plt.show()"
   ]
  },
  {
   "cell_type": "code",
   "execution_count": 19,
   "id": "9077a80a",
   "metadata": {},
   "outputs": [],
   "source": [
    "#area = [-2, 1, -1, 1]\n",
    "#n_arr = 132726\n",
    "import numpy as np\n",
    "samples_in_arr = [0,256,512,1024,2041,4056,8152,16336,32726,65092,130678,262092,523983,1055024,2103114,4229692]\n",
    "\n",
    "ccolors = [\"k.\",\"k.\",\"c.\",\"b.\",\"g.\",\"y.\",\"m.\",\"r.\",\"c.\",\"b.\",\"g.\",\"y.\",\"m.\",\"r.\"]\n",
    "cumulative_samples = np.cumsum(samples_in_arr)\n"
   ]
  },
  {
   "cell_type": "code",
   "execution_count": 20,
   "id": "fa1793af",
   "metadata": {},
   "outputs": [
    {
     "data": {
      "text/plain": [
       "14"
      ]
     },
     "execution_count": 20,
     "metadata": {},
     "output_type": "execute_result"
    }
   ],
   "source": [
    "len(ccolors)"
   ]
  },
  {
   "cell_type": "code",
   "execution_count": 26,
   "id": "fe0c8fe5",
   "metadata": {},
   "outputs": [
    {
     "data": {
      "text/plain": [
       "array([341, 434, 492, 441, 383, 315, 457, 296, 319, 448, 390, 256, 301,\n",
       "       302, 499, 364, 431, 264, 373, 465, 384, 463, 308, 439, 372, 388,\n",
       "       289, 258, 478, 453, 467, 352, 420, 413, 264, 413, 468, 452, 345,\n",
       "       448, 285, 478, 428, 461, 481, 265, 409, 351, 316, 294, 403, 348,\n",
       "       425, 346, 429, 345, 361, 401, 350, 503, 480, 498, 258, 300, 346,\n",
       "       302, 411, 377, 401, 385, 344, 338, 473, 394, 330, 378, 506, 395,\n",
       "       405, 415, 504, 359, 444, 317, 296, 381, 460, 303, 415, 390, 404,\n",
       "       290, 471, 347, 427, 305, 316, 300, 502, 495, 301, 357, 315, 425,\n",
       "       270, 510, 499, 482, 327, 484, 427, 468, 325, 396, 499, 273, 379,\n",
       "       372, 473, 418, 384, 400, 346, 359, 487, 299, 426, 475, 402, 439,\n",
       "       323, 377, 466, 500, 342, 260, 307, 369, 469, 455, 338, 454, 268,\n",
       "       309, 427, 314, 354, 296, 381, 349, 380, 358, 417, 383, 352, 466,\n",
       "       419, 457, 365, 305, 328, 466, 448, 425, 418, 343, 478, 333, 475,\n",
       "       328, 380, 321, 381, 472, 359, 427, 337, 388, 507, 304, 457, 375,\n",
       "       346, 326, 291, 403, 465, 426, 366, 285, 285, 451, 468, 317, 357,\n",
       "       332, 409, 361, 430, 412, 273, 307, 442, 511, 260, 323, 358, 358,\n",
       "       490, 287, 415, 488, 486, 389, 286, 301, 295, 283, 399, 478, 479,\n",
       "       440, 474, 366, 290, 419, 382, 377, 407, 488, 371, 271, 372, 339,\n",
       "       388, 475, 418, 479, 366, 297, 350, 283, 284, 496, 272, 332, 371,\n",
       "       471, 361, 266, 413, 316, 422, 412, 359, 304])"
      ]
     },
     "execution_count": 26,
     "metadata": {},
     "output_type": "execute_result"
    }
   ],
   "source": [
    "np.random.randint(samples_in_arr[1],samples_in_arr[2],256)"
   ]
  },
  {
   "cell_type": "code",
   "execution_count": null,
   "id": "20bee5a0",
   "metadata": {},
   "outputs": [],
   "source": [
    "\n",
    "plt.figure(figsize=(20, 10))\n",
    "for i in range(len(samples_in_arr)-1):\n",
    "    plot_this = np.random.sample(area_estimate_ortho_i[cumulative_samples[i]:cumulative_samples[i+1]],256)\n",
    "    orthos = np.transpose(plot_this)\n",
    "    plt.plot( orthos[0],orthos[1], ccolors[i],linewidth=0.001)\n",
    "plt.ylim(-1,1)\n",
    "plt.xlim(-2,1)\n",
    "plt.axvline(-0.5)\n",
    "plt.axvline(-1.25)\n",
    "plt.axvline(0.25)\n",
    "plt.axhline(0)\n",
    "plt.axhline(0.5)\n",
    "plt.axhline(-0.5)\n",
    "plt.show()"
   ]
  }
 ],
 "metadata": {
  "kernelspec": {
   "display_name": "Python 3 (ipykernel)",
   "language": "python",
   "name": "python3"
  },
  "language_info": {
   "codemirror_mode": {
    "name": "ipython",
    "version": 3
   },
   "file_extension": ".py",
   "mimetype": "text/x-python",
   "name": "python",
   "nbconvert_exporter": "python",
   "pygments_lexer": "ipython3",
   "version": "3.9.13"
  }
 },
 "nbformat": 4,
 "nbformat_minor": 5
}
