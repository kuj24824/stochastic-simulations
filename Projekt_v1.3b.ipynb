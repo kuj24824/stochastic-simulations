{
 "cells": [
  {
   "cell_type": "code",
   "execution_count": 1,
   "id": "6182a94a",
   "metadata": {},
   "outputs": [],
   "source": [
    "import math\n",
    "import numpy as np\n",
    "from scipy.stats import qmc\n",
    "import matplotlib.pyplot as plt\n",
    "from ipywidgets import IntProgress\n",
    "from IPython.display import display\n",
    "import time\n",
    "\n",
    "np.random.seed(1)\n",
    "\n",
    "def scale_sample(par_r, par_z, par_a):\n",
    "    \n",
    "    [r_min, r_max, z_min, z_max] = par_a\n",
    "        \n",
    "    # Scale the variables to the sampling area\n",
    "    dist_r = r_max - r_min\n",
    "    dist_z = z_max - z_min\n",
    "\n",
    "    r = (dist_r * par_r) + r_min\n",
    "    z = (dist_z * par_z) + z_min\n",
    "        \n",
    "    return r, z\n",
    "\n",
    "def total_area(par_a):\n",
    "    '''\n",
    "    define the sampling area\n",
    "    '''\n",
    "    [r_min, r_max, z_min, z_max] = par_a\n",
    "    \n",
    "    return (r_max - r_min) * (z_max - z_min)\n",
    "\n",
    "def total_samplecount(par_a,par_d):\n",
    "    '''\n",
    "    define the sampling area\n",
    "    '''\n",
    "    [r_min, r_max, z_min, z_max] = par_a\n",
    "    r_len = (r_max - r_min)/par_d\n",
    "    z_len = (z_max - z_min)/par_d\n",
    "    return  r_len* z_len\n",
    "\n",
    "\n",
    "\n",
    "\n",
    "def mandelbrot_area(par_mandel,par_sizecount,par_area):\n",
    "    '''\n",
    "    define the sampling area\n",
    "    '''\n",
    "    if par_sizecount == 0:\n",
    "        return 0\n",
    "    if par_mandel.ndim < 1:\n",
    "        return par_mandel\n",
    "    elif  par_mandel.ndim == 1:\n",
    "        mandel_in_area = sum(1-par_mandel)\n",
    "    elif  par_mandel.ndim == 2:\n",
    "        mandel_in_area = sum(sum(1-par_mandel)) \n",
    "    elif  par_mandel.ndim == 3:\n",
    "        mandel_in_area = sum(sum(sum(1-par_mandel)))\n",
    "    elif  par_mandel.ndim >3:\n",
    "        print(\"too many dimensions!\")\n",
    "        return 0\n",
    "    ret_area = (mandel_in_area/par_sizecount) * par_area\n",
    "    return  ret_area\n",
    "\n",
    "\n",
    "def grid(par_a, par_d):\n",
    "    '''\n",
    "    define grid for the sampling area\n",
    "    '''\n",
    "    [r_min, r_max, z_min, z_max] = par_a\n",
    "    \n",
    "    r_axis = np.arange(r_min, r_max + par_d, par_d)\n",
    "    z_axis = np.arange(z_min, z_max + par_d, par_d)\n",
    "    \n",
    "    zz, rr = np.meshgrid(z_axis, r_axis)\n",
    "    \n",
    "    return zz, rr\n",
    "\n",
    "def mandel(par_x,par_c):\n",
    "    '''\n",
    "    next step in mandelbrot iteration\n",
    "    '''\n",
    "    [x_r,x_z] = par_x\n",
    "    [c_r,c_z] = par_c\n",
    "    \n",
    "    return [x_r**2 - x_z**2 + c_r, 2 * x_r * x_z + c_z]\n",
    "\n",
    "\n",
    "def mandel_cond(par_x):\n",
    "    '''\n",
    "    define the breaking condition\n",
    "    '''\n",
    "    [x_r,x_z] = par_x\n",
    "    \n",
    "    magn = (x_r**2 + x_z**2)**0.5\n",
    "    if magn > 2:\n",
    "        return 1\n",
    "    \n",
    "    return 0\n",
    "    \n",
    "           \n",
    "           \n",
    "def mandel_i(par_c,par_i):\n",
    "    '''\n",
    "    define the iteration loop breaking after i iterations\n",
    "    '''\n",
    "    x = [0, 0]\n",
    "    for _ in range(par_i):\n",
    "        x = mandel(x, par_c)\n",
    "        \n",
    "        cond = mandel_cond(x)\n",
    "        if cond:\n",
    "            return 1\n",
    "    \n",
    "    return 0\n",
    "    \n",
    "    \n",
    "def mandel_a(par_a, par_i, par_d):\n",
    "    '''\n",
    "    define the iteration loop for a square of size a with spacing d\n",
    "    '''\n",
    "    [r_min, r_max, z_min, z_max] = par_a\n",
    "    r_axis = np.arange(r_min, r_max + par_d, par_d)\n",
    "    z_axis = np.arange(z_min, z_max + par_d, par_d)\n",
    "    \n",
    "    plane = np.zeros((len(r_axis), len(z_axis)))\n",
    "    \n",
    "    for r in range(len(r_axis)):\n",
    "        for z in range(len(z_axis)):\n",
    "            c = [r_axis[r], z_axis[z]]\n",
    "            \n",
    "            result = mandel_i(c, par_i)\n",
    "            plane[r, z] = result\n",
    "    \n",
    "    return plane   \n",
    "\n",
    "\n",
    "def subspacing(par_a,par_subspaces):\n",
    "    \n",
    "    ret_subareas = np.zeros(np.append(par_subspaces,4))\n",
    "    [r_min, r_max, z_min, z_max] = par_a\n",
    "    loc_subarea = np.zeros((par_subspaces[0],4))\n",
    "    if par_subspaces[0]%2 ==0:\n",
    "        r_span = (r_max - r_min) /(par_subspaces[0]/2)\n",
    "        z_span = (z_max - z_min) /2\n",
    "    elif (r_max - r_min)<(z_max - z_min):\n",
    "        r_span = (r_max - r_min)\n",
    "        z_span = (z_max - z_min) /(par_subspaces[0])\n",
    "    else:\n",
    "        r_span = (r_max - r_min) /(par_subspaces[0])\n",
    "        z_span = (z_max - z_min)\n",
    "\n",
    "    for i in range(par_subspaces[0]):\n",
    "        \n",
    "        if par_subspaces[0]%2 ==0:\n",
    "            loc_r_i = math.floor(i/2)\n",
    "            loc_z_i = i%2\n",
    "        elif (r_max - r_min)<(z_max - z_min):\n",
    "            loc_r_i = 0\n",
    "            loc_z_i = i\n",
    "        else:\n",
    "            loc_r_i = i\n",
    "            loc_z_i = 0\n",
    "            \n",
    "        loc_subarea[i] =  [r_min+ r_span*loc_r_i,r_min+ r_span*(loc_r_i+1) ,z_min+ z_span*loc_z_i,z_min+ z_span*(loc_z_i+1) ]\n",
    "        \n",
    "        if len(par_subspaces) == 1:\n",
    "            \n",
    "            ret_subareas[i] = loc_subarea[i]\n",
    "        else:\n",
    "            ret_subareas[i] = subspacing(loc_subarea[i],par_subspaces[1:])\n",
    "    return ret_subareas\n",
    "    \n",
    "    \n",
    "def func_i(par_samples,par_a,par_i):\n",
    "    '''\n",
    "    Define function consdering the amount of maximal iterations \n",
    "    returning its specific area\n",
    "    '''\n",
    "    \n",
    "    loc_tot_area = total_area(par_a)\n",
    "    loc_sizecount = len(par_samples)\n",
    "    loc_mandel = np.zeros(loc_sizecount)\n",
    "    for loc_j in range(loc_sizecount):\n",
    "        loc_mandel[loc_j] =  mandel_i(par_samples[loc_j], par_i)\n",
    "        \n",
    "    ret_area = mandelbrot_area(loc_mandel,loc_sizecount,loc_tot_area)\n",
    "    return ret_area\n",
    "    \n",
    "\n",
    "\n",
    "\n",
    "    \n",
    "def func_j_i(par_samples,par_a,par_i):\n",
    "    '''\n",
    "    Define function considering the improvement after j steps\n",
    "    returning the area for all precisions until i\n",
    "    '''\n",
    "    f = IntProgress(min=0, max=par_i) # instantiate the bar\n",
    "    display(f)\n",
    "    ret_area = []\n",
    "    for loc_j in range(par_i):\n",
    "        f.value +=1\n",
    "        ret_area.append(func_i(par_samples,par_a,loc_j))\n",
    "    return ret_area\n",
    "\n",
    "\n",
    "def func_s_log_uni(par_a,par_i,par_s,par_i_range=False,par_s_range=False):\n",
    "    '''\n",
    "    pure random sampling\n",
    "    Define function considering the improvement after j steps\n",
    "    returning the area for all precisions until i\n",
    "    '''\n",
    "    f = IntProgress(min=0, max=par_s+1) # instantiate the bar\n",
    "    display(f)\n",
    "    loc_tot_area = total_area(par_a)\n",
    "    \n",
    "    if par_i_range == True and par_s_range == True:\n",
    "        ret_area = np.empty((par_s,par_i))\n",
    "    elif par_i_range == True:\n",
    "        ret_area = np.empty((1,par_i))\n",
    "    elif par_s_range == True:\n",
    "        ret_area = np.empty((par_s,1))\n",
    "    else:\n",
    "        ret_area = np.empty((1,1))\n",
    "        \n",
    "        \n",
    "    if par_s_range == True:\n",
    "        start_s = 1\n",
    "    else:\n",
    "        start_s = par_s\n",
    "    \n",
    "    for loc_s in range(start_s,par_s+1):\n",
    "        f.value = loc_s\n",
    "        sample_size = 2**loc_s\n",
    "        loc_samples = np.empty((sample_size,2))\n",
    "        \n",
    "        #######\n",
    "        #create sample array(start)\n",
    "        ######\n",
    "        for loc_sub_s in range(sample_size):\n",
    "            \n",
    "            loc_r = (par_a[1]-par_a[0]) * np.random.rand() + par_a[0]\n",
    "            loc_z = (par_a[3]-par_a[2]) * np.random.rand() + par_a[2]\n",
    "            \n",
    "            loc_samples[loc_sub_s] = [loc_r,loc_z]\n",
    "        \n",
    "        #######\n",
    "        #create sample array(end)\n",
    "        ######\n",
    "        \n",
    "        #enter sample array to \n",
    "        \n",
    "        if par_i_range == True:\n",
    "            loc_temp_result = func_j_i(loc_samples,par_a,par_i)\n",
    "            ret_area[loc_s-start_s] = loc_temp_result - loc_temp_result[-1]\n",
    "        else:\n",
    "            ret_area[loc_s-start_s] = func_i(loc_samples,par_a,par_i)\n",
    "        \n",
    "        \n",
    "    if par_s_range == True and par_i_range ==False:\n",
    "        ret_area = ret_area - ret_area[-1]\n",
    "        \n",
    "    return abs(ret_area)\n",
    "\n",
    "def random_permutation(array):\n",
    "    # Set index k equal to the final element in the array\n",
    "    k = len(array) - 1\n",
    "    \n",
    "    while k > 1:\n",
    "        element = array[k]\n",
    "        # Generate random index to swap with index k\n",
    "        index = int(k * np.random.uniform()) + 1\n",
    "        array[k] = array[index]\n",
    "        array[index] = element\n",
    "        \n",
    "        k -= 1\n",
    "    \n",
    "    return array\n",
    "\n",
    "def latin_hypercube_sampling_1d(par_s):\n",
    "    '''\n",
    "    function that returns s sampling points each in an interval [j/s, (j+1)s] with j = 0, 1, ..., s-1\n",
    "    '''\n",
    "\n",
    "    samples = np.zeros(par_s)\n",
    "    for s in range(par_s):\n",
    "        samples[s] = (s + np.random.uniform()) / n\n",
    "        \n",
    "    return samples\n",
    "    \n",
    "def latin_hypercube_sampling_2d(par_s):\n",
    "    '''\n",
    "    function that returns a latin hypercube of sampling points in 2 dimensions\n",
    "    '''\n",
    "    \n",
    "    # Array to store the sampling points\n",
    "    samples = np.zeros((par_s, 2))\n",
    "    \n",
    "    x = random_permutation(latin_hypercube_sampling_1d(par_s))\n",
    "    y = random_permutation(latin_hypercube_sampling_1d(par_s))\n",
    "    \n",
    "    # Combine the x and y coordinate to form a sampling point\n",
    "    for s in range(par_s):\n",
    "        index_x = 0\n",
    "        index_y = 0\n",
    "        # Sampling points are not allowed to be on the same row or column\n",
    "        if math.trunc(y[index_y] * par_s) == math.trunc(x[index_y] * par_s):\n",
    "            # Generate a random index to swap with\n",
    "            index_y = int((len(y) - 1) * np.random.uniform())\n",
    "            if index_y == 0:\n",
    "                index_y += 1\n",
    "        \n",
    "        # Add sampling point to the array\n",
    "        samples[s, 0] = x[index_x]\n",
    "        samples[s, 1] = y[index_y]\n",
    "        \n",
    "        # Delete the used coordinates, so they cannot be used in the swap anymore\n",
    "        x = np.delete(x, index_x)\n",
    "        y = np.delete(y, index_y)\n",
    "\n",
    "    return samples\n",
    "\n",
    "def func_s_log_latin(par_a,par_i,par_s,par_i_range=False,par_s_range=False):\n",
    "    '''\n",
    "    latin hypercube sampling\n",
    "    Define function considering the improvement after j steps\n",
    "    returning the area for all precisions until i\n",
    "    '''\n",
    "    f = IntProgress(min=0, max=par_s+1) # instantiate the bar\n",
    "    display(f)\n",
    "    loc_tot_area = total_area(par_a)\n",
    "    \n",
    "    if par_i_range == True and par_s_range == True:\n",
    "        ret_area = np.empty((par_s,par_i))\n",
    "    elif par_i_range == True:\n",
    "        ret_area = np.empty((1,par_i))\n",
    "    elif par_s_range == True:\n",
    "        ret_area = np.empty((par_s,1))\n",
    "    else:\n",
    "        ret_area = np.empty((1,1))\n",
    "        \n",
    "        \n",
    "    if par_s_range == True:\n",
    "        start_s = 1\n",
    "    else:\n",
    "        start_s = par_s\n",
    "    \n",
    "    for loc_s in range(start_s,par_s+1):\n",
    "        f.value = loc_s\n",
    "        sample_size = 2**loc_s\n",
    "        \n",
    "        #######\n",
    "        #create sample array(start)\n",
    "        ######\n",
    "        \n",
    "        loc_samples = latin_hypercube_sampling_2d(loc_s)\n",
    "\n",
    "        #######\n",
    "        #create sample array(end)\n",
    "        ######\n",
    "        \n",
    "        #enter sample array to \n",
    "        \n",
    "        if par_i_range == True:\n",
    "            loc_temp_result = func_j_i(loc_samples,par_a,par_i)\n",
    "            ret_area[loc_s-start_s] = loc_temp_result - loc_temp_result[-1]\n",
    "        else:\n",
    "            ret_area[loc_s-start_s] = func_i(loc_samples,par_a,par_i)\n",
    "        \n",
    "        \n",
    "    if par_s_range == True and par_i_range ==False:\n",
    "        ret_area = ret_area - ret_area[-1]\n",
    "        \n",
    "    return abs(ret_area)\n",
    "\n",
    "\n",
    "def ortho_sampling(par_subspacing,par_sample_size):\n",
    "    ret_samples = np.empty((0,2))\n",
    "    loc_subspace_dim = np.shape(par_subspacing)\n",
    "    #get the amount of samples per subspace \n",
    "    loc_samples_per_subspace = par_sample_size/loc_subspace_dim[0]\n",
    "    loc_samples_collected = 0\n",
    "    for loc_sub_s in range(loc_subspace_dim[0]):\n",
    "        loc_sample_for_subspace = max([0,math.ceil((loc_samples_per_subspace * (loc_sub_s+1))-loc_samples_collected )])\n",
    "        if len(loc_subspace_dim) ==2:\n",
    "            for j in range(loc_sample_for_subspace):\n",
    "                loc_r = (par_subspacing[loc_sub_s][1]-par_subspacing[loc_sub_s][0]) * np.random.rand() + par_subspacing[loc_sub_s][0]\n",
    "                loc_z = (par_subspacing[loc_sub_s][3]-par_subspacing[loc_sub_s][2]) * np.random.rand() + par_subspacing[loc_sub_s][2]\n",
    "                #ret_samples[loc_samples_collected+ loc_sub_s] = [loc_r,loc_z]\n",
    "                ret_samples = np.append(ret_samples,[[loc_r,loc_z]],axis=0)\n",
    "        else:\n",
    "            ret_samples = np.append(ret_samples,ortho_sampling(par_subspacing[loc_sub_s],loc_sample_for_subspace),axis=0)\n",
    "        loc_samples_collected += loc_sample_for_subspace\n",
    "    return ret_samples\n",
    "\n",
    "\n",
    "def func_s_log_ortho(par_a,par_i,par_s,par_i_range=False,par_s_range=False):\n",
    "    '''\n",
    "    pure random sampling\n",
    "    Define function considering the improvement after j steps\n",
    "    returning the area for all precisions until i\n",
    "    '''\n",
    "    f = IntProgress(min=0, max=par_s+1) # instantiate the bar\n",
    "    display(f)\n",
    "    loc_tot_area = total_area(par_a)\n",
    "    \n",
    "    if par_i_range == True and par_s_range == True:\n",
    "        ret_area = np.empty((par_s,par_i))\n",
    "    elif par_i_range == True:\n",
    "        ret_area = np.empty((1,par_i))\n",
    "    elif par_s_range == True:\n",
    "        ret_area = np.empty((par_s,1))\n",
    "    else:\n",
    "        ret_area = np.empty((1,1))\n",
    "        \n",
    "        \n",
    "    if par_s_range == True:\n",
    "        start_s = 1\n",
    "    else:\n",
    "        start_s = par_s\n",
    "    \n",
    "    for loc_s in range(start_s,par_s+1):\n",
    "        f.value = loc_s\n",
    "        sample_size = 2**loc_s\n",
    "        loc_samples = np.empty((sample_size,2))\n",
    "        \n",
    "        #######\n",
    "        #create sample array(start)\n",
    "        ######\n",
    "        subspace_dim = [4,4]\n",
    "        loc_subspacing = subspacing(par_a,subspace_dim)\n",
    "        loc_samples = ortho_sampling(loc_subspacing,sample_size)\n",
    "        \n",
    "        #######\n",
    "        #create sample array(end)\n",
    "        ######\n",
    "        \n",
    "        #enter sample array to \n",
    "        \n",
    "        if par_i_range == True:\n",
    "            loc_temp_result = func_j_i(loc_samples,par_a,par_i)\n",
    "            ret_area[loc_s-start_s] = loc_temp_result - loc_temp_result[-1]\n",
    "        else:\n",
    "            ret_area[loc_s-start_s] = func_i(loc_samples,par_a,par_i)\n",
    "        \n",
    "        \n",
    "    if par_s_range == True and par_i_range ==False:\n",
    "        ret_area = ret_area - ret_area[-1]\n",
    "        \n",
    "    return abs(ret_area)\n",
    "\n",
    "\n",
    "\n",
    "\n",
    "def func_s_d_latin(par_a,par_i,par_s, par_method):\n",
    "    '''\n",
    "    latin square sampling\n",
    "    Define function considering the improvement after j steps\n",
    "    returning the area for all precisions until i\n",
    "    '''\n",
    "    f = IntProgress(min=0, max=par_i+1) # instantiate the bar\n",
    "    display(f)\n",
    "    loc_tot_area = total_area(par_a)\n",
    "    mandelbrot_a = []\n",
    "    \n",
    "    if par_method == 'latin_hypercube':\n",
    "        # Create s samples (in [0, 1)\n",
    "        sampler = qmc.LatinHypercube(d=2)\n",
    "        samples = sampler.random(par_s)\n",
    "    \n",
    "    for loc_j in range(par_i + 1):\n",
    "        f.value +=1\n",
    "        \n",
    "        # Counter for the number of samples in the mandelbrot area\n",
    "        inside = 0\n",
    "        \n",
    "        for s in range(par_s):\n",
    "\n",
    "            if par_method == 'uniform':\n",
    "                # Random uniform variables\n",
    "                r = np.random.uniform()\n",
    "                z = np.random.uniform()\n",
    "\n",
    "            elif par_method == 'latin_hypercube':\n",
    "                # Pick from the next sample in the list\n",
    "                r = samples[s][0]\n",
    "                z = samples[s][1]\n",
    "\n",
    "            # Scale the variables to the sampling area\n",
    "            r, z = scale_sample(r, z, par_a)\n",
    "            \n",
    "            if mandel_i([r, z], loc_j) == 0:\n",
    "                inside += 1\n",
    "        \n",
    "        mandelbrot_a.append((inside/par_s) * loc_tot_area)\n",
    "\n",
    "    return mandelbrot_a\n",
    "\n",
    "\n"
   ]
  },
  {
   "cell_type": "code",
   "execution_count": 2,
   "id": "f9b253c5",
   "metadata": {},
   "outputs": [
    {
     "data": {
      "text/plain": [
       "[-0.010000000000000002, 0.1]"
      ]
     },
     "execution_count": 2,
     "metadata": {},
     "output_type": "execute_result"
    }
   ],
   "source": [
    "mandel([0,0.1],[0.0,0.1])"
   ]
  },
  {
   "cell_type": "code",
   "execution_count": 25,
   "id": "1d358b8a",
   "metadata": {},
   "outputs": [],
   "source": [
    "area = [-2, 1, -1, 1]     # Edges of the area\n",
    "spacing = 0.01            # Distance between 2 point on the grid"
   ]
  },
  {
   "cell_type": "code",
   "execution_count": 8,
   "id": "e6876bec",
   "metadata": {},
   "outputs": [],
   "source": [
    "mandel_plane = mandel_a(area, 1000, spacing)"
   ]
  },
  {
   "cell_type": "code",
   "execution_count": 33,
   "id": "0bad84dc",
   "metadata": {},
   "outputs": [],
   "source": [
    "zz, rr = grid(area, spacing)"
   ]
  },
  {
   "cell_type": "code",
   "execution_count": 34,
   "id": "2f1433d7",
   "metadata": {},
   "outputs": [
    {
     "data": {
      "image/png": "[encoded data removed]",
      "text/plain": [
       "<Figure size 432x288 with 1 Axes>"
      ]
     },
     "metadata": {
      "needs_background": "light"
     },
     "output_type": "display_data"
    }
   ],
   "source": [
    "fig = plt.figure()\n",
    "ax = plt.gca()\n",
    "\n",
    "pc = ax.pcolormesh(rr, zz, mandel_plane)\n",
    "plt.show()"
   ]
  },
  {
   "cell_type": "code",
   "execution_count": 32,
   "id": "ce43ec45",
   "metadata": {},
   "outputs": [
    {
     "data": {
      "application/vnd.jupyter.widget-view+json": {
       "model_id": "4f1b03e972f044a495bedeeafd7aada8",
       "version_major": 2,
       "version_minor": 0
      },
      "text/plain": [
       "IntProgress(value=0, max=1001)"
      ]
     },
     "metadata": {},
     "output_type": "display_data"
    }
   ],
   "source": [
    "area_estimate = func_j_i(area, 1000, 1000, 'uniform')"
   ]
  },
  {
   "cell_type": "code",
   "execution_count": 33,
   "id": "fac02024",
   "metadata": {},
   "outputs": [
    {
     "data": {
      "text/plain": [
       "1.422"
      ]
     },
     "execution_count": 33,
     "metadata": {},
     "output_type": "execute_result"
    }
   ],
   "source": [
    "area_estimate[-1]"
   ]
  },
  {
   "cell_type": "code",
   "execution_count": 10,
   "id": "ca052313",
   "metadata": {},
   "outputs": [
    {
     "data": {
      "text/plain": [
       "1.5081000000000002"
      ]
     },
     "execution_count": 10,
     "metadata": {},
     "output_type": "execute_result"
    }
   ],
   "source": [
    "loc_sizecount = total_samplecount(area,spacing)\n",
    "mandelbrot_area(mandel_plane,loc_sizecount,total_area(area))"
   ]
  },
  {
   "cell_type": "code",
   "execution_count": 163,
   "id": "52817a06",
   "metadata": {},
   "outputs": [
    {
     "data": {
      "application/vnd.jupyter.widget-view+json": {
       "model_id": "2ad252598e41486ba9063a17d5560e54",
       "version_major": 2,
       "version_minor": 0
      },
      "text/plain": [
       "IntProgress(value=0, max=16)"
      ]
     },
     "metadata": {},
     "output_type": "display_data"
    },
    {
     "ename": "KeyboardInterrupt",
     "evalue": "",
     "output_type": "error",
     "traceback": [
      "\u001b[1;31m---------------------------------------------------------------------------\u001b[0m",
      "\u001b[1;31mKeyboardInterrupt\u001b[0m                         Traceback (most recent call last)",
      "Input \u001b[1;32mIn [163]\u001b[0m, in \u001b[0;36m<cell line: 5>\u001b[1;34m()\u001b[0m\n\u001b[0;32m      3\u001b[0m Samples \u001b[38;5;241m=\u001b[39m \u001b[38;5;241m15\u001b[39m\n\u001b[0;32m      4\u001b[0m np\u001b[38;5;241m.\u001b[39mrandom\u001b[38;5;241m.\u001b[39mseed(\u001b[38;5;241m1337\u001b[39m)\n\u001b[1;32m----> 5\u001b[0m area_estimate_uni \u001b[38;5;241m=\u001b[39m \u001b[43mfunc_s_log_uni\u001b[49m\u001b[43m(\u001b[49m\u001b[43marea\u001b[49m\u001b[43m,\u001b[49m\u001b[43mIterations\u001b[49m\u001b[43m,\u001b[49m\u001b[43mSamples\u001b[49m\u001b[43m,\u001b[49m\u001b[43mpar_i_range\u001b[49m\u001b[38;5;241;43m=\u001b[39;49m\u001b[38;5;28;43;01mFalse\u001b[39;49;00m\u001b[43m,\u001b[49m\u001b[43mpar_s_range\u001b[49m\u001b[38;5;241;43m=\u001b[39;49m\u001b[38;5;28;43;01mTrue\u001b[39;49;00m\u001b[43m)\u001b[49m\n",
      "Input \u001b[1;32mIn [157]\u001b[0m, in \u001b[0;36mfunc_s_log_uni\u001b[1;34m(par_a, par_i, par_s, par_i_range, par_s_range)\u001b[0m\n\u001b[0;32m    255\u001b[0m         ret_area[loc_s\u001b[38;5;241m-\u001b[39mstart_s] \u001b[38;5;241m=\u001b[39m loc_temp_result \u001b[38;5;241m-\u001b[39m loc_temp_result[\u001b[38;5;241m-\u001b[39m\u001b[38;5;241m1\u001b[39m]\n\u001b[0;32m    256\u001b[0m     \u001b[38;5;28;01melse\u001b[39;00m:\n\u001b[1;32m--> 257\u001b[0m         ret_area[loc_s\u001b[38;5;241m-\u001b[39mstart_s] \u001b[38;5;241m=\u001b[39m \u001b[43mfunc_i\u001b[49m\u001b[43m(\u001b[49m\u001b[43mloc_samples\u001b[49m\u001b[43m,\u001b[49m\u001b[43mpar_a\u001b[49m\u001b[43m,\u001b[49m\u001b[43mpar_i\u001b[49m\u001b[43m)\u001b[49m\n\u001b[0;32m    260\u001b[0m \u001b[38;5;28;01mif\u001b[39;00m par_s_range \u001b[38;5;241m==\u001b[39m \u001b[38;5;28;01mTrue\u001b[39;00m \u001b[38;5;129;01mand\u001b[39;00m par_i_range \u001b[38;5;241m==\u001b[39m\u001b[38;5;28;01mFalse\u001b[39;00m:\n\u001b[0;32m    261\u001b[0m     ret_area \u001b[38;5;241m=\u001b[39m ret_area \u001b[38;5;241m-\u001b[39m ret_area[\u001b[38;5;241m-\u001b[39m\u001b[38;5;241m1\u001b[39m]\n",
      "Input \u001b[1;32mIn [157]\u001b[0m, in \u001b[0;36mfunc_i\u001b[1;34m(par_samples, par_a, par_i)\u001b[0m\n\u001b[0;32m    182\u001b[0m loc_mandel \u001b[38;5;241m=\u001b[39m np\u001b[38;5;241m.\u001b[39mzeros(loc_sizecount)\n\u001b[0;32m    183\u001b[0m \u001b[38;5;28;01mfor\u001b[39;00m loc_j \u001b[38;5;129;01min\u001b[39;00m \u001b[38;5;28mrange\u001b[39m(loc_sizecount):\n\u001b[1;32m--> 184\u001b[0m     loc_mandel[loc_j] \u001b[38;5;241m=\u001b[39m  \u001b[43mmandel_i\u001b[49m\u001b[43m(\u001b[49m\u001b[43mpar_samples\u001b[49m\u001b[43m[\u001b[49m\u001b[43mloc_j\u001b[49m\u001b[43m]\u001b[49m\u001b[43m,\u001b[49m\u001b[43m \u001b[49m\u001b[43mpar_i\u001b[49m\u001b[43m)\u001b[49m\n\u001b[0;32m    186\u001b[0m ret_area \u001b[38;5;241m=\u001b[39m mandelbrot_area(loc_mandel,loc_sizecount,loc_tot_area)\n\u001b[0;32m    187\u001b[0m \u001b[38;5;28;01mreturn\u001b[39;00m ret_area\n",
      "Input \u001b[1;32mIn [157]\u001b[0m, in \u001b[0;36mmandel_i\u001b[1;34m(par_c, par_i)\u001b[0m\n\u001b[0;32m    107\u001b[0m \u001b[38;5;28;01mfor\u001b[39;00m _ \u001b[38;5;129;01min\u001b[39;00m \u001b[38;5;28mrange\u001b[39m(par_i):\n\u001b[0;32m    108\u001b[0m     x \u001b[38;5;241m=\u001b[39m mandel(x, par_c)\n\u001b[1;32m--> 110\u001b[0m     cond \u001b[38;5;241m=\u001b[39m \u001b[43mmandel_cond\u001b[49m\u001b[43m(\u001b[49m\u001b[43mx\u001b[49m\u001b[43m)\u001b[49m\n\u001b[0;32m    111\u001b[0m     \u001b[38;5;28;01mif\u001b[39;00m cond:\n\u001b[0;32m    112\u001b[0m         \u001b[38;5;28;01mreturn\u001b[39;00m \u001b[38;5;241m1\u001b[39m\n",
      "Input \u001b[1;32mIn [157]\u001b[0m, in \u001b[0;36mmandel_cond\u001b[1;34m(par_x)\u001b[0m\n\u001b[0;32m     89\u001b[0m \u001b[38;5;124;03m'''\u001b[39;00m\n\u001b[0;32m     90\u001b[0m \u001b[38;5;124;03mdefine the breaking condition\u001b[39;00m\n\u001b[0;32m     91\u001b[0m \u001b[38;5;124;03m'''\u001b[39;00m\n\u001b[0;32m     92\u001b[0m [x_r,x_z] \u001b[38;5;241m=\u001b[39m par_x\n\u001b[1;32m---> 94\u001b[0m magn \u001b[38;5;241m=\u001b[39m (\u001b[43mx_r\u001b[49m\u001b[38;5;241;43m*\u001b[39;49m\u001b[38;5;241;43m*\u001b[39;49m\u001b[38;5;241;43m2\u001b[39;49m\u001b[43m \u001b[49m\u001b[38;5;241;43m+\u001b[39;49m\u001b[43m \u001b[49m\u001b[43mx_z\u001b[49m\u001b[38;5;241;43m*\u001b[39;49m\u001b[38;5;241;43m*\u001b[39;49m\u001b[38;5;241;43m2\u001b[39;49m)\u001b[38;5;241m*\u001b[39m\u001b[38;5;241m*\u001b[39m\u001b[38;5;241m0.5\u001b[39m\n\u001b[0;32m     95\u001b[0m \u001b[38;5;28;01mif\u001b[39;00m magn \u001b[38;5;241m>\u001b[39m \u001b[38;5;241m2\u001b[39m:\n\u001b[0;32m     96\u001b[0m     \u001b[38;5;28;01mreturn\u001b[39;00m \u001b[38;5;241m1\u001b[39m\n",
      "\u001b[1;31mKeyboardInterrupt\u001b[0m: "
     ]
    }
   ],
   "source": [
    "area = [-2, 1, -1, 1]     # Edges of the area\n",
    "Iterations = 500\n",
    "Samples = 15\n",
    "np.random.seed(1337)\n",
    "area_estimate_uni_s = func_s_log_uni(area,Iterations,Samples,par_i_range=False,par_s_range=True)"
   ]
  },
  {
   "cell_type": "code",
   "execution_count": null,
   "id": "3521225b",
   "metadata": {},
   "outputs": [],
   "source": [
    "\n",
    "plt.semilogy(area_estimate_uni_s,'g-',label= \"Area of Mandelbrot\")\n",
    "plt.title(\"Area Estimation after with 2^n universal samples\",size=20)\n",
    "plt.xlabel('2^n universal-samples',size=20)\n",
    "plt.ylabel('Area Estimation',size=20)\n",
    "plt.legend()\n",
    "#fig.savefig('figure1.png', dpi=300)\n",
    "plt.show()"
   ]
  },
  {
   "cell_type": "code",
   "execution_count": null,
   "id": "8e22a358",
   "metadata": {},
   "outputs": [],
   "source": [
    "area = [-2, 1, -1, 1]     # Edges of the area\n",
    "Iterations = 50\n",
    "Samples = 10\n",
    "np.random.seed(1337)\n",
    "area_estimate_uni_i = func_s_log_uni(area,Iterations,Samples,par_i_range=True,par_s_range=False)"
   ]
  },
  {
   "cell_type": "code",
   "execution_count": null,
   "id": "e9185184",
   "metadata": {},
   "outputs": [],
   "source": [
    "\n",
    "plt.semilogy(area_estimate_uni_i[0],'g-',label= \"Area of Mandelbrot\")\n",
    "plt.title(\"Area Estimation after i Iterations universal sampling\",size=20)\n",
    "plt.xlabel('Iteration',size=20)\n",
    "plt.ylabel('Area Estimation',size=20)\n",
    "plt.legend()\n",
    "#fig.savefig('figure1.png', dpi=300)\n",
    "plt.show()"
   ]
  },
  {
   "cell_type": "code",
   "execution_count": 164,
   "id": "ddf7ff26",
   "metadata": {},
   "outputs": [
    {
     "data": {
      "application/vnd.jupyter.widget-view+json": {
       "model_id": "39680617724544d793d662f4ffab1288",
       "version_major": 2,
       "version_minor": 0
      },
      "text/plain": [
       "IntProgress(value=0, max=16)"
      ]
     },
     "metadata": {},
     "output_type": "display_data"
    }
   ],
   "source": [
    "area = [-2, 1, -1, 1]     # Edges of the area\n",
    "Iterations = 500\n",
    "Samples = 15\n",
    "np.random.seed(1337)\n",
    "area_estimate_ortho_s = func_s_log_ortho(area,Iterations,Samples,par_i_range=False,par_s_range=True)"
   ]
  },
  {
   "cell_type": "code",
   "execution_count": 165,
   "id": "202a5cd0",
   "metadata": {},
   "outputs": [
    {
     "data": {
      "image/png": "[encoded data removed]",
      "text/plain": [
       "<Figure size 432x288 with 1 Axes>"
      ]
     },
     "metadata": {
      "needs_background": "light"
     },
     "output_type": "display_data"
    }
   ],
   "source": [
    "\n",
    "plt.semilogy(area_estimate_ortho_s,'g-',label= \"Area of Mandelbrot\")\n",
    "plt.title(\"Area Estimation after with 2^n orthogonal samples\",size=20)\n",
    "plt.xlabel('2^n orthogonal-samples',size=20)\n",
    "plt.ylabel('Area Estimation',size=20)\n",
    "plt.legend()\n",
    "#fig.savefig('figure1.png', dpi=300)\n",
    "plt.show()"
   ]
  },
  {
   "cell_type": "code",
   "execution_count": 166,
   "id": "0456f48e",
   "metadata": {},
   "outputs": [
    {
     "data": {
      "application/vnd.jupyter.widget-view+json": {
       "model_id": "8e61fdb5954743a38bcf057bf4cc01bf",
       "version_major": 2,
       "version_minor": 0
      },
      "text/plain": [
       "IntProgress(value=0, max=11)"
      ]
     },
     "metadata": {},
     "output_type": "display_data"
    },
    {
     "data": {
      "application/vnd.jupyter.widget-view+json": {
       "model_id": "6cd6b7e4c693407e95e7ab83b12d76c8",
       "version_major": 2,
       "version_minor": 0
      },
      "text/plain": [
       "IntProgress(value=0, max=50)"
      ]
     },
     "metadata": {},
     "output_type": "display_data"
    }
   ],
   "source": [
    "area = [-2, 1, -1, 1]     # Edges of the area\n",
    "Iterations = 50\n",
    "Samples = 10\n",
    "np.random.seed(1337)\n",
    "area_estimate_ortho_i = func_s_log_ortho(area,Iterations,Samples,par_i_range=True,par_s_range=False)"
   ]
  },
  {
   "cell_type": "code",
   "execution_count": 167,
   "id": "4eb6e2b0",
   "metadata": {},
   "outputs": [
    {
     "data": {
      "image/png": "[encoded data removed]",
      "text/plain": [
       "<Figure size 432x288 with 1 Axes>"
      ]
     },
     "metadata": {
      "needs_background": "light"
     },
     "output_type": "display_data"
    }
   ],
   "source": [
    "\n",
    "plt.semilogy(area_estimate_ortho_i[0],'g-',label= \"Area of Mandelbrot\")\n",
    "plt.title(\"Area Estimation after i Iterations orthogonal sampling\",size=20)\n",
    "plt.xlabel('Iteration',size=20)\n",
    "plt.ylabel('Area Estimation',size=20)\n",
    "plt.legend()\n",
    "#fig.savefig('figure1.png', dpi=300)\n",
    "plt.show()"
   ]
  },
  {
   "cell_type": "code",
   "execution_count": 173,
   "id": "9077a80a",
   "metadata": {},
   "outputs": [],
   "source": []
  }
 ],
 "metadata": {
  "kernelspec": {
   "display_name": "Python 3 (ipykernel)",
   "language": "python",
   "name": "python3"
  },
  "language_info": {
   "codemirror_mode": {
    "name": "ipython",
    "version": 3
   },
   "file_extension": ".py",
   "mimetype": "text/x-python",
   "name": "python",
   "nbconvert_exporter": "python",
   "pygments_lexer": "ipython3",
   "version": "3.9.12"
  }
 },
 "nbformat": 4,
 "nbformat_minor": 5
}
