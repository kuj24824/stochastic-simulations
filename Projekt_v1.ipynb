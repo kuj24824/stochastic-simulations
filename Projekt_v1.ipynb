{
 "cells": [
  {
   "cell_type": "code",
   "execution_count": 2,
   "id": "6182a94a",
   "metadata": {},
   "outputs": [],
   "source": [
    "import math\n",
    "import numpy\n",
    "\n",
    "\n",
    "def mandel(par_x,par_c):\n",
    "    '''\n",
    "    next step in mandelbrot iteration\n",
    "    '''\n",
    "    [x_r,x_z] = par_x\n",
    "    [c_r,c_z] = par_c\n",
    "    ret = [x_r**2 - x_z**2 + c_r, 2 * x_r * x_z + c_z]\n",
    "    return ret\n",
    "\n",
    "\n",
    "def mandel_cond(par_x):\n",
    "    '''\n",
    "    define the breaking condition\n",
    "    '''\n",
    "           \n",
    "           \n",
    "def mandel_i(par_c,par_i):\n",
    "    '''\n",
    "    define the iteration loop breaking after i iterations\n",
    "    '''\n",
    "    \n",
    "    \n",
    "def mandel_s(par_s,par_i):\n",
    "    '''\n",
    "    define the iteration loop for a square of size s\n",
    "    '''\n",
    "    \n",
    "    \n",
    "def func_j_i(par_s,par_i,par_i):\n",
    "    '''\n",
    "    Define function considering the improvment after j steps\n",
    "    '''\n",
    "    "
   ]
  },
  {
   "cell_type": "code",
   "execution_count": 3,
   "id": "f9b253c5",
   "metadata": {},
   "outputs": [
    {
     "data": {
      "text/plain": [
       "[-0.010000000000000002, 0.1]"
      ]
     },
     "execution_count": 3,
     "metadata": {},
     "output_type": "execute_result"
    }
   ],
   "source": [
    "mandel([0,0.1],[0.0,0.1])"
   ]
  },
  {
   "cell_type": "code",
   "execution_count": null,
   "id": "f6596775",
   "metadata": {},
   "outputs": [],
   "source": []
  }
 ],
 "metadata": {
  "kernelspec": {
   "display_name": "Python 3 (ipykernel)",
   "language": "python",
   "name": "python3"
  },
  "language_info": {
   "codemirror_mode": {
    "name": "ipython",
    "version": 3
   },
   "file_extension": ".py",
   "mimetype": "text/x-python",
   "name": "python",
   "nbconvert_exporter": "python",
   "pygments_lexer": "ipython3",
   "version": "3.9.12"
  }
 },
 "nbformat": 4,
 "nbformat_minor": 5
}
